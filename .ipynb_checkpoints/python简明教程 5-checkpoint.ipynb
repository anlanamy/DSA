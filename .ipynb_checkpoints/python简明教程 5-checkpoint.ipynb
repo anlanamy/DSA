{
 "cells": [
  {
   "cell_type": "markdown",
   "metadata": {},
   "source": [
    "参考：https://learnku.com/docs/byte-of-python/2018<br>\n",
    "《A Byte of Python》的中文译本，由社区维护，每年更新"
   ]
  },
  {
   "cell_type": "markdown",
   "metadata": {},
   "source": [
    "##### 看看当前的Python版本"
   ]
  },
  {
   "cell_type": "code",
   "execution_count": 2,
   "metadata": {},
   "outputs": [
    {
     "name": "stdout",
     "output_type": "stream",
     "text": [
      "3.7.4\n"
     ]
    }
   ],
   "source": [
    "from platform import python_version\n",
    "\n",
    "print(python_version())"
   ]
  },
  {
   "cell_type": "markdown",
   "metadata": {},
   "source": [
    "### 第一个Python语句；"
   ]
  },
  {
   "cell_type": "markdown",
   "metadata": {},
   "source": [
    "注意 print 总是以一个不可见的 「新的一行」 字符（\\n）作为结尾，\n",
    "除非给他指定一个end"
   ]
  },
  {
   "cell_type": "code",
   "execution_count": 3,
   "metadata": {},
   "outputs": [
    {
     "name": "stdout",
     "output_type": "stream",
     "text": [
      "Hello World!\n",
      "Tom\n",
      "Hello World! Tom "
     ]
    }
   ],
   "source": [
    "print (\"Hello World!\")\n",
    "print(\"Tom\")\n",
    "print (\"Hello World!\",end=' ')\n",
    "print(\"Tom\", end=' ')"
   ]
  },
  {
   "cell_type": "markdown",
   "metadata": {},
   "source": [
    "超级计算器,超级大的数都没问题."
   ]
  },
  {
   "cell_type": "code",
   "execution_count": 4,
   "metadata": {},
   "outputs": [
    {
     "name": "stdout",
     "output_type": "stream",
     "text": [
      "1267650600228229401496703205376\n"
     ]
    }
   ],
   "source": [
    "print(2**100)"
   ]
  },
  {
   "cell_type": "code",
   "execution_count": 5,
   "metadata": {},
   "outputs": [
    {
     "data": {
      "text/plain": [
       "1267650600228229401496703205376"
      ]
     },
     "execution_count": 5,
     "metadata": {},
     "output_type": "execute_result"
    }
   ],
   "source": [
    "2**100"
   ]
  },
  {
   "cell_type": "markdown",
   "metadata": {},
   "source": [
    "不可变类型的每次赋值操作都生成一个新对象"
   ]
  },
  {
   "cell_type": "code",
   "execution_count": 6,
   "metadata": {},
   "outputs": [
    {
     "name": "stdout",
     "output_type": "stream",
     "text": [
      "4458439952\n",
      "4458439984\n"
     ]
    }
   ],
   "source": [
    "a=5; print(id(a))\n",
    "a=6; print(id(a))"
   ]
  },
  {
   "cell_type": "markdown",
   "metadata": {},
   "source": [
    "元组不能够进行元素赋值"
   ]
  },
  {
   "cell_type": "code",
   "execution_count": 7,
   "metadata": {},
   "outputs": [
    {
     "ename": "TypeError",
     "evalue": "'tuple' object does not support item assignment",
     "output_type": "error",
     "traceback": [
      "\u001b[0;31m---------------------------------------------------------------------------\u001b[0m",
      "\u001b[0;31mTypeError\u001b[0m                                 Traceback (most recent call last)",
      "\u001b[0;32m<ipython-input-7-989b38129c3a>\u001b[0m in \u001b[0;36m<module>\u001b[0;34m\u001b[0m\n\u001b[1;32m      1\u001b[0m \u001b[0ma\u001b[0m\u001b[0;34m=\u001b[0m\u001b[0;36m3\u001b[0m\u001b[0;34m,\u001b[0m\u001b[0;36m4\u001b[0m\u001b[0;34m,\u001b[0m\u001b[0;36m5\u001b[0m\u001b[0;34m\u001b[0m\u001b[0;34m\u001b[0m\u001b[0m\n\u001b[0;32m----> 2\u001b[0;31m \u001b[0ma\u001b[0m\u001b[0;34m[\u001b[0m\u001b[0;36m1\u001b[0m\u001b[0;34m]\u001b[0m\u001b[0;34m=\u001b[0m\u001b[0;36m6\u001b[0m\u001b[0;34m\u001b[0m\u001b[0;34m\u001b[0m\u001b[0m\n\u001b[0m",
      "\u001b[0;31mTypeError\u001b[0m: 'tuple' object does not support item assignment"
     ]
    }
   ],
   "source": [
    "a=3,4,5\n",
    "a[1]=6"
   ]
  },
  {
   "cell_type": "markdown",
   "metadata": {},
   "source": [
    "可变类型可以改变，可以元素赋值；相同的变量可能指向同一个对象，在对象上的操作两个变量都可见。"
   ]
  },
  {
   "cell_type": "code",
   "execution_count": null,
   "metadata": {},
   "outputs": [],
   "source": [
    "l=[1,2,3]\n",
    "m=l\n",
    "print(l)\n",
    "l[1]=\"hahahahaha\"\n",
    "print(l)\n",
    "print(m)"
   ]
  },
  {
   "cell_type": "markdown",
   "metadata": {},
   "source": [
    "###### Python在版本3.0以后对整数的大小不再进行限制，maxint没有了；但对list或str的索引下标仍有限制：sys.maxsize"
   ]
  },
  {
   "cell_type": "code",
   "execution_count": null,
   "metadata": {},
   "outputs": [],
   "source": [
    "import sys\n",
    "print(sys.maxsize)\n",
    "print(sys.maxint)"
   ]
  },
  {
   "cell_type": "markdown",
   "metadata": {},
   "source": [
    "常用的数学函数如sqrt/sin/cos等都在math模块中"
   ]
  },
  {
   "cell_type": "code",
   "execution_count": null,
   "metadata": {},
   "outputs": [],
   "source": [
    "import math\n",
    "print(math.sqrt(2))"
   ]
  },
  {
   "cell_type": "markdown",
   "metadata": {},
   "source": [
    "### 字符串"
   ]
  },
  {
   "cell_type": "markdown",
   "metadata": {},
   "source": [
    "Python字符串不可修改，只能生成新的字符串"
   ]
  },
  {
   "cell_type": "code",
   "execution_count": null,
   "metadata": {},
   "outputs": [],
   "source": [
    "s='hello';\n",
    "print(s)\n",
    "print(id(s))\n",
    "s += \" world\"\n",
    "print(s)\n",
    "print(id(s))\n",
    "s[2]='x'"
   ]
  },
  {
   "cell_type": "markdown",
   "metadata": {},
   "source": [
    "用\\[start:end:step\\]的方式从字符串中提取一部分。"
   ]
  },
  {
   "cell_type": "code",
   "execution_count": null,
   "metadata": {},
   "outputs": [],
   "source": [
    "s='1234567'\n",
    "print(s[1])\n",
    "print(s[0:4])\n",
    "print(s[-1:1:-1])"
   ]
  },
  {
   "cell_type": "markdown",
   "metadata": {},
   "source": [
    "高级操作：split, join"
   ]
  },
  {
   "cell_type": "code",
   "execution_count": null,
   "metadata": {},
   "outputs": [],
   "source": [
    "print('You are my best friend'.split())\n",
    "'-'.join([\"One\", \"Two\", \"Three\"])"
   ]
  },
  {
   "cell_type": "markdown",
   "metadata": {},
   "source": [
    "## 容器类型：列表和元组"
   ]
  },
  {
   "cell_type": "code",
   "execution_count": null,
   "metadata": {},
   "outputs": [],
   "source": [
    "s='abc'\n",
    "l=list(s)\n",
    "print(l, id(l))\n",
    "l.reverse()\n",
    "print(l, id(l))"
   ]
  },
  {
   "cell_type": "markdown",
   "metadata": {},
   "source": [
    "## 单元素元组的表示"
   ]
  },
  {
   "cell_type": "code",
   "execution_count": null,
   "metadata": {},
   "outputs": [],
   "source": [
    "print((2)*4)\n",
    "print((2,)*4)\n",
    "print((2,3,4)*4)"
   ]
  },
  {
   "cell_type": "markdown",
   "metadata": {},
   "source": [
    "#### 集合的元素是不重复的，必须是可散列的"
   ]
  },
  {
   "cell_type": "code",
   "execution_count": null,
   "metadata": {},
   "outputs": [],
   "source": [
    "aset=set('abcd')\n",
    "print(aset)\n",
    "print('x' in aset)\n",
    "print('a' in aset)\n",
    "aset.add('d')\n",
    "print(aset)\n",
    "aset.add([1,2,3])"
   ]
  },
  {
   "cell_type": "markdown",
   "metadata": {},
   "source": [
    "什么东西是hashable的?"
   ]
  },
  {
   "cell_type": "code",
   "execution_count": null,
   "metadata": {},
   "outputs": [],
   "source": [
    "print(\"hash(100) is {}\".format(hash(100)))\n",
    "print(\"hash('xzm') is {}\".format(hash('xzm')))\n",
    "print(\"hash((1,2,3)) is {}\".format(hash((1,2,3))))"
   ]
  },
  {
   "cell_type": "markdown",
   "metadata": {},
   "source": [
    "#### 字典的key也必须是可散列的"
   ]
  },
  {
   "cell_type": "code",
   "execution_count": 8,
   "metadata": {},
   "outputs": [
    {
     "ename": "TypeError",
     "evalue": "unhashable type: 'list'",
     "output_type": "error",
     "traceback": [
      "\u001b[0;31m---------------------------------------------------------------------------\u001b[0m",
      "\u001b[0;31mTypeError\u001b[0m                                 Traceback (most recent call last)",
      "\u001b[0;32m<ipython-input-8-2b2b8eb8054e>\u001b[0m in \u001b[0;36m<module>\u001b[0;34m\u001b[0m\n\u001b[1;32m      3\u001b[0m \u001b[0ma\u001b[0m\u001b[0;34m[\u001b[0m\u001b[0;34m'xzm'\u001b[0m\u001b[0;34m]\u001b[0m\u001b[0;34m=\u001b[0m\u001b[0;34m[\u001b[0m\u001b[0;36m1\u001b[0m\u001b[0;34m,\u001b[0m\u001b[0;36m2\u001b[0m\u001b[0;34m,\u001b[0m\u001b[0;36m3\u001b[0m\u001b[0;34m]\u001b[0m\u001b[0;34m\u001b[0m\u001b[0;34m\u001b[0m\u001b[0m\n\u001b[1;32m      4\u001b[0m \u001b[0ma\u001b[0m\u001b[0;34m[\u001b[0m\u001b[0;34m(\u001b[0m\u001b[0;36m1\u001b[0m\u001b[0;34m,\u001b[0m\u001b[0;36m2\u001b[0m\u001b[0;34m,\u001b[0m\u001b[0;36m3\u001b[0m\u001b[0;34m)\u001b[0m\u001b[0;34m]\u001b[0m\u001b[0;34m=\u001b[0m\u001b[0;34m'PKU'\u001b[0m\u001b[0;34m\u001b[0m\u001b[0;34m\u001b[0m\u001b[0m\n\u001b[0;32m----> 5\u001b[0;31m \u001b[0ma\u001b[0m\u001b[0;34m[\u001b[0m\u001b[0;34m[\u001b[0m\u001b[0;36m1\u001b[0m\u001b[0;34m,\u001b[0m\u001b[0;36m2\u001b[0m\u001b[0;34m,\u001b[0m\u001b[0;36m3\u001b[0m\u001b[0;34m]\u001b[0m\u001b[0;34m]\u001b[0m\u001b[0;34m=\u001b[0m\u001b[0;34m'PKU'\u001b[0m\u001b[0;34m\u001b[0m\u001b[0;34m\u001b[0m\u001b[0m\n\u001b[0m",
      "\u001b[0;31mTypeError\u001b[0m: unhashable type: 'list'"
     ]
    }
   ],
   "source": [
    "a={}\n",
    "a[1]=23\n",
    "a['xzm']=[1,2,3]\n",
    "a[(1,2,3)]='PKU'\n",
    "a[[1,2,3]]='PKU'"
   ]
  },
  {
   "cell_type": "markdown",
   "metadata": {},
   "source": [
    "### 字符串的format()方法"
   ]
  },
  {
   "cell_type": "code",
   "execution_count": null,
   "metadata": {},
   "outputs": [],
   "source": [
    "age = 20\n",
    "name = 'Swaroop'\n",
    "\n",
    "print('{} was {} years old when he wrote this book'.format(name, age)) \n",
    "print('{0} was {1} years old when he wrote this book'.format(name, age)) \n",
    "print('Why is {0} playing with that python?'.format(name))\n",
    "print('{author} write \"{book}\"'.format(author='Swaroop', book='a byte of python'))"
   ]
  },
  {
   "cell_type": "markdown",
   "metadata": {},
   "source": [
    "format()可读性优于字符串拼接的方式"
   ]
  },
  {
   "cell_type": "code",
   "execution_count": null,
   "metadata": {},
   "outputs": [],
   "source": [
    "print(name + ' is ' + str(age) + ' years old')"
   ]
  },
  {
   "cell_type": "markdown",
   "metadata": {},
   "source": [
    "#### format其他的排版功能"
   ]
  },
  {
   "cell_type": "markdown",
   "metadata": {},
   "source": [
    "取十进制小数点后的精度为 3 ，得到的浮点数为 '0.333'"
   ]
  },
  {
   "cell_type": "code",
   "execution_count": null,
   "metadata": {},
   "outputs": [],
   "source": [
    "print('{0:.3f}'.format(1.0/3))"
   ]
  },
  {
   "cell_type": "markdown",
   "metadata": {},
   "source": [
    "填充下划线 (_) ，文本居中\n",
    "将 '___hello___' 的宽度扩充为 11 "
   ]
  },
  {
   "cell_type": "code",
   "execution_count": null,
   "metadata": {},
   "outputs": [],
   "source": [
    "print('{0:_^11}'.format('hello'))"
   ]
  },
  {
   "cell_type": "markdown",
   "metadata": {},
   "source": [
    "##### 对元组的format方式，使用‘%’的话，需要特别注意"
   ]
  },
  {
   "cell_type": "code",
   "execution_count": null,
   "metadata": {},
   "outputs": [],
   "source": [
    "name=(1,2,3)\n",
    "print(\"hi there %s\" % (name,))\n",
    "print(\"hi there {}\".format(name))\n",
    "print(\"hi there %s\" % name)"
   ]
  },
  {
   "cell_type": "markdown",
   "metadata": {},
   "source": [
    "#### for-loop中else-block的作用"
   ]
  },
  {
   "cell_type": "code",
   "execution_count": null,
   "metadata": {},
   "outputs": [],
   "source": [
    "for i in range(10):\n",
    "    print(i,end=' ')\n",
    "    if i==15:\n",
    "        break\n",
    "else:\n",
    "    print('fini')\n",
    "    \n",
    "for i in range(20):\n",
    "    print(i,end=' ')\n",
    "    if i==15:\n",
    "        break\n",
    "else:\n",
    "    print('fini')   "
   ]
  },
  {
   "cell_type": "markdown",
   "metadata": {},
   "source": [
    "### Exception的处理"
   ]
  },
  {
   "cell_type": "code",
   "execution_count": null,
   "metadata": {},
   "outputs": [],
   "source": [
    "def execute(func):\n",
    "    try:\n",
    "        print('try...')\n",
    "        func()\n",
    "    except TypeError as e:\n",
    "        print('TypeError:', e)\n",
    "    except ZeroDivisionError as e:\n",
    "        print('ZeroDivisionError:', e)\n",
    "    else:\n",
    "        print('no error!')\n",
    "    finally:\n",
    "        print('finally...')\n",
    "    print('END')\n",
    "\n",
    "def f1():\n",
    "    23/0\n",
    "execute(f1)\n",
    "\n",
    "def f2():\n",
    "    '.'.join([1,2])\n",
    "execute(f2)\n",
    "\n",
    "def f3():\n",
    "    3+4\n",
    "execute(f3)\n",
    "\n",
    "def f4():\n",
    "    l=[1,2]\n",
    "    l[34]=0\n",
    "execute(f4)"
   ]
  },
  {
   "cell_type": "markdown",
   "metadata": {},
   "source": [
    "函数本身 vs. 函数返回值"
   ]
  },
  {
   "cell_type": "code",
   "execution_count": null,
   "metadata": {},
   "outputs": [],
   "source": [
    "def sum_list(alist):   #定义一个带参数的函数\n",
    "    sum_tmp = 0\n",
    "    for i in alist:\n",
    "        sum_tmp += i\n",
    "    return sum_tmp     #返回求和值\n",
    "\n",
    "print(sum_list)\n",
    "my_list = [23, 45, 67, 89, 100]\n",
    "# 调用函数，将返回值赋值给 my_sum\n",
    "my_sum = sum_list(my_list)\n",
    "print(\"sum of my list is {}\".format(my_sum))"
   ]
  },
  {
   "cell_type": "markdown",
   "metadata": {},
   "source": [
    "没有return语句的函数返回None"
   ]
  },
  {
   "cell_type": "code",
   "execution_count": null,
   "metadata": {},
   "outputs": [],
   "source": [
    "def sayhello(name):\n",
    "    print(\"How are you, {}!\".format(name))\n",
    "c=sayhello(\"Tom\")\n",
    "print(c)"
   ]
  },
  {
   "cell_type": "markdown",
   "metadata": {},
   "source": [
    "#### 缺省参数的使用"
   ]
  },
  {
   "cell_type": "code",
   "execution_count": null,
   "metadata": {},
   "outputs": [],
   "source": [
    "def func(a, b= 0, c= \"abc\"):\n",
    "    print(\"{}:{}\".format(c, a+b))\n",
    "    \n",
    "func(2)\n",
    "func(2,4)\n",
    "func(2,4, \"shanghai\")\n",
    "func(2, c=\"beijing\")\n",
    "func(2, \"guangzhou\")"
   ]
  },
  {
   "cell_type": "markdown",
   "metadata": {},
   "source": [
    "##### Support for type hints\n",
    "让代码更加可读、友好，但python runtime没管它，属于“君子协定”；第三方软件可能用到它。<br> \n",
    "参考：https://docs.python.org/3/library/typing.html<br>\n",
    "     https://www.python.org/dev/peps/pep-0484/"
   ]
  },
  {
   "cell_type": "code",
   "execution_count": null,
   "metadata": {},
   "outputs": [],
   "source": [
    "def hello(name: int)-> str:\n",
    "    for i in name:\n",
    "        print(i)\n",
    "    return 23\n",
    "\n",
    "print(hello('xzm'))\n",
    "\n",
    "from typing import List, Tuple\n",
    "\n",
    "def top3(grades: List[Tuple[str, int]])->List[Tuple[str, int]]:\n",
    "    grades.sort(reverse=True, key=lambda x:x[1])\n",
    "    return grades[:3]\n",
    "\n",
    "print(top3([(\"xzm\", 4), (\"abc\", 7), (\"ccc\", 6), (\"ddd\", 10) ]))"
   ]
  },
  {
   "cell_type": "markdown",
   "metadata": {},
   "source": [
    "##### Tuple assignment"
   ]
  },
  {
   "cell_type": "code",
   "execution_count": null,
   "metadata": {},
   "outputs": [],
   "source": [
    "a, b= 1, 2\n",
    "a, b = b, a\n",
    "print(a, b)\n",
    "#########################\n",
    "a, b = 1, 2\n",
    "a = b\n",
    "b = a\n",
    "print(a, b)"
   ]
  },
  {
   "cell_type": "markdown",
   "metadata": {},
   "source": [
    "## class的使用"
   ]
  },
  {
   "cell_type": "code",
   "execution_count": null,
   "metadata": {},
   "outputs": [],
   "source": [
    "class Force: #二维力\n",
    "    def __init__(self, x, y):\n",
    "        self.fx, self.fy = x, y\n",
    "    def show(self):\n",
    "        print(\"Force<{},{}>\".format(self.fx, self.fy))\n",
    "    def add(self, force2):\n",
    "        x = self.fx + force2.fx\n",
    "        y = self.fy + force2.fy\n",
    "        return Force(x, y)\n",
    "    \"\"\"\n",
    "    def __add__(self, other):\n",
    "        print(\"__add__ is called\")\n",
    "        return self.add(other)\n",
    "    \"\"\"\n",
    "    __add__ = add\n",
    "    \n",
    "    def __str__(self):\n",
    "        print(\"__str__ is called\")\n",
    "        return \"Force<{},{}>\".format(self.fx, self.fy)\n",
    "    \n",
    "    def __mul__(self, n):\n",
    "        print(\"__mul__ is called\")\n",
    "        x = self.fx * n\n",
    "        y = self.fy * n\n",
    "        return Force(x, y)\n",
    "    def __eq__(self, other):\n",
    "        print(\"__eq__ is called\")\n",
    "        return self.fx == other.fx and self.fy == other.fy\n",
    "\n",
    "#调用特殊操作符__add__()\n",
    "(Force(1,3)+Force(2,4)).show()\n",
    "#调用特殊操作符__mul__()\n",
    "(Force(1,3)*5).show()\n",
    "#调用特殊操作符__str__()\n",
    "print(Force(1,3))\n",
    "#调用特殊操作符__eq__()\n",
    "if Force(1,3)*5 == Force(5,15):\n",
    "    print(\"equal!\")"
   ]
  },
  {
   "cell_type": "markdown",
   "metadata": {},
   "source": [
    "Python中类的继承，父类与子类"
   ]
  },
  {
   "cell_type": "code",
   "execution_count": null,
   "metadata": {},
   "outputs": [],
   "source": [
    "#\n",
    "#car.py\n",
    "#\n",
    "class Car:\n",
    "    def __init__(self,name):\n",
    "        self.name = name\n",
    "        self.remain_mile = 0\n",
    "    def fill_fuel(self, miles): #加燃料里程\n",
    "        self.remain_mile += miles\n",
    "    def run(self, miles):   #行驶miles里程\n",
    "        print(self.name, end=\":\")\n",
    "        if self.remain_mile >= miles:\n",
    "            self.remain_mile -= miles\n",
    "            print(\"run {} miles\".format(miles))\n",
    "        else:\n",
    "            print(\"fuel out!\")\n",
    "class GasCar(Car):\n",
    "    def fill_fuel(self,gas): #加汽油gas升\n",
    "        print(\"加油{}升\".format(gas))\n",
    "        super().fill_fuel(gas * 6.0) #每升油跑6miles\n",
    "class ElecCar(Car):\n",
    "    def fill_fuel(self, power): #充电power度\n",
    "        print(\"充电{}度\".format(power))\n",
    "        super().fill_fuel(power * 3.0) #每度电跑3miles\n",
    "        \n",
    "mycar = ElecCar(\"唐\")\n",
    "mycar.fill_fuel(5)\n",
    "mycar.run(10)\n",
    "mycar.run(10)"
   ]
  },
  {
   "cell_type": "code",
   "execution_count": null,
   "metadata": {},
   "outputs": [],
   "source": [
    "mycar = GasCar(\"悍马\")\n",
    "mycar.fill_fuel(4)\n",
    "mycar.run(10)"
   ]
  },
  {
   "cell_type": "markdown",
   "metadata": {},
   "source": [
    "使用自己实现的模块"
   ]
  },
  {
   "cell_type": "code",
   "execution_count": null,
   "metadata": {},
   "outputs": [],
   "source": [
    "import os\n",
    "import sys\n",
    "module_path = os.path.abspath(os.path.join('code'))\n",
    "if module_path not in sys.path:\n",
    "    sys.path.append(module_path)\n",
    "import foo\n",
    "import importlib\n",
    "importlib.reload(foo)\n",
    "foo.hello(\"小苹果\")\n",
    "print()"
   ]
  },
  {
   "cell_type": "markdown",
   "metadata": {},
   "source": [
    "module是怎么定义的, \\_\\_name\\_\\_是模块的一个属性,被python直接运行时\\_\\_name\\_\\_==\"__main__\"\n",
    "<br>被其他module import时，\\_\\_name\\_\\_就是模块名/文件名"
   ]
  },
  {
   "cell_type": "code",
   "execution_count": null,
   "metadata": {},
   "outputs": [],
   "source": [
    "# code/foo.py\n",
    "def hello(yourname):\n",
    "    print(\"Hello! {}, my name is {}\".format(yourname, __name__))\n",
    "    \n",
    "print(\"从其他地方import或者python foo.py，我都会执行\")\n",
    "\n",
    "if __name__ == \"__main__\":\n",
    "    hello(\"汤姆\")"
   ]
  },
  {
   "cell_type": "markdown",
   "metadata": {},
   "source": [
    "### 算法分析"
   ]
  },
  {
   "cell_type": "markdown",
   "metadata": {},
   "source": [
    "获取系统当前时间：从1970年一月一日零时开始的秒数"
   ]
  },
  {
   "cell_type": "code",
   "execution_count": null,
   "metadata": {},
   "outputs": [],
   "source": [
    "import time\n",
    "help(time.time)\n",
    "print(time.time())"
   ]
  },
  {
   "cell_type": "markdown",
   "metadata": {},
   "source": [
    "##### 求和并计时"
   ]
  },
  {
   "cell_type": "code",
   "execution_count": null,
   "metadata": {},
   "outputs": [],
   "source": [
    "import time\n",
    "def sumofN2(n):\n",
    "    start = time.time()     #记住开始时间\n",
    "    theSum = 0\n",
    "    #产生1，2，3，... n-1, n的序列\n",
    "    for i in range(1, n+1):\n",
    "        theSum += i\n",
    "    end = time.time()       #记住结束时间\n",
    "    return theSum, end-start\n",
    "\n",
    "for i in range(200000,1000000,200000):\n",
    "    print(\"Sum({}) is {}, requires {:.7f} seconds\".format(i, *sumofN2(i)))\n",
    "for i in range(2000000,10000000,2000000):\n",
    "    print(\"Sum({}) is {}, requires {:.7f} seconds\".format(i, *sumofN2(i)))"
   ]
  },
  {
   "cell_type": "markdown",
   "metadata": {},
   "source": [
    "测试in操作的时间"
   ]
  },
  {
   "cell_type": "code",
   "execution_count": null,
   "metadata": {},
   "outputs": [],
   "source": [
    "import timeit\n",
    "import random\n",
    "print(\"size,   list_time,  dict_time\")\n",
    "for i in range(10000, 1000001,20000):   #从一万到一百万\n",
    "    t = timeit.Timer(\"random.randrange({}) in x\".format(i),\n",
    "                    \"from __main__ import random, x\")\n",
    "    x = list(range(i))\n",
    "    lst_time = t.timeit(number=1000)\n",
    "    x = {j:None for j in range(i)}\n",
    "    d_time = t.timeit(number=1000)\n",
    "    print(\"{}, {:.7f}, {:.7f} \".format(i, lst_time, d_time))"
   ]
  },
  {
   "cell_type": "markdown",
   "metadata": {},
   "source": [
    "#### 使用line_profiler分析语句频度T(n)"
   ]
  },
  {
   "cell_type": "code",
   "execution_count": null,
   "metadata": {},
   "outputs": [],
   "source": [
    "from line_profiler import LineProfiler\n",
    "def foo(n):\n",
    "    a = 5\n",
    "    b = 6\n",
    "    c = 10\n",
    "    for i in range(n):\n",
    "        for j in range(n):\n",
    "            x = i * i\n",
    "            y = j * j\n",
    "            z = i * j\n",
    "    for k in range(n):\n",
    "        w = a * k + 45\n",
    "        v = b * b\n",
    "    d = 33\n",
    "    \n",
    "if __name__ == \"__main__\":\n",
    "    lprofiler = LineProfiler(foo)\n",
    "    lprofiler.run('foo(10)')\n",
    "    lprofiler.print_stats()"
   ]
  },
  {
   "cell_type": "markdown",
   "metadata": {},
   "source": [
    "#### 通过特殊函数实现对int()的支持"
   ]
  },
  {
   "cell_type": "code",
   "execution_count": null,
   "metadata": {},
   "outputs": [],
   "source": [
    "class Uncle:\n",
    "    def __init__(self, name, age):\n",
    "        self.name = name\n",
    "        self.age = age\n",
    "\n",
    "    def __int__(self):\n",
    "        return self.age\n",
    " \n",
    "print(int(Uncle(\"John\", 48)))"
   ]
  },
  {
   "cell_type": "markdown",
   "metadata": {},
   "source": [
    "##### 数学画图模块的使用"
   ]
  },
  {
   "cell_type": "code",
   "execution_count": null,
   "metadata": {},
   "outputs": [],
   "source": [
    "import matplotlib.pyplot as plt\n",
    "number = int(input(\"please input a number:\"))\n",
    "plt.plot(range(number),range(number), label=\"linear\")\n",
    "plt.plot(range(number),[x*x for x in range(number)], label=\"square\")\n",
    "plt.xlabel('x - axis')\n",
    "plt.ylabel('y - axis')\n",
    "plt.title('Two or more lines on same plot with suitable legends ')\n",
    "plt.legend()\n",
    "plt.show()"
   ]
  },
  {
   "cell_type": "markdown",
   "metadata": {},
   "source": [
    "##### 测试列表index()操作和[]操作的时间复杂度"
   ]
  },
  {
   "cell_type": "code",
   "execution_count": null,
   "metadata": {},
   "outputs": [],
   "source": [
    "import timeit\n",
    "import random\n",
    "start, end, step = (int(x) for x in input(\"Please input 3 numbers(start, end, stop):\").split(maxsplit=3))\n",
    "print(start, end, step)\n",
    "index_time = []\n",
    "sub_time = []\n",
    "rand_time = []\n",
    "for N in range(start, end, step):\n",
    "    t_index = timeit.Timer(\"mylist.index(random.randrange({}))\".format(N)\n",
    "                          , \"import random; from __main__ import mylist\")\n",
    "    t_sub = timeit.Timer(\"mylist[random.randrange({})]\".format(N)\n",
    "                      , \"import random; from __main__ import mylist\")\n",
    "    t_rand = timeit.Timer(\"random.randrange({})\".format(N)\n",
    "                         , \"import random\")\n",
    "    mylist = list(range(N))\n",
    "    t1 = t_index.timeit(number=1000)\n",
    "    t2 = t_sub.timeit(number=1000)\n",
    "    t3 = t_rand.timeit(number=1000)\n",
    "    print(t1, t2, t3)\n",
    "    index_time.append(t1)\n",
    "    sub_time.append(t2)\n",
    "    rand_time.append(t3)\n",
    "\n",
    "import matplotlib.pyplot as plt\n",
    "#plt.plot(range(start, end, step), index_time, label=\"index\")\n",
    "plt.plot(range(start, end, step), sub_time, label=\"sub\")\n",
    "plt.plot(range(start, end, step), rand_time, label=\"rand\")\n",
    "plt.xlabel('size of list')\n",
    "plt.ylabel('1000*time')\n",
    "plt.title('compare index() and [] operations on list')\n",
    "plt.legend()\n",
    "plt.show()"
   ]
  },
  {
   "cell_type": "markdown",
   "metadata": {},
   "source": [
    "当N较小的时候，目标操作的执行时间较小，测量更加容易受到其他因素的干扰；<br>\n",
    "sub和rand操作用时较少，也容易收到干扰"
   ]
  },
  {
   "cell_type": "markdown",
   "metadata": {},
   "source": [
    "#### 讨论比特币挖矿中的算法复杂度问题"
   ]
  },
  {
   "cell_type": "code",
   "execution_count": null,
   "metadata": {},
   "outputs": [],
   "source": [
    "import hashlib\n",
    "def bthash(unicode):\n",
    "    return hashlib.sha256(unicode.encode(\"utf8\")).hexdigest()\n",
    "\n",
    "hash_result = bthash(\"\"\"戏剧中叔父克劳迪谋害了丹麦国王--哈姆雷特的父亲，篡了王位，并娶了国王的遗孀葛簇特；\n",
    "王子哈姆雷特因此为父王之死向叔父复仇。剧本细致入微地刻画了伪装的、真实的疯癫 —— \n",
    "从悲痛欲绝到假装愤怒 —— 探索了背叛、复仇、乱伦、堕落等主题\"\"\")\n",
    "print(\"hash of《哈姆雷特介绍》：{}\".format(hash_result))\n",
    "\n",
    "difficulty_bits = 4\n",
    "difficulty = 2 ** difficulty_bits\n",
    "target = 2 ** (256 - difficulty_bits)\n",
    "print(\"Difficulty is {}({} bits),\\nless than:{:>64x}\".format(\n",
    "    difficulty, difficulty_bits, target))\n",
    "#\n",
    "# 核心问题，求解nonce，满足条件： \n",
    "#     Curr_hash = hash(transactions + nonce + Prev_hash) < target\n",
    "#\n",
    "def validate(transactions, nonce):\n",
    "    block = transactions + [nonce] + [\"前一个块哈希:13b1b06...76d3d\"]\n",
    "    hash_result = bthash(str(block))\n",
    "    print(\"nonce {:>3}:{}\".format(nonce, hash_result))\n",
    "    if int(hash_result, 16) < target:\n",
    "        return True\n",
    "    else :\n",
    "        return False\n",
    "    \n",
    "def find_nonce(transactions):               #挖矿过程\n",
    "    ntries = 256\n",
    "    for nonce in range(ntries):             #随机数\n",
    "        if validate(transactions, nonce):\n",
    "            print(\"A new block mined with nonce {}\".format(nonce))\n",
    "            return nonce\n",
    "    else:\n",
    "        print(\"Failed in ntries:{}\".format(ntries))\n",
    "        return None\n",
    "\n",
    "if __name__ == \"__main__\":\n",
    "    transactions = [\"Alice sends .5 coins to Bob\",\n",
    "             \"Bob sends 2 coins to John\",\n",
    "             \"Alice send .1 coins to Kate\",\n",
    "             \"John send 1 coins to Miselle\",\n",
    "             \"Miselle send 2 coins to Alice\",\n",
    "               \"矿工(光头强)被奖励一个coin\"]\n",
    "    nonce = find_nonce(transactions)\n",
    "    if nonce:\n",
    "        print(\"光头强成功开采出了一个区块，获得一个比特币奖励。\")\n"
   ]
  },
  {
   "cell_type": "markdown",
   "metadata": {},
   "source": [
    "##### 最新的比特币区块：https://btc.com/\n",
    "##### 比特币挖矿难度变更趋势：https://btc.com/stats/diff\n",
    "其中的难度和难度对数，分别对应上面代码中的difficulty和difficulty_bits\n",
    "当difficulty_bits最大取256时，difficulty数超过已知宇宙中的原子数，远远超过佛教中的“恒河沙数”。\n",
    "##### 比特币价格变化趋势：https://www.coindesk.com/price/bitcoin\n",
    "##### SHA256函数的更多信息：https://en.wikipedia.org/wiki/SHA-2\n",
    "##### 思考\n",
    "1：上面validate和find_nonce的复杂度分别是多少？它们是什么关系？分别属于NP还是P？<br>\n",
    "2: 如果想把“Alice send .1 coins to Kate”改成“Alice send 100 coins to Kate”，计算一个新nonce来保持“块哈希”值不变，算法复杂度是多少？"
   ]
  },
  {
   "cell_type": "code",
   "execution_count": null,
   "metadata": {},
   "outputs": [],
   "source": [
    "l=[1,2,3]\n",
    "r=['xzm', 'aa', 'bb']\n",
    "[x for x in zip(l,r)]"
   ]
  },
  {
   "cell_type": "markdown",
   "metadata": {},
   "source": [
    "### 线性表"
   ]
  },
  {
   "cell_type": "markdown",
   "metadata": {},
   "source": [
    "#### Python list类型是顺序表，存储的实际是指针"
   ]
  },
  {
   "cell_type": "code",
   "execution_count": null,
   "metadata": {},
   "outputs": [],
   "source": [
    "mylist = [1, 2, 45, 45]\n",
    "print([id(i) for i in mylist])\n",
    "mylist.insert(2, 5)\n",
    "print(mylist)\n",
    "print([id(i) for i in mylist])"
   ]
  },
  {
   "cell_type": "markdown",
   "metadata": {},
   "source": [
    "<img src=\"images/mylistPic.png\" width=\"250\" height=\"350\" style=\"float:left\">"
   ]
  },
  {
   "cell_type": "markdown",
   "metadata": {},
   "source": [
    "##### 用Python list来实现stack ADT，实现后的stack是一个数据类型\n",
    "通常在限制少的数据类型上加一些限制，来实现限制多的数据类型"
   ]
  },
  {
   "cell_type": "code",
   "execution_count": 9,
   "metadata": {},
   "outputs": [],
   "source": [
    "#成员的方式实现\n",
    "class Stack:\n",
    "    def __init__(self):\n",
    "        self.items = []\n",
    "    def isEmpty(self):\n",
    "        return self.items == []\n",
    "    def push(self, item):\n",
    "        self.items.append(item)\n",
    "    def pop(self):\n",
    "        return self.items.pop()\n",
    "    def peek(self):\n",
    "        return self.items[-1]\n",
    "    def size(self):\n",
    "        return len(self.items)\n",
    "    def __str__(self):\n",
    "       return \"[ {} *\".format(\", \".join([str(i) for i in self.items]))"
   ]
  },
  {
   "cell_type": "code",
   "execution_count": 10,
   "metadata": {},
   "outputs": [
    {
     "name": "stdout",
     "output_type": "stream",
     "text": [
      "True\n"
     ]
    }
   ],
   "source": [
    "s = Stack()\n",
    "print(s.isEmpty())"
   ]
  },
  {
   "cell_type": "code",
   "execution_count": 11,
   "metadata": {},
   "outputs": [
    {
     "name": "stdout",
     "output_type": "stream",
     "text": [
      "[ 4, Dog *\n",
      "Dog\n"
     ]
    }
   ],
   "source": [
    "s.push(4)\n",
    "s.push(\"Dog\")\n",
    "print(s)\n",
    "print(s.peek())"
   ]
  },
  {
   "cell_type": "code",
   "execution_count": 12,
   "metadata": {},
   "outputs": [
    {
     "name": "stdout",
     "output_type": "stream",
     "text": [
      "3\n",
      "False\n"
     ]
    }
   ],
   "source": [
    "s.push(True)\n",
    "print(s.size())\n",
    "print(s.isEmpty())"
   ]
  },
  {
   "cell_type": "code",
   "execution_count": 13,
   "metadata": {},
   "outputs": [
    {
     "name": "stdout",
     "output_type": "stream",
     "text": [
      "8.4\n",
      "True\n",
      "2\n",
      "[ 4, Dog *\n"
     ]
    }
   ],
   "source": [
    "s.push(8.4)\n",
    "print(s.pop())\n",
    "print(s.pop())\n",
    "print(s.size())\n",
    "print(s)"
   ]
  },
  {
   "cell_type": "code",
   "execution_count": 14,
   "metadata": {},
   "outputs": [
    {
     "name": "stdout",
     "output_type": "stream",
     "text": [
      "True\n",
      "xzm\n"
     ]
    }
   ],
   "source": [
    "### 继承list的方式实现stack\n",
    "class stack(list):\n",
    "    def isEmpty(self):\n",
    "        return self==[]\n",
    "    def push(self, item):\n",
    "        self.append(item)\n",
    "    #def pop(self):\n",
    "    #   return super().pop()\n",
    "    #此处省略完整实现...\n",
    "ss = stack()\n",
    "print(ss.isEmpty())\n",
    "ss.push(\"xzm\")\n",
    "print(ss.pop())"
   ]
  },
  {
   "cell_type": "code",
   "execution_count": 15,
   "metadata": {},
   "outputs": [
    {
     "name": "stdout",
     "output_type": "stream",
     "text": [
      "True\n",
      "False\n",
      "False\n"
     ]
    }
   ],
   "source": [
    "#括号匹配\n",
    "def parChecker(symbolString):\n",
    "    s = Stack()\n",
    "    for c in symbolString:\n",
    "        if c=='(':\n",
    "            s.push(c)\n",
    "        else : # 输入的字符，不是'('，就当成')'了\n",
    "            if s.isEmpty():\n",
    "                return False\n",
    "            else:\n",
    "                s.pop()\n",
    "    else:\n",
    "        return s.isEmpty()\n",
    "print(parChecker(\"((()))\"))\n",
    "print(parChecker(\"(()\"))\n",
    "print(parChecker(\"())\"))"
   ]
  },
  {
   "cell_type": "code",
   "execution_count": 16,
   "metadata": {},
   "outputs": [
    {
     "name": "stdout",
     "output_type": "stream",
     "text": [
      "True\n",
      "False\n"
     ]
    }
   ],
   "source": [
    "#多种括号匹配(),[],{}\n",
    "pars={'(':')','[':']','{':'}'}\n",
    "def parChecker(symbolString):\n",
    "    s = Stack()\n",
    "    for c in symbolString:\n",
    "        if c in pars:\n",
    "            s.push(c)\n",
    "        else : \n",
    "            if s.isEmpty():\n",
    "                return False\n",
    "            elif pars[s.peek()] == c:\n",
    "                s.pop()\n",
    "            else:\n",
    "                return False\n",
    "    else:\n",
    "        return s.isEmpty()\n",
    "print(parChecker(\"([{}])\"))\n",
    "print(parChecker(\"([{}]a)\"))"
   ]
  },
  {
   "cell_type": "code",
   "execution_count": 17,
   "metadata": {},
   "outputs": [
    {
     "name": "stdout",
     "output_type": "stream",
     "text": [
      "A B 5 * +\n",
      "A B + 5 *\n"
     ]
    }
   ],
   "source": [
    "#中缀转后缀代码\n",
    "prec = {\"*\":3,\n",
    "        \"/\":3,\n",
    "        \"+\":2,\n",
    "        \"-\":2}\n",
    "def infixToPostfix(infixexpr):\n",
    "    opStack = Stack()\n",
    "    postfixList = []\n",
    "    tokenList = infixexpr.split()\n",
    "    for token in tokenList:\n",
    "        if token in \"ABCDEFGHIJKLMNOPQRSTUVWXYZ\" \\\n",
    "          or token in \"0123456789\":  #操作数的处理\n",
    "            postfixList.append(token)\n",
    "        elif token == '(':           #标记子表达式开始\n",
    "            opStack.push(token)\n",
    "        elif token == ')':           #子表达式结束\n",
    "            while opStack.peek() != '(':\n",
    "                postfixList.append(opStack.pop())\n",
    "            else:\n",
    "                opStack.pop()        #弹出'('\n",
    "        else:                        #操作符\n",
    "            while (not opStack.isEmpty() \n",
    "                   and opStack.peek() != '('\n",
    "                   and prec[opStack.peek()] >= prec[token]):\n",
    "                postfixList.append(opStack.pop())\n",
    "            opStack.push(token)     #所有操作符都必须进栈等待\n",
    "    while not opStack.isEmpty():\n",
    "        postfixList.append(opStack.pop())\n",
    "    return \" \".join(postfixList)\n",
    "\n",
    "print(infixToPostfix(\"A + B * 5\"))\n",
    "print(infixToPostfix(\"( A + B ) * 5\"))"
   ]
  },
  {
   "cell_type": "code",
   "execution_count": 18,
   "metadata": {},
   "outputs": [
    {
     "name": "stdout",
     "output_type": "stream",
     "text": [
      "None 20\n"
     ]
    }
   ],
   "source": [
    "class ListNode:\n",
    "     def __init__(self, val=0, next=None):\n",
    "         self.val = val\n",
    "         self.next = next\n",
    "            \n",
    "def next(l):\n",
    "    return l.next, l.val\n",
    "\n",
    "l1=ListNode(20)\n",
    "l1, num = next(l1)\n",
    "print(l1, num)\n"
   ]
  },
  {
   "cell_type": "markdown",
   "metadata": {},
   "source": [
    "比较“==”与“=”的优先级"
   ]
  },
  {
   "cell_type": "code",
   "execution_count": 19,
   "metadata": {},
   "outputs": [
    {
     "name": "stdout",
     "output_type": "stream",
     "text": [
      "False\n"
     ]
    }
   ],
   "source": [
    "f = 4==5\n",
    "print(f)"
   ]
  },
  {
   "cell_type": "markdown",
   "metadata": {},
   "source": [
    "特殊函数的调用，不会出现多重歧义。"
   ]
  },
  {
   "cell_type": "code",
   "execution_count": 20,
   "metadata": {},
   "outputs": [
    {
     "name": "stdout",
     "output_type": "stream",
     "text": [
      "<__main__.foo object at 0x7fd392412650>\n"
     ]
    }
   ],
   "source": [
    "class foo:\n",
    "    def __init__(self, num):\n",
    "        self.num = num\n",
    "    def __int__(self):\n",
    "        return self.num\n",
    "    #def __str__(self):\n",
    "    #   return \"hello\"\n",
    "    \n",
    "b = foo(24)\n",
    "print(b)"
   ]
  },
  {
   "cell_type": "markdown",
   "metadata": {},
   "source": [
    "#### Python list实现Queue"
   ]
  },
  {
   "cell_type": "code",
   "execution_count": 10,
   "metadata": {},
   "outputs": [],
   "source": [
    "class Queue_on_list:\n",
    "    def __init__(self):\n",
    "        self.items = []\n",
    "    def isEmpty(self):\n",
    "        return self.items == []\n",
    "    def enqueue(self, item):\n",
    "        self.items.insert(0, item) #0为队尾\n",
    "    def dequeue(self):\n",
    "        return self.items.pop()\n",
    "    def size(self):\n",
    "        return len(self.items)"
   ]
  },
  {
   "cell_type": "raw",
   "metadata": {},
   "source": [
    "热土豆问题"
   ]
  },
  {
   "cell_type": "code",
   "execution_count": 22,
   "metadata": {},
   "outputs": [
    {
     "name": "stdout",
     "output_type": "stream",
     "text": [
      "Susan\n"
     ]
    }
   ],
   "source": [
    "Queue = Queue_on_list\n",
    "def hotPotato(namelist, num):\n",
    "    que =Queue()\n",
    "    for name in namelist:\n",
    "        que.enqueue(name)\n",
    "    while que.size() > 1:\n",
    "        for i in range(num):\n",
    "            que.enqueue(que.dequeue())\n",
    "        que.dequeue()  #杀掉一个\n",
    "    return que.dequeue()\n",
    "        \n",
    "print(hotPotato([\"Bill\",\"David\", \"Susan\", \"Jane\", \"Kent\", \"Brad\"],7))"
   ]
  },
  {
   "cell_type": "markdown",
   "metadata": {},
   "source": [
    "##### 打印任务问题"
   ]
  },
  {
   "cell_type": "code",
   "execution_count": 23,
   "metadata": {},
   "outputs": [
    {
     "name": "stdout",
     "output_type": "stream",
     "text": [
      "Average Wait 22.864 secs 0 tasks remaining.\n",
      "Average Wait 20.592 secs 0 tasks remaining.\n",
      "Average Wait 18.538 secs 0 tasks remaining.\n",
      "Average Wait 20.105 secs 0 tasks remaining.\n",
      "Average Wait 17.698 secs 0 tasks remaining.\n",
      "Average Wait 23.426 secs 0 tasks remaining.\n",
      "Average Wait 21.018 secs 0 tasks remaining.\n",
      "Average Wait 11.524 secs 0 tasks remaining.\n",
      "Average Wait 41.891 secs 0 tasks remaining.\n",
      "Average Wait 31.105 secs 0 tasks remaining.\n"
     ]
    }
   ],
   "source": [
    "import random\n",
    "class Task:\n",
    "    def __init__(self, time):\n",
    "        self.arrive_time = time\n",
    "        self.pages = random.randrange(1,21)\n",
    "    def waitTime(self, current_time):\n",
    "        return current_time - self.arrive_time\n",
    "    \n",
    "Queue = Queue_on_list\n",
    "\n",
    "class Printer:\n",
    "    def __init__(self,ppm):\n",
    "        self.pagerate = ppm    #打印速度，每分钟几页\n",
    "        self.currentTask = None \n",
    "        self.timeRemaining = 0 #任务倒计时\n",
    "    def tick(self):\n",
    "        if self.currentTask != None:\n",
    "            self.timeRemaining -= 1\n",
    "            if self.timeRemaining <= 0:\n",
    "                self.currentTask = None\n",
    "    def busy(self):\n",
    "        return self.currentTask != None\n",
    "    def startNext(self, newtask):\n",
    "        self.currentTask = newtask\n",
    "        self.timeRemaining = newtask.pages * 60 / self.pagerate\n",
    "\n",
    "def newPrintTask():\n",
    "    num = random.randrange(1,181)\n",
    "    return num == 180\n",
    "\n",
    "def simulation(numSeconds, pagesPerMinute):\n",
    "    labprinter = Printer(pagesPerMinute)\n",
    "    printQueue = Queue()\n",
    "    waitingtimes = []\n",
    "    for currentSecond in range(numSeconds):\n",
    "        if newPrintTask():\n",
    "            printQueue.enqueue(Task(currentSecond))\n",
    "        if (not labprinter.busy()) and \\\n",
    "           (not printQueue.isEmpty()):\n",
    "            nexttask = printQueue.dequeue()\n",
    "            waitingtimes.append(nexttask.waitTime(currentSecond))\n",
    "            labprinter.startNext(nexttask)\n",
    "        labprinter.tick()\n",
    "    #模拟结束，统计结果\n",
    "    averageWait = sum(waitingtimes)/len(waitingtimes)\n",
    "    print(\"Average Wait {:.3f} secs {} tasks remaining.\".format(\n",
    "        averageWait, printQueue.size()))\n",
    "\n",
    "for i in range(10):\n",
    "    simulation(7200,10)"
   ]
  },
  {
   "cell_type": "markdown",
   "metadata": {},
   "source": [
    "#### Python list实现Deque"
   ]
  },
  {
   "cell_type": "code",
   "execution_count": 24,
   "metadata": {},
   "outputs": [],
   "source": [
    "class Deque_on_list:\n",
    "    def __init__(self):\n",
    "        self.items = []\n",
    "    def isEmpty(self):\n",
    "        return self.items == []\n",
    "    def addFront(self, item):\n",
    "        self.items.append(item)\n",
    "    def addRear(self, item):   # 0位置当尾巴\n",
    "        self.items.insert(0, item)\n",
    "    def removeFront(self):\n",
    "        return self.items.pop()\n",
    "    def removeRear(self):\n",
    "        return self.items.pop(0)\n",
    "    def size(self):\n",
    "        return len(self.items)"
   ]
  },
  {
   "cell_type": "markdown",
   "metadata": {},
   "source": [
    "“回文词”判定"
   ]
  },
  {
   "cell_type": "code",
   "execution_count": 25,
   "metadata": {},
   "outputs": [
    {
     "name": "stdout",
     "output_type": "stream",
     "text": [
      "lasdsal is palindromic\n",
      "lasdsalaaa is NOT palindromic\n"
     ]
    }
   ],
   "source": [
    "Deque = Deque_on_list\n",
    "\n",
    "def isPalindromic(str):\n",
    "    dq = Deque()\n",
    "    for c in str:\n",
    "        dq.addFront(c)\n",
    "    while dq.size()>1:\n",
    "        if dq.removeFront() != dq.removeRear():\n",
    "            return False\n",
    "    else:\n",
    "        return True\n",
    "\n",
    "print(\"lasdsal is {}palindromic\".format(\"\" if isPalindromic(\"lasdsal\") else \"NOT \"))\n",
    "print(\"lasdsalaaa is {}palindromic\".format(\"\" if isPalindromic(\"lasdsalaaa\") else \"NOT \"))"
   ]
  },
  {
   "cell_type": "markdown",
   "metadata": {},
   "source": [
    "#### 链表的实现"
   ]
  },
  {
   "cell_type": "code",
   "execution_count": 26,
   "metadata": {},
   "outputs": [
    {
     "name": "stdout",
     "output_type": "stream",
     "text": [
      "93\n"
     ]
    }
   ],
   "source": [
    "class Node:\n",
    "    def __init__(self, initdata=None):\n",
    "        self.data = initdata\n",
    "        self.next = None\n",
    "    def getData(self):\n",
    "        return self.data\n",
    "    def getNext(self):\n",
    "        return self.next\n",
    "    def setData(self, newdata):\n",
    "        self.data = newdata\n",
    "    def setNext(self, newnext):\n",
    "        self.next = newnext\n",
    "        \n",
    "temp = Node(93)\n",
    "print(temp.getData())\n",
    "\n",
    "class UnorderedList:\n",
    "    def __init__(self):\n",
    "        self.head = None\n",
    "    def add(self, item):\n",
    "        temp = Node(item)\n",
    "        temp.setNext(self.head)\n",
    "        self.head = temp\n",
    "\n",
    "class UnorderedListWithNulHead:\n",
    "    def __init__(self):\n",
    "        self.head = Node()"
   ]
  },
  {
   "cell_type": "code",
   "execution_count": 27,
   "metadata": {},
   "outputs": [
    {
     "name": "stdout",
     "output_type": "stream",
     "text": [
      "[(Cook,90), (Jack,80)]\n",
      "[(Jack,80), (Cook,90)]\n"
     ]
    }
   ],
   "source": [
    "class Student:\n",
    "    def __init__(self, name, grade):\n",
    "        self.name = name\n",
    "        self.grade = grade\n",
    "    def __lt__(self, other):\n",
    "        return self.grade > other.grade\n",
    "    def __str__(self):\n",
    "        return \"({},{})\".format(self.name, self.grade)\n",
    "    __repr__ = __str__\n",
    "\n",
    "s = []\n",
    "s.append(Student(\"Jack\", 80))\n",
    "s.append(Student(\"Cook\", 90))\n",
    "s.sort()\n",
    "print(s)\n",
    "s.sort(key=lambda x:x.name, reverse=True)\n",
    "print(s)"
   ]
  },
  {
   "cell_type": "markdown",
   "metadata": {},
   "source": [
    "##### 双链表的append和remove\n",
    "小心判断边界条件和保持不变量"
   ]
  },
  {
   "cell_type": "code",
   "execution_count": 28,
   "metadata": {},
   "outputs": [
    {
     "name": "stdout",
     "output_type": "stream",
     "text": [
      "[1, 2, 3]\n",
      "[1, 3]\n",
      "[1, 3]\n",
      "[3]\n",
      "[3]\n"
     ]
    }
   ],
   "source": [
    "class DNode:\n",
    "    def __init__(self, initdata=None):\n",
    "        self.data = initdata\n",
    "        self.next = None\n",
    "        self.prev = None\n",
    "\n",
    "class UnorderedList:\n",
    "    def __init__(self):\n",
    "        self.head = self.tail = None\n",
    "    def __str__(self):\n",
    "        ds, cur = [], self.head\n",
    "        while cur != None:\n",
    "            ds.append(cur.data)\n",
    "            cur = cur.next\n",
    "        return \"{}\".format(ds)\n",
    "    def append(self, data):\n",
    "        temp = DNode(data)\n",
    "        if self.head is None:                 #插入空表\n",
    "            self.head = self.tail = temp\n",
    "        else:\n",
    "            self.tail.next = temp             #从表尾插入\n",
    "            temp.prev = self.tail\n",
    "            self.tail = temp\n",
    "    def remove(self, data):\n",
    "        curr = self.head\n",
    "        while curr != None:\n",
    "            if curr.data == data:\n",
    "                break\n",
    "            curr = curr.next\n",
    "        else:\n",
    "            return                           #即使空表，也在这里返回\n",
    "        #if self.tail == self.head:           #唯一元素  为什么这个地方要单独判断？\n",
    "         #   self.tail = self.head = None\n",
    "        if self.tail == curr:              #删尾\n",
    "            self.tail = self.tail.prev               # ---> 看这里。\n",
    "            self.tail.next = None\n",
    "        elif self.head == curr:\n",
    "            self.head = self.head.next\n",
    "            self.head.next = None\n",
    "        else:\n",
    "            curr.prev.next = curr.next\n",
    "            curr.next.prev = curr.prev\n",
    "        return\n",
    "\n",
    "dl = UnorderedList()\n",
    "dl.append(1)\n",
    "dl.append(2)\n",
    "dl.append(3)\n",
    "print(dl)\n",
    "dl.remove(2); print(dl)\n",
    "dl.remove(2); print(dl)\n",
    "dl.remove(1); print(dl)\n",
    "dl.remove(3); print(dl)"
   ]
  },
  {
   "cell_type": "markdown",
   "metadata": {},
   "source": [
    "#### 海龟作图在Jupiter Notebook中不正常\n",
    "import turtle <br>\n",
    "t = turtle.Turtle() <br>\n",
    "w = turtle.Screen() <br>\n",
    "t.forward(100)  <br>\n",
    "w.exitonclick()"
   ]
  },
  {
   "cell_type": "markdown",
   "metadata": {},
   "source": [
    "#### 递归法找硬币"
   ]
  },
  {
   "cell_type": "code",
   "execution_count": 30,
   "metadata": {},
   "outputs": [
    {
     "ename": "KeyboardInterrupt",
     "evalue": "",
     "output_type": "error",
     "traceback": [
      "\u001b[0;31m---------------------------------------------------------------------------\u001b[0m",
      "\u001b[0;31mKeyboardInterrupt\u001b[0m                         Traceback (most recent call last)",
      "\u001b[0;32m<ipython-input-30-e3d7602766bb>\u001b[0m in \u001b[0;36m<module>\u001b[0;34m\u001b[0m\n\u001b[1;32m      5\u001b[0m                 for c in coinValueList if c <= change],default=change)\n\u001b[1;32m      6\u001b[0m \u001b[0;34m\u001b[0m\u001b[0m\n\u001b[0;32m----> 7\u001b[0;31m \u001b[0mprint\u001b[0m\u001b[0;34m(\u001b[0m\u001b[0mrecMC\u001b[0m\u001b[0;34m(\u001b[0m\u001b[0;34m[\u001b[0m\u001b[0;36m1\u001b[0m\u001b[0;34m,\u001b[0m\u001b[0;36m5\u001b[0m\u001b[0;34m,\u001b[0m\u001b[0;36m10\u001b[0m\u001b[0;34m,\u001b[0m\u001b[0;36m25\u001b[0m\u001b[0;34m]\u001b[0m\u001b[0;34m,\u001b[0m \u001b[0;36m63\u001b[0m\u001b[0;34m)\u001b[0m\u001b[0;34m)\u001b[0m\u001b[0;34m\u001b[0m\u001b[0;34m\u001b[0m\u001b[0m\n\u001b[0m",
      "\u001b[0;32m<ipython-input-30-e3d7602766bb>\u001b[0m in \u001b[0;36mrecMC\u001b[0;34m(coinValueList, change)\u001b[0m\n\u001b[1;32m      3\u001b[0m         \u001b[0;32mreturn\u001b[0m \u001b[0;36m1\u001b[0m\u001b[0;34m\u001b[0m\u001b[0;34m\u001b[0m\u001b[0m\n\u001b[1;32m      4\u001b[0m     return 1+min([recMC(coinValueList, change-c) \n\u001b[0;32m----> 5\u001b[0;31m                 for c in coinValueList if c <= change],default=change)\n\u001b[0m\u001b[1;32m      6\u001b[0m \u001b[0;34m\u001b[0m\u001b[0m\n\u001b[1;32m      7\u001b[0m \u001b[0mprint\u001b[0m\u001b[0;34m(\u001b[0m\u001b[0mrecMC\u001b[0m\u001b[0;34m(\u001b[0m\u001b[0;34m[\u001b[0m\u001b[0;36m1\u001b[0m\u001b[0;34m,\u001b[0m\u001b[0;36m5\u001b[0m\u001b[0;34m,\u001b[0m\u001b[0;36m10\u001b[0m\u001b[0;34m,\u001b[0m\u001b[0;36m25\u001b[0m\u001b[0;34m]\u001b[0m\u001b[0;34m,\u001b[0m \u001b[0;36m63\u001b[0m\u001b[0;34m)\u001b[0m\u001b[0;34m)\u001b[0m\u001b[0;34m\u001b[0m\u001b[0;34m\u001b[0m\u001b[0m\n",
      "\u001b[0;32m<ipython-input-30-e3d7602766bb>\u001b[0m in \u001b[0;36m<listcomp>\u001b[0;34m(.0)\u001b[0m\n\u001b[1;32m      3\u001b[0m         \u001b[0;32mreturn\u001b[0m \u001b[0;36m1\u001b[0m\u001b[0;34m\u001b[0m\u001b[0;34m\u001b[0m\u001b[0m\n\u001b[1;32m      4\u001b[0m     return 1+min([recMC(coinValueList, change-c) \n\u001b[0;32m----> 5\u001b[0;31m                 for c in coinValueList if c <= change],default=change)\n\u001b[0m\u001b[1;32m      6\u001b[0m \u001b[0;34m\u001b[0m\u001b[0m\n\u001b[1;32m      7\u001b[0m \u001b[0mprint\u001b[0m\u001b[0;34m(\u001b[0m\u001b[0mrecMC\u001b[0m\u001b[0;34m(\u001b[0m\u001b[0;34m[\u001b[0m\u001b[0;36m1\u001b[0m\u001b[0;34m,\u001b[0m\u001b[0;36m5\u001b[0m\u001b[0;34m,\u001b[0m\u001b[0;36m10\u001b[0m\u001b[0;34m,\u001b[0m\u001b[0;36m25\u001b[0m\u001b[0;34m]\u001b[0m\u001b[0;34m,\u001b[0m \u001b[0;36m63\u001b[0m\u001b[0;34m)\u001b[0m\u001b[0;34m)\u001b[0m\u001b[0;34m\u001b[0m\u001b[0;34m\u001b[0m\u001b[0m\n",
      "\u001b[0;32m<ipython-input-30-e3d7602766bb>\u001b[0m in \u001b[0;36mrecMC\u001b[0;34m(coinValueList, change)\u001b[0m\n\u001b[1;32m      3\u001b[0m         \u001b[0;32mreturn\u001b[0m \u001b[0;36m1\u001b[0m\u001b[0;34m\u001b[0m\u001b[0;34m\u001b[0m\u001b[0m\n\u001b[1;32m      4\u001b[0m     return 1+min([recMC(coinValueList, change-c) \n\u001b[0;32m----> 5\u001b[0;31m                 for c in coinValueList if c <= change],default=change)\n\u001b[0m\u001b[1;32m      6\u001b[0m \u001b[0;34m\u001b[0m\u001b[0m\n\u001b[1;32m      7\u001b[0m \u001b[0mprint\u001b[0m\u001b[0;34m(\u001b[0m\u001b[0mrecMC\u001b[0m\u001b[0;34m(\u001b[0m\u001b[0;34m[\u001b[0m\u001b[0;36m1\u001b[0m\u001b[0;34m,\u001b[0m\u001b[0;36m5\u001b[0m\u001b[0;34m,\u001b[0m\u001b[0;36m10\u001b[0m\u001b[0;34m,\u001b[0m\u001b[0;36m25\u001b[0m\u001b[0;34m]\u001b[0m\u001b[0;34m,\u001b[0m \u001b[0;36m63\u001b[0m\u001b[0;34m)\u001b[0m\u001b[0;34m)\u001b[0m\u001b[0;34m\u001b[0m\u001b[0;34m\u001b[0m\u001b[0m\n",
      "\u001b[0;32m<ipython-input-30-e3d7602766bb>\u001b[0m in \u001b[0;36m<listcomp>\u001b[0;34m(.0)\u001b[0m\n\u001b[1;32m      3\u001b[0m         \u001b[0;32mreturn\u001b[0m \u001b[0;36m1\u001b[0m\u001b[0;34m\u001b[0m\u001b[0;34m\u001b[0m\u001b[0m\n\u001b[1;32m      4\u001b[0m     return 1+min([recMC(coinValueList, change-c) \n\u001b[0;32m----> 5\u001b[0;31m                 for c in coinValueList if c <= change],default=change)\n\u001b[0m\u001b[1;32m      6\u001b[0m \u001b[0;34m\u001b[0m\u001b[0m\n\u001b[1;32m      7\u001b[0m \u001b[0mprint\u001b[0m\u001b[0;34m(\u001b[0m\u001b[0mrecMC\u001b[0m\u001b[0;34m(\u001b[0m\u001b[0;34m[\u001b[0m\u001b[0;36m1\u001b[0m\u001b[0;34m,\u001b[0m\u001b[0;36m5\u001b[0m\u001b[0;34m,\u001b[0m\u001b[0;36m10\u001b[0m\u001b[0;34m,\u001b[0m\u001b[0;36m25\u001b[0m\u001b[0;34m]\u001b[0m\u001b[0;34m,\u001b[0m \u001b[0;36m63\u001b[0m\u001b[0;34m)\u001b[0m\u001b[0;34m)\u001b[0m\u001b[0;34m\u001b[0m\u001b[0;34m\u001b[0m\u001b[0m\n",
      "\u001b[0;32m<ipython-input-30-e3d7602766bb>\u001b[0m in \u001b[0;36mrecMC\u001b[0;34m(coinValueList, change)\u001b[0m\n\u001b[1;32m      3\u001b[0m         \u001b[0;32mreturn\u001b[0m \u001b[0;36m1\u001b[0m\u001b[0;34m\u001b[0m\u001b[0;34m\u001b[0m\u001b[0m\n\u001b[1;32m      4\u001b[0m     return 1+min([recMC(coinValueList, change-c) \n\u001b[0;32m----> 5\u001b[0;31m                 for c in coinValueList if c <= change],default=change)\n\u001b[0m\u001b[1;32m      6\u001b[0m \u001b[0;34m\u001b[0m\u001b[0m\n\u001b[1;32m      7\u001b[0m \u001b[0mprint\u001b[0m\u001b[0;34m(\u001b[0m\u001b[0mrecMC\u001b[0m\u001b[0;34m(\u001b[0m\u001b[0;34m[\u001b[0m\u001b[0;36m1\u001b[0m\u001b[0;34m,\u001b[0m\u001b[0;36m5\u001b[0m\u001b[0;34m,\u001b[0m\u001b[0;36m10\u001b[0m\u001b[0;34m,\u001b[0m\u001b[0;36m25\u001b[0m\u001b[0;34m]\u001b[0m\u001b[0;34m,\u001b[0m \u001b[0;36m63\u001b[0m\u001b[0;34m)\u001b[0m\u001b[0;34m)\u001b[0m\u001b[0;34m\u001b[0m\u001b[0;34m\u001b[0m\u001b[0m\n",
      "\u001b[0;32m<ipython-input-30-e3d7602766bb>\u001b[0m in \u001b[0;36m<listcomp>\u001b[0;34m(.0)\u001b[0m\n\u001b[1;32m      3\u001b[0m         \u001b[0;32mreturn\u001b[0m \u001b[0;36m1\u001b[0m\u001b[0;34m\u001b[0m\u001b[0;34m\u001b[0m\u001b[0m\n\u001b[1;32m      4\u001b[0m     return 1+min([recMC(coinValueList, change-c) \n\u001b[0;32m----> 5\u001b[0;31m                 for c in coinValueList if c <= change],default=change)\n\u001b[0m\u001b[1;32m      6\u001b[0m \u001b[0;34m\u001b[0m\u001b[0m\n\u001b[1;32m      7\u001b[0m \u001b[0mprint\u001b[0m\u001b[0;34m(\u001b[0m\u001b[0mrecMC\u001b[0m\u001b[0;34m(\u001b[0m\u001b[0;34m[\u001b[0m\u001b[0;36m1\u001b[0m\u001b[0;34m,\u001b[0m\u001b[0;36m5\u001b[0m\u001b[0;34m,\u001b[0m\u001b[0;36m10\u001b[0m\u001b[0;34m,\u001b[0m\u001b[0;36m25\u001b[0m\u001b[0;34m]\u001b[0m\u001b[0;34m,\u001b[0m \u001b[0;36m63\u001b[0m\u001b[0;34m)\u001b[0m\u001b[0;34m)\u001b[0m\u001b[0;34m\u001b[0m\u001b[0;34m\u001b[0m\u001b[0m\n",
      "\u001b[0;32m<ipython-input-30-e3d7602766bb>\u001b[0m in \u001b[0;36mrecMC\u001b[0;34m(coinValueList, change)\u001b[0m\n\u001b[1;32m      3\u001b[0m         \u001b[0;32mreturn\u001b[0m \u001b[0;36m1\u001b[0m\u001b[0;34m\u001b[0m\u001b[0;34m\u001b[0m\u001b[0m\n\u001b[1;32m      4\u001b[0m     return 1+min([recMC(coinValueList, change-c) \n\u001b[0;32m----> 5\u001b[0;31m                 for c in coinValueList if c <= change],default=change)\n\u001b[0m\u001b[1;32m      6\u001b[0m \u001b[0;34m\u001b[0m\u001b[0m\n\u001b[1;32m      7\u001b[0m \u001b[0mprint\u001b[0m\u001b[0;34m(\u001b[0m\u001b[0mrecMC\u001b[0m\u001b[0;34m(\u001b[0m\u001b[0;34m[\u001b[0m\u001b[0;36m1\u001b[0m\u001b[0;34m,\u001b[0m\u001b[0;36m5\u001b[0m\u001b[0;34m,\u001b[0m\u001b[0;36m10\u001b[0m\u001b[0;34m,\u001b[0m\u001b[0;36m25\u001b[0m\u001b[0;34m]\u001b[0m\u001b[0;34m,\u001b[0m \u001b[0;36m63\u001b[0m\u001b[0;34m)\u001b[0m\u001b[0;34m)\u001b[0m\u001b[0;34m\u001b[0m\u001b[0;34m\u001b[0m\u001b[0m\n",
      "\u001b[0;32m<ipython-input-30-e3d7602766bb>\u001b[0m in \u001b[0;36m<listcomp>\u001b[0;34m(.0)\u001b[0m\n\u001b[1;32m      3\u001b[0m         \u001b[0;32mreturn\u001b[0m \u001b[0;36m1\u001b[0m\u001b[0;34m\u001b[0m\u001b[0;34m\u001b[0m\u001b[0m\n\u001b[1;32m      4\u001b[0m     return 1+min([recMC(coinValueList, change-c) \n\u001b[0;32m----> 5\u001b[0;31m                 for c in coinValueList if c <= change],default=change)\n\u001b[0m\u001b[1;32m      6\u001b[0m \u001b[0;34m\u001b[0m\u001b[0m\n\u001b[1;32m      7\u001b[0m \u001b[0mprint\u001b[0m\u001b[0;34m(\u001b[0m\u001b[0mrecMC\u001b[0m\u001b[0;34m(\u001b[0m\u001b[0;34m[\u001b[0m\u001b[0;36m1\u001b[0m\u001b[0;34m,\u001b[0m\u001b[0;36m5\u001b[0m\u001b[0;34m,\u001b[0m\u001b[0;36m10\u001b[0m\u001b[0;34m,\u001b[0m\u001b[0;36m25\u001b[0m\u001b[0;34m]\u001b[0m\u001b[0;34m,\u001b[0m \u001b[0;36m63\u001b[0m\u001b[0;34m)\u001b[0m\u001b[0;34m)\u001b[0m\u001b[0;34m\u001b[0m\u001b[0;34m\u001b[0m\u001b[0m\n",
      "\u001b[0;32m<ipython-input-30-e3d7602766bb>\u001b[0m in \u001b[0;36mrecMC\u001b[0;34m(coinValueList, change)\u001b[0m\n\u001b[1;32m      3\u001b[0m         \u001b[0;32mreturn\u001b[0m \u001b[0;36m1\u001b[0m\u001b[0;34m\u001b[0m\u001b[0;34m\u001b[0m\u001b[0m\n\u001b[1;32m      4\u001b[0m     return 1+min([recMC(coinValueList, change-c) \n\u001b[0;32m----> 5\u001b[0;31m                 for c in coinValueList if c <= change],default=change)\n\u001b[0m\u001b[1;32m      6\u001b[0m \u001b[0;34m\u001b[0m\u001b[0m\n\u001b[1;32m      7\u001b[0m \u001b[0mprint\u001b[0m\u001b[0;34m(\u001b[0m\u001b[0mrecMC\u001b[0m\u001b[0;34m(\u001b[0m\u001b[0;34m[\u001b[0m\u001b[0;36m1\u001b[0m\u001b[0;34m,\u001b[0m\u001b[0;36m5\u001b[0m\u001b[0;34m,\u001b[0m\u001b[0;36m10\u001b[0m\u001b[0;34m,\u001b[0m\u001b[0;36m25\u001b[0m\u001b[0;34m]\u001b[0m\u001b[0;34m,\u001b[0m \u001b[0;36m63\u001b[0m\u001b[0;34m)\u001b[0m\u001b[0;34m)\u001b[0m\u001b[0;34m\u001b[0m\u001b[0;34m\u001b[0m\u001b[0m\n",
      "\u001b[0;32m<ipython-input-30-e3d7602766bb>\u001b[0m in \u001b[0;36m<listcomp>\u001b[0;34m(.0)\u001b[0m\n\u001b[1;32m      3\u001b[0m         \u001b[0;32mreturn\u001b[0m \u001b[0;36m1\u001b[0m\u001b[0;34m\u001b[0m\u001b[0;34m\u001b[0m\u001b[0m\n\u001b[1;32m      4\u001b[0m     return 1+min([recMC(coinValueList, change-c) \n\u001b[0;32m----> 5\u001b[0;31m                 for c in coinValueList if c <= change],default=change)\n\u001b[0m\u001b[1;32m      6\u001b[0m \u001b[0;34m\u001b[0m\u001b[0m\n\u001b[1;32m      7\u001b[0m \u001b[0mprint\u001b[0m\u001b[0;34m(\u001b[0m\u001b[0mrecMC\u001b[0m\u001b[0;34m(\u001b[0m\u001b[0;34m[\u001b[0m\u001b[0;36m1\u001b[0m\u001b[0;34m,\u001b[0m\u001b[0;36m5\u001b[0m\u001b[0;34m,\u001b[0m\u001b[0;36m10\u001b[0m\u001b[0;34m,\u001b[0m\u001b[0;36m25\u001b[0m\u001b[0;34m]\u001b[0m\u001b[0;34m,\u001b[0m \u001b[0;36m63\u001b[0m\u001b[0;34m)\u001b[0m\u001b[0;34m)\u001b[0m\u001b[0;34m\u001b[0m\u001b[0;34m\u001b[0m\u001b[0m\n",
      "\u001b[0;32m<ipython-input-30-e3d7602766bb>\u001b[0m in \u001b[0;36mrecMC\u001b[0;34m(coinValueList, change)\u001b[0m\n\u001b[1;32m      3\u001b[0m         \u001b[0;32mreturn\u001b[0m \u001b[0;36m1\u001b[0m\u001b[0;34m\u001b[0m\u001b[0;34m\u001b[0m\u001b[0m\n\u001b[1;32m      4\u001b[0m     return 1+min([recMC(coinValueList, change-c) \n\u001b[0;32m----> 5\u001b[0;31m                 for c in coinValueList if c <= change],default=change)\n\u001b[0m\u001b[1;32m      6\u001b[0m \u001b[0;34m\u001b[0m\u001b[0m\n\u001b[1;32m      7\u001b[0m \u001b[0mprint\u001b[0m\u001b[0;34m(\u001b[0m\u001b[0mrecMC\u001b[0m\u001b[0;34m(\u001b[0m\u001b[0;34m[\u001b[0m\u001b[0;36m1\u001b[0m\u001b[0;34m,\u001b[0m\u001b[0;36m5\u001b[0m\u001b[0;34m,\u001b[0m\u001b[0;36m10\u001b[0m\u001b[0;34m,\u001b[0m\u001b[0;36m25\u001b[0m\u001b[0;34m]\u001b[0m\u001b[0;34m,\u001b[0m \u001b[0;36m63\u001b[0m\u001b[0;34m)\u001b[0m\u001b[0;34m)\u001b[0m\u001b[0;34m\u001b[0m\u001b[0;34m\u001b[0m\u001b[0m\n",
      "\u001b[0;32m<ipython-input-30-e3d7602766bb>\u001b[0m in \u001b[0;36m<listcomp>\u001b[0;34m(.0)\u001b[0m\n\u001b[1;32m      3\u001b[0m         \u001b[0;32mreturn\u001b[0m \u001b[0;36m1\u001b[0m\u001b[0;34m\u001b[0m\u001b[0;34m\u001b[0m\u001b[0m\n\u001b[1;32m      4\u001b[0m     return 1+min([recMC(coinValueList, change-c) \n\u001b[0;32m----> 5\u001b[0;31m                 for c in coinValueList if c <= change],default=change)\n\u001b[0m\u001b[1;32m      6\u001b[0m \u001b[0;34m\u001b[0m\u001b[0m\n\u001b[1;32m      7\u001b[0m \u001b[0mprint\u001b[0m\u001b[0;34m(\u001b[0m\u001b[0mrecMC\u001b[0m\u001b[0;34m(\u001b[0m\u001b[0;34m[\u001b[0m\u001b[0;36m1\u001b[0m\u001b[0;34m,\u001b[0m\u001b[0;36m5\u001b[0m\u001b[0;34m,\u001b[0m\u001b[0;36m10\u001b[0m\u001b[0;34m,\u001b[0m\u001b[0;36m25\u001b[0m\u001b[0;34m]\u001b[0m\u001b[0;34m,\u001b[0m \u001b[0;36m63\u001b[0m\u001b[0;34m)\u001b[0m\u001b[0;34m)\u001b[0m\u001b[0;34m\u001b[0m\u001b[0;34m\u001b[0m\u001b[0m\n",
      "\u001b[0;32m<ipython-input-30-e3d7602766bb>\u001b[0m in \u001b[0;36mrecMC\u001b[0;34m(coinValueList, change)\u001b[0m\n\u001b[1;32m      3\u001b[0m         \u001b[0;32mreturn\u001b[0m \u001b[0;36m1\u001b[0m\u001b[0;34m\u001b[0m\u001b[0;34m\u001b[0m\u001b[0m\n\u001b[1;32m      4\u001b[0m     return 1+min([recMC(coinValueList, change-c) \n\u001b[0;32m----> 5\u001b[0;31m                 for c in coinValueList if c <= change],default=change)\n\u001b[0m\u001b[1;32m      6\u001b[0m \u001b[0;34m\u001b[0m\u001b[0m\n\u001b[1;32m      7\u001b[0m \u001b[0mprint\u001b[0m\u001b[0;34m(\u001b[0m\u001b[0mrecMC\u001b[0m\u001b[0;34m(\u001b[0m\u001b[0;34m[\u001b[0m\u001b[0;36m1\u001b[0m\u001b[0;34m,\u001b[0m\u001b[0;36m5\u001b[0m\u001b[0;34m,\u001b[0m\u001b[0;36m10\u001b[0m\u001b[0;34m,\u001b[0m\u001b[0;36m25\u001b[0m\u001b[0;34m]\u001b[0m\u001b[0;34m,\u001b[0m \u001b[0;36m63\u001b[0m\u001b[0;34m)\u001b[0m\u001b[0;34m)\u001b[0m\u001b[0;34m\u001b[0m\u001b[0;34m\u001b[0m\u001b[0m\n",
      "\u001b[0;32m<ipython-input-30-e3d7602766bb>\u001b[0m in \u001b[0;36m<listcomp>\u001b[0;34m(.0)\u001b[0m\n\u001b[1;32m      3\u001b[0m         \u001b[0;32mreturn\u001b[0m \u001b[0;36m1\u001b[0m\u001b[0;34m\u001b[0m\u001b[0;34m\u001b[0m\u001b[0m\n\u001b[1;32m      4\u001b[0m     return 1+min([recMC(coinValueList, change-c) \n\u001b[0;32m----> 5\u001b[0;31m                 for c in coinValueList if c <= change],default=change)\n\u001b[0m\u001b[1;32m      6\u001b[0m \u001b[0;34m\u001b[0m\u001b[0m\n\u001b[1;32m      7\u001b[0m \u001b[0mprint\u001b[0m\u001b[0;34m(\u001b[0m\u001b[0mrecMC\u001b[0m\u001b[0;34m(\u001b[0m\u001b[0;34m[\u001b[0m\u001b[0;36m1\u001b[0m\u001b[0;34m,\u001b[0m\u001b[0;36m5\u001b[0m\u001b[0;34m,\u001b[0m\u001b[0;36m10\u001b[0m\u001b[0;34m,\u001b[0m\u001b[0;36m25\u001b[0m\u001b[0;34m]\u001b[0m\u001b[0;34m,\u001b[0m \u001b[0;36m63\u001b[0m\u001b[0;34m)\u001b[0m\u001b[0;34m)\u001b[0m\u001b[0;34m\u001b[0m\u001b[0;34m\u001b[0m\u001b[0m\n",
      "\u001b[0;32m<ipython-input-30-e3d7602766bb>\u001b[0m in \u001b[0;36mrecMC\u001b[0;34m(coinValueList, change)\u001b[0m\n\u001b[1;32m      3\u001b[0m         \u001b[0;32mreturn\u001b[0m \u001b[0;36m1\u001b[0m\u001b[0;34m\u001b[0m\u001b[0;34m\u001b[0m\u001b[0m\n\u001b[1;32m      4\u001b[0m     return 1+min([recMC(coinValueList, change-c) \n\u001b[0;32m----> 5\u001b[0;31m                 for c in coinValueList if c <= change],default=change)\n\u001b[0m\u001b[1;32m      6\u001b[0m \u001b[0;34m\u001b[0m\u001b[0m\n\u001b[1;32m      7\u001b[0m \u001b[0mprint\u001b[0m\u001b[0;34m(\u001b[0m\u001b[0mrecMC\u001b[0m\u001b[0;34m(\u001b[0m\u001b[0;34m[\u001b[0m\u001b[0;36m1\u001b[0m\u001b[0;34m,\u001b[0m\u001b[0;36m5\u001b[0m\u001b[0;34m,\u001b[0m\u001b[0;36m10\u001b[0m\u001b[0;34m,\u001b[0m\u001b[0;36m25\u001b[0m\u001b[0;34m]\u001b[0m\u001b[0;34m,\u001b[0m \u001b[0;36m63\u001b[0m\u001b[0;34m)\u001b[0m\u001b[0;34m)\u001b[0m\u001b[0;34m\u001b[0m\u001b[0;34m\u001b[0m\u001b[0m\n",
      "\u001b[0;32m<ipython-input-30-e3d7602766bb>\u001b[0m in \u001b[0;36m<listcomp>\u001b[0;34m(.0)\u001b[0m\n\u001b[1;32m      3\u001b[0m         \u001b[0;32mreturn\u001b[0m \u001b[0;36m1\u001b[0m\u001b[0;34m\u001b[0m\u001b[0;34m\u001b[0m\u001b[0m\n\u001b[1;32m      4\u001b[0m     return 1+min([recMC(coinValueList, change-c) \n\u001b[0;32m----> 5\u001b[0;31m                 for c in coinValueList if c <= change],default=change)\n\u001b[0m\u001b[1;32m      6\u001b[0m \u001b[0;34m\u001b[0m\u001b[0m\n\u001b[1;32m      7\u001b[0m \u001b[0mprint\u001b[0m\u001b[0;34m(\u001b[0m\u001b[0mrecMC\u001b[0m\u001b[0;34m(\u001b[0m\u001b[0;34m[\u001b[0m\u001b[0;36m1\u001b[0m\u001b[0;34m,\u001b[0m\u001b[0;36m5\u001b[0m\u001b[0;34m,\u001b[0m\u001b[0;36m10\u001b[0m\u001b[0;34m,\u001b[0m\u001b[0;36m25\u001b[0m\u001b[0;34m]\u001b[0m\u001b[0;34m,\u001b[0m \u001b[0;36m63\u001b[0m\u001b[0;34m)\u001b[0m\u001b[0;34m)\u001b[0m\u001b[0;34m\u001b[0m\u001b[0;34m\u001b[0m\u001b[0m\n",
      "\u001b[0;32m<ipython-input-30-e3d7602766bb>\u001b[0m in \u001b[0;36mrecMC\u001b[0;34m(coinValueList, change)\u001b[0m\n\u001b[1;32m      3\u001b[0m         \u001b[0;32mreturn\u001b[0m \u001b[0;36m1\u001b[0m\u001b[0;34m\u001b[0m\u001b[0;34m\u001b[0m\u001b[0m\n\u001b[1;32m      4\u001b[0m     return 1+min([recMC(coinValueList, change-c) \n\u001b[0;32m----> 5\u001b[0;31m                 for c in coinValueList if c <= change],default=change)\n\u001b[0m\u001b[1;32m      6\u001b[0m \u001b[0;34m\u001b[0m\u001b[0m\n\u001b[1;32m      7\u001b[0m \u001b[0mprint\u001b[0m\u001b[0;34m(\u001b[0m\u001b[0mrecMC\u001b[0m\u001b[0;34m(\u001b[0m\u001b[0;34m[\u001b[0m\u001b[0;36m1\u001b[0m\u001b[0;34m,\u001b[0m\u001b[0;36m5\u001b[0m\u001b[0;34m,\u001b[0m\u001b[0;36m10\u001b[0m\u001b[0;34m,\u001b[0m\u001b[0;36m25\u001b[0m\u001b[0;34m]\u001b[0m\u001b[0;34m,\u001b[0m \u001b[0;36m63\u001b[0m\u001b[0;34m)\u001b[0m\u001b[0;34m)\u001b[0m\u001b[0;34m\u001b[0m\u001b[0;34m\u001b[0m\u001b[0m\n",
      "\u001b[0;32m<ipython-input-30-e3d7602766bb>\u001b[0m in \u001b[0;36m<listcomp>\u001b[0;34m(.0)\u001b[0m\n\u001b[1;32m      3\u001b[0m         \u001b[0;32mreturn\u001b[0m \u001b[0;36m1\u001b[0m\u001b[0;34m\u001b[0m\u001b[0;34m\u001b[0m\u001b[0m\n\u001b[1;32m      4\u001b[0m     return 1+min([recMC(coinValueList, change-c) \n\u001b[0;32m----> 5\u001b[0;31m                 for c in coinValueList if c <= change],default=change)\n\u001b[0m\u001b[1;32m      6\u001b[0m \u001b[0;34m\u001b[0m\u001b[0m\n\u001b[1;32m      7\u001b[0m \u001b[0mprint\u001b[0m\u001b[0;34m(\u001b[0m\u001b[0mrecMC\u001b[0m\u001b[0;34m(\u001b[0m\u001b[0;34m[\u001b[0m\u001b[0;36m1\u001b[0m\u001b[0;34m,\u001b[0m\u001b[0;36m5\u001b[0m\u001b[0;34m,\u001b[0m\u001b[0;36m10\u001b[0m\u001b[0;34m,\u001b[0m\u001b[0;36m25\u001b[0m\u001b[0;34m]\u001b[0m\u001b[0;34m,\u001b[0m \u001b[0;36m63\u001b[0m\u001b[0;34m)\u001b[0m\u001b[0;34m)\u001b[0m\u001b[0;34m\u001b[0m\u001b[0;34m\u001b[0m\u001b[0m\n",
      "\u001b[0;32m<ipython-input-30-e3d7602766bb>\u001b[0m in \u001b[0;36mrecMC\u001b[0;34m(coinValueList, change)\u001b[0m\n\u001b[1;32m      3\u001b[0m         \u001b[0;32mreturn\u001b[0m \u001b[0;36m1\u001b[0m\u001b[0;34m\u001b[0m\u001b[0;34m\u001b[0m\u001b[0m\n\u001b[1;32m      4\u001b[0m     return 1+min([recMC(coinValueList, change-c) \n\u001b[0;32m----> 5\u001b[0;31m                 for c in coinValueList if c <= change],default=change)\n\u001b[0m\u001b[1;32m      6\u001b[0m \u001b[0;34m\u001b[0m\u001b[0m\n\u001b[1;32m      7\u001b[0m \u001b[0mprint\u001b[0m\u001b[0;34m(\u001b[0m\u001b[0mrecMC\u001b[0m\u001b[0;34m(\u001b[0m\u001b[0;34m[\u001b[0m\u001b[0;36m1\u001b[0m\u001b[0;34m,\u001b[0m\u001b[0;36m5\u001b[0m\u001b[0;34m,\u001b[0m\u001b[0;36m10\u001b[0m\u001b[0;34m,\u001b[0m\u001b[0;36m25\u001b[0m\u001b[0;34m]\u001b[0m\u001b[0;34m,\u001b[0m \u001b[0;36m63\u001b[0m\u001b[0;34m)\u001b[0m\u001b[0;34m)\u001b[0m\u001b[0;34m\u001b[0m\u001b[0;34m\u001b[0m\u001b[0m\n",
      "\u001b[0;32m<ipython-input-30-e3d7602766bb>\u001b[0m in \u001b[0;36m<listcomp>\u001b[0;34m(.0)\u001b[0m\n\u001b[1;32m      3\u001b[0m         \u001b[0;32mreturn\u001b[0m \u001b[0;36m1\u001b[0m\u001b[0;34m\u001b[0m\u001b[0;34m\u001b[0m\u001b[0m\n\u001b[1;32m      4\u001b[0m     return 1+min([recMC(coinValueList, change-c) \n\u001b[0;32m----> 5\u001b[0;31m                 for c in coinValueList if c <= change],default=change)\n\u001b[0m\u001b[1;32m      6\u001b[0m \u001b[0;34m\u001b[0m\u001b[0m\n\u001b[1;32m      7\u001b[0m \u001b[0mprint\u001b[0m\u001b[0;34m(\u001b[0m\u001b[0mrecMC\u001b[0m\u001b[0;34m(\u001b[0m\u001b[0;34m[\u001b[0m\u001b[0;36m1\u001b[0m\u001b[0;34m,\u001b[0m\u001b[0;36m5\u001b[0m\u001b[0;34m,\u001b[0m\u001b[0;36m10\u001b[0m\u001b[0;34m,\u001b[0m\u001b[0;36m25\u001b[0m\u001b[0;34m]\u001b[0m\u001b[0;34m,\u001b[0m \u001b[0;36m63\u001b[0m\u001b[0;34m)\u001b[0m\u001b[0;34m)\u001b[0m\u001b[0;34m\u001b[0m\u001b[0;34m\u001b[0m\u001b[0m\n",
      "\u001b[0;32m<ipython-input-30-e3d7602766bb>\u001b[0m in \u001b[0;36mrecMC\u001b[0;34m(coinValueList, change)\u001b[0m\n\u001b[1;32m      3\u001b[0m         \u001b[0;32mreturn\u001b[0m \u001b[0;36m1\u001b[0m\u001b[0;34m\u001b[0m\u001b[0;34m\u001b[0m\u001b[0m\n\u001b[1;32m      4\u001b[0m     return 1+min([recMC(coinValueList, change-c) \n\u001b[0;32m----> 5\u001b[0;31m                 for c in coinValueList if c <= change],default=change)\n\u001b[0m\u001b[1;32m      6\u001b[0m \u001b[0;34m\u001b[0m\u001b[0m\n\u001b[1;32m      7\u001b[0m \u001b[0mprint\u001b[0m\u001b[0;34m(\u001b[0m\u001b[0mrecMC\u001b[0m\u001b[0;34m(\u001b[0m\u001b[0;34m[\u001b[0m\u001b[0;36m1\u001b[0m\u001b[0;34m,\u001b[0m\u001b[0;36m5\u001b[0m\u001b[0;34m,\u001b[0m\u001b[0;36m10\u001b[0m\u001b[0;34m,\u001b[0m\u001b[0;36m25\u001b[0m\u001b[0;34m]\u001b[0m\u001b[0;34m,\u001b[0m \u001b[0;36m63\u001b[0m\u001b[0;34m)\u001b[0m\u001b[0;34m)\u001b[0m\u001b[0;34m\u001b[0m\u001b[0;34m\u001b[0m\u001b[0m\n",
      "\u001b[0;32m<ipython-input-30-e3d7602766bb>\u001b[0m in \u001b[0;36m<listcomp>\u001b[0;34m(.0)\u001b[0m\n\u001b[1;32m      3\u001b[0m         \u001b[0;32mreturn\u001b[0m \u001b[0;36m1\u001b[0m\u001b[0;34m\u001b[0m\u001b[0;34m\u001b[0m\u001b[0m\n\u001b[1;32m      4\u001b[0m     return 1+min([recMC(coinValueList, change-c) \n\u001b[0;32m----> 5\u001b[0;31m                 for c in coinValueList if c <= change],default=change)\n\u001b[0m\u001b[1;32m      6\u001b[0m \u001b[0;34m\u001b[0m\u001b[0m\n\u001b[1;32m      7\u001b[0m \u001b[0mprint\u001b[0m\u001b[0;34m(\u001b[0m\u001b[0mrecMC\u001b[0m\u001b[0;34m(\u001b[0m\u001b[0;34m[\u001b[0m\u001b[0;36m1\u001b[0m\u001b[0;34m,\u001b[0m\u001b[0;36m5\u001b[0m\u001b[0;34m,\u001b[0m\u001b[0;36m10\u001b[0m\u001b[0;34m,\u001b[0m\u001b[0;36m25\u001b[0m\u001b[0;34m]\u001b[0m\u001b[0;34m,\u001b[0m \u001b[0;36m63\u001b[0m\u001b[0;34m)\u001b[0m\u001b[0;34m)\u001b[0m\u001b[0;34m\u001b[0m\u001b[0;34m\u001b[0m\u001b[0m\n",
      "\u001b[0;32m<ipython-input-30-e3d7602766bb>\u001b[0m in \u001b[0;36mrecMC\u001b[0;34m(coinValueList, change)\u001b[0m\n\u001b[1;32m      3\u001b[0m         \u001b[0;32mreturn\u001b[0m \u001b[0;36m1\u001b[0m\u001b[0;34m\u001b[0m\u001b[0;34m\u001b[0m\u001b[0m\n\u001b[1;32m      4\u001b[0m     return 1+min([recMC(coinValueList, change-c) \n\u001b[0;32m----> 5\u001b[0;31m                 for c in coinValueList if c <= change],default=change)\n\u001b[0m\u001b[1;32m      6\u001b[0m \u001b[0;34m\u001b[0m\u001b[0m\n\u001b[1;32m      7\u001b[0m \u001b[0mprint\u001b[0m\u001b[0;34m(\u001b[0m\u001b[0mrecMC\u001b[0m\u001b[0;34m(\u001b[0m\u001b[0;34m[\u001b[0m\u001b[0;36m1\u001b[0m\u001b[0;34m,\u001b[0m\u001b[0;36m5\u001b[0m\u001b[0;34m,\u001b[0m\u001b[0;36m10\u001b[0m\u001b[0;34m,\u001b[0m\u001b[0;36m25\u001b[0m\u001b[0;34m]\u001b[0m\u001b[0;34m,\u001b[0m \u001b[0;36m63\u001b[0m\u001b[0;34m)\u001b[0m\u001b[0;34m)\u001b[0m\u001b[0;34m\u001b[0m\u001b[0;34m\u001b[0m\u001b[0m\n",
      "\u001b[0;32m<ipython-input-30-e3d7602766bb>\u001b[0m in \u001b[0;36m<listcomp>\u001b[0;34m(.0)\u001b[0m\n\u001b[1;32m      3\u001b[0m         \u001b[0;32mreturn\u001b[0m \u001b[0;36m1\u001b[0m\u001b[0;34m\u001b[0m\u001b[0;34m\u001b[0m\u001b[0m\n\u001b[1;32m      4\u001b[0m     return 1+min([recMC(coinValueList, change-c) \n\u001b[0;32m----> 5\u001b[0;31m                 for c in coinValueList if c <= change],default=change)\n\u001b[0m\u001b[1;32m      6\u001b[0m \u001b[0;34m\u001b[0m\u001b[0m\n\u001b[1;32m      7\u001b[0m \u001b[0mprint\u001b[0m\u001b[0;34m(\u001b[0m\u001b[0mrecMC\u001b[0m\u001b[0;34m(\u001b[0m\u001b[0;34m[\u001b[0m\u001b[0;36m1\u001b[0m\u001b[0;34m,\u001b[0m\u001b[0;36m5\u001b[0m\u001b[0;34m,\u001b[0m\u001b[0;36m10\u001b[0m\u001b[0;34m,\u001b[0m\u001b[0;36m25\u001b[0m\u001b[0;34m]\u001b[0m\u001b[0;34m,\u001b[0m \u001b[0;36m63\u001b[0m\u001b[0;34m)\u001b[0m\u001b[0;34m)\u001b[0m\u001b[0;34m\u001b[0m\u001b[0;34m\u001b[0m\u001b[0m\n",
      "\u001b[0;32m<ipython-input-30-e3d7602766bb>\u001b[0m in \u001b[0;36mrecMC\u001b[0;34m(coinValueList, change)\u001b[0m\n\u001b[1;32m      3\u001b[0m         \u001b[0;32mreturn\u001b[0m \u001b[0;36m1\u001b[0m\u001b[0;34m\u001b[0m\u001b[0;34m\u001b[0m\u001b[0m\n\u001b[1;32m      4\u001b[0m     return 1+min([recMC(coinValueList, change-c) \n\u001b[0;32m----> 5\u001b[0;31m                 for c in coinValueList if c <= change],default=change)\n\u001b[0m\u001b[1;32m      6\u001b[0m \u001b[0;34m\u001b[0m\u001b[0m\n\u001b[1;32m      7\u001b[0m \u001b[0mprint\u001b[0m\u001b[0;34m(\u001b[0m\u001b[0mrecMC\u001b[0m\u001b[0;34m(\u001b[0m\u001b[0;34m[\u001b[0m\u001b[0;36m1\u001b[0m\u001b[0;34m,\u001b[0m\u001b[0;36m5\u001b[0m\u001b[0;34m,\u001b[0m\u001b[0;36m10\u001b[0m\u001b[0;34m,\u001b[0m\u001b[0;36m25\u001b[0m\u001b[0;34m]\u001b[0m\u001b[0;34m,\u001b[0m \u001b[0;36m63\u001b[0m\u001b[0;34m)\u001b[0m\u001b[0;34m)\u001b[0m\u001b[0;34m\u001b[0m\u001b[0;34m\u001b[0m\u001b[0m\n",
      "\u001b[0;32m<ipython-input-30-e3d7602766bb>\u001b[0m in \u001b[0;36m<listcomp>\u001b[0;34m(.0)\u001b[0m\n\u001b[1;32m      3\u001b[0m         \u001b[0;32mreturn\u001b[0m \u001b[0;36m1\u001b[0m\u001b[0;34m\u001b[0m\u001b[0;34m\u001b[0m\u001b[0m\n\u001b[1;32m      4\u001b[0m     return 1+min([recMC(coinValueList, change-c) \n\u001b[0;32m----> 5\u001b[0;31m                 for c in coinValueList if c <= change],default=change)\n\u001b[0m\u001b[1;32m      6\u001b[0m \u001b[0;34m\u001b[0m\u001b[0m\n\u001b[1;32m      7\u001b[0m \u001b[0mprint\u001b[0m\u001b[0;34m(\u001b[0m\u001b[0mrecMC\u001b[0m\u001b[0;34m(\u001b[0m\u001b[0;34m[\u001b[0m\u001b[0;36m1\u001b[0m\u001b[0;34m,\u001b[0m\u001b[0;36m5\u001b[0m\u001b[0;34m,\u001b[0m\u001b[0;36m10\u001b[0m\u001b[0;34m,\u001b[0m\u001b[0;36m25\u001b[0m\u001b[0;34m]\u001b[0m\u001b[0;34m,\u001b[0m \u001b[0;36m63\u001b[0m\u001b[0;34m)\u001b[0m\u001b[0;34m)\u001b[0m\u001b[0;34m\u001b[0m\u001b[0;34m\u001b[0m\u001b[0m\n",
      "\u001b[0;32m<ipython-input-30-e3d7602766bb>\u001b[0m in \u001b[0;36mrecMC\u001b[0;34m(coinValueList, change)\u001b[0m\n\u001b[1;32m      3\u001b[0m         \u001b[0;32mreturn\u001b[0m \u001b[0;36m1\u001b[0m\u001b[0;34m\u001b[0m\u001b[0;34m\u001b[0m\u001b[0m\n\u001b[1;32m      4\u001b[0m     return 1+min([recMC(coinValueList, change-c) \n\u001b[0;32m----> 5\u001b[0;31m                 for c in coinValueList if c <= change],default=change)\n\u001b[0m\u001b[1;32m      6\u001b[0m \u001b[0;34m\u001b[0m\u001b[0m\n\u001b[1;32m      7\u001b[0m \u001b[0mprint\u001b[0m\u001b[0;34m(\u001b[0m\u001b[0mrecMC\u001b[0m\u001b[0;34m(\u001b[0m\u001b[0;34m[\u001b[0m\u001b[0;36m1\u001b[0m\u001b[0;34m,\u001b[0m\u001b[0;36m5\u001b[0m\u001b[0;34m,\u001b[0m\u001b[0;36m10\u001b[0m\u001b[0;34m,\u001b[0m\u001b[0;36m25\u001b[0m\u001b[0;34m]\u001b[0m\u001b[0;34m,\u001b[0m \u001b[0;36m63\u001b[0m\u001b[0;34m)\u001b[0m\u001b[0;34m)\u001b[0m\u001b[0;34m\u001b[0m\u001b[0;34m\u001b[0m\u001b[0m\n",
      "\u001b[0;32m<ipython-input-30-e3d7602766bb>\u001b[0m in \u001b[0;36m<listcomp>\u001b[0;34m(.0)\u001b[0m\n\u001b[1;32m      3\u001b[0m         \u001b[0;32mreturn\u001b[0m \u001b[0;36m1\u001b[0m\u001b[0;34m\u001b[0m\u001b[0;34m\u001b[0m\u001b[0m\n\u001b[1;32m      4\u001b[0m     return 1+min([recMC(coinValueList, change-c) \n\u001b[0;32m----> 5\u001b[0;31m                 for c in coinValueList if c <= change],default=change)\n\u001b[0m\u001b[1;32m      6\u001b[0m \u001b[0;34m\u001b[0m\u001b[0m\n\u001b[1;32m      7\u001b[0m \u001b[0mprint\u001b[0m\u001b[0;34m(\u001b[0m\u001b[0mrecMC\u001b[0m\u001b[0;34m(\u001b[0m\u001b[0;34m[\u001b[0m\u001b[0;36m1\u001b[0m\u001b[0;34m,\u001b[0m\u001b[0;36m5\u001b[0m\u001b[0;34m,\u001b[0m\u001b[0;36m10\u001b[0m\u001b[0;34m,\u001b[0m\u001b[0;36m25\u001b[0m\u001b[0;34m]\u001b[0m\u001b[0;34m,\u001b[0m \u001b[0;36m63\u001b[0m\u001b[0;34m)\u001b[0m\u001b[0;34m)\u001b[0m\u001b[0;34m\u001b[0m\u001b[0;34m\u001b[0m\u001b[0m\n",
      "\u001b[0;32m<ipython-input-30-e3d7602766bb>\u001b[0m in \u001b[0;36mrecMC\u001b[0;34m(coinValueList, change)\u001b[0m\n\u001b[1;32m      3\u001b[0m         \u001b[0;32mreturn\u001b[0m \u001b[0;36m1\u001b[0m\u001b[0;34m\u001b[0m\u001b[0;34m\u001b[0m\u001b[0m\n\u001b[1;32m      4\u001b[0m     return 1+min([recMC(coinValueList, change-c) \n\u001b[0;32m----> 5\u001b[0;31m                 for c in coinValueList if c <= change],default=change)\n\u001b[0m\u001b[1;32m      6\u001b[0m \u001b[0;34m\u001b[0m\u001b[0m\n\u001b[1;32m      7\u001b[0m \u001b[0mprint\u001b[0m\u001b[0;34m(\u001b[0m\u001b[0mrecMC\u001b[0m\u001b[0;34m(\u001b[0m\u001b[0;34m[\u001b[0m\u001b[0;36m1\u001b[0m\u001b[0;34m,\u001b[0m\u001b[0;36m5\u001b[0m\u001b[0;34m,\u001b[0m\u001b[0;36m10\u001b[0m\u001b[0;34m,\u001b[0m\u001b[0;36m25\u001b[0m\u001b[0;34m]\u001b[0m\u001b[0;34m,\u001b[0m \u001b[0;36m63\u001b[0m\u001b[0;34m)\u001b[0m\u001b[0;34m)\u001b[0m\u001b[0;34m\u001b[0m\u001b[0;34m\u001b[0m\u001b[0m\n",
      "\u001b[0;32m<ipython-input-30-e3d7602766bb>\u001b[0m in \u001b[0;36m<listcomp>\u001b[0;34m(.0)\u001b[0m\n\u001b[1;32m      3\u001b[0m         \u001b[0;32mreturn\u001b[0m \u001b[0;36m1\u001b[0m\u001b[0;34m\u001b[0m\u001b[0;34m\u001b[0m\u001b[0m\n\u001b[1;32m      4\u001b[0m     return 1+min([recMC(coinValueList, change-c) \n\u001b[0;32m----> 5\u001b[0;31m                 for c in coinValueList if c <= change],default=change)\n\u001b[0m\u001b[1;32m      6\u001b[0m \u001b[0;34m\u001b[0m\u001b[0m\n\u001b[1;32m      7\u001b[0m \u001b[0mprint\u001b[0m\u001b[0;34m(\u001b[0m\u001b[0mrecMC\u001b[0m\u001b[0;34m(\u001b[0m\u001b[0;34m[\u001b[0m\u001b[0;36m1\u001b[0m\u001b[0;34m,\u001b[0m\u001b[0;36m5\u001b[0m\u001b[0;34m,\u001b[0m\u001b[0;36m10\u001b[0m\u001b[0;34m,\u001b[0m\u001b[0;36m25\u001b[0m\u001b[0;34m]\u001b[0m\u001b[0;34m,\u001b[0m \u001b[0;36m63\u001b[0m\u001b[0;34m)\u001b[0m\u001b[0;34m)\u001b[0m\u001b[0;34m\u001b[0m\u001b[0;34m\u001b[0m\u001b[0m\n",
      "\u001b[0;32m<ipython-input-30-e3d7602766bb>\u001b[0m in \u001b[0;36mrecMC\u001b[0;34m(coinValueList, change)\u001b[0m\n\u001b[1;32m      3\u001b[0m         \u001b[0;32mreturn\u001b[0m \u001b[0;36m1\u001b[0m\u001b[0;34m\u001b[0m\u001b[0;34m\u001b[0m\u001b[0m\n\u001b[1;32m      4\u001b[0m     return 1+min([recMC(coinValueList, change-c) \n\u001b[0;32m----> 5\u001b[0;31m                 for c in coinValueList if c <= change],default=change)\n\u001b[0m\u001b[1;32m      6\u001b[0m \u001b[0;34m\u001b[0m\u001b[0m\n\u001b[1;32m      7\u001b[0m \u001b[0mprint\u001b[0m\u001b[0;34m(\u001b[0m\u001b[0mrecMC\u001b[0m\u001b[0;34m(\u001b[0m\u001b[0;34m[\u001b[0m\u001b[0;36m1\u001b[0m\u001b[0;34m,\u001b[0m\u001b[0;36m5\u001b[0m\u001b[0;34m,\u001b[0m\u001b[0;36m10\u001b[0m\u001b[0;34m,\u001b[0m\u001b[0;36m25\u001b[0m\u001b[0;34m]\u001b[0m\u001b[0;34m,\u001b[0m \u001b[0;36m63\u001b[0m\u001b[0;34m)\u001b[0m\u001b[0;34m)\u001b[0m\u001b[0;34m\u001b[0m\u001b[0;34m\u001b[0m\u001b[0m\n",
      "\u001b[0;32m<ipython-input-30-e3d7602766bb>\u001b[0m in \u001b[0;36m<listcomp>\u001b[0;34m(.0)\u001b[0m\n\u001b[1;32m      3\u001b[0m         \u001b[0;32mreturn\u001b[0m \u001b[0;36m1\u001b[0m\u001b[0;34m\u001b[0m\u001b[0;34m\u001b[0m\u001b[0m\n\u001b[1;32m      4\u001b[0m     return 1+min([recMC(coinValueList, change-c) \n\u001b[0;32m----> 5\u001b[0;31m                 for c in coinValueList if c <= change],default=change)\n\u001b[0m\u001b[1;32m      6\u001b[0m \u001b[0;34m\u001b[0m\u001b[0m\n\u001b[1;32m      7\u001b[0m \u001b[0mprint\u001b[0m\u001b[0;34m(\u001b[0m\u001b[0mrecMC\u001b[0m\u001b[0;34m(\u001b[0m\u001b[0;34m[\u001b[0m\u001b[0;36m1\u001b[0m\u001b[0;34m,\u001b[0m\u001b[0;36m5\u001b[0m\u001b[0;34m,\u001b[0m\u001b[0;36m10\u001b[0m\u001b[0;34m,\u001b[0m\u001b[0;36m25\u001b[0m\u001b[0;34m]\u001b[0m\u001b[0;34m,\u001b[0m \u001b[0;36m63\u001b[0m\u001b[0;34m)\u001b[0m\u001b[0;34m)\u001b[0m\u001b[0;34m\u001b[0m\u001b[0;34m\u001b[0m\u001b[0m\n",
      "\u001b[0;32m<ipython-input-30-e3d7602766bb>\u001b[0m in \u001b[0;36mrecMC\u001b[0;34m(coinValueList, change)\u001b[0m\n\u001b[1;32m      3\u001b[0m         \u001b[0;32mreturn\u001b[0m \u001b[0;36m1\u001b[0m\u001b[0;34m\u001b[0m\u001b[0;34m\u001b[0m\u001b[0m\n\u001b[1;32m      4\u001b[0m     return 1+min([recMC(coinValueList, change-c) \n\u001b[0;32m----> 5\u001b[0;31m                 for c in coinValueList if c <= change],default=change)\n\u001b[0m\u001b[1;32m      6\u001b[0m \u001b[0;34m\u001b[0m\u001b[0m\n\u001b[1;32m      7\u001b[0m \u001b[0mprint\u001b[0m\u001b[0;34m(\u001b[0m\u001b[0mrecMC\u001b[0m\u001b[0;34m(\u001b[0m\u001b[0;34m[\u001b[0m\u001b[0;36m1\u001b[0m\u001b[0;34m,\u001b[0m\u001b[0;36m5\u001b[0m\u001b[0;34m,\u001b[0m\u001b[0;36m10\u001b[0m\u001b[0;34m,\u001b[0m\u001b[0;36m25\u001b[0m\u001b[0;34m]\u001b[0m\u001b[0;34m,\u001b[0m \u001b[0;36m63\u001b[0m\u001b[0;34m)\u001b[0m\u001b[0;34m)\u001b[0m\u001b[0;34m\u001b[0m\u001b[0;34m\u001b[0m\u001b[0m\n",
      "\u001b[0;32m<ipython-input-30-e3d7602766bb>\u001b[0m in \u001b[0;36m<listcomp>\u001b[0;34m(.0)\u001b[0m\n\u001b[1;32m      3\u001b[0m         \u001b[0;32mreturn\u001b[0m \u001b[0;36m1\u001b[0m\u001b[0;34m\u001b[0m\u001b[0;34m\u001b[0m\u001b[0m\n\u001b[1;32m      4\u001b[0m     return 1+min([recMC(coinValueList, change-c) \n\u001b[0;32m----> 5\u001b[0;31m                 for c in coinValueList if c <= change],default=change)\n\u001b[0m\u001b[1;32m      6\u001b[0m \u001b[0;34m\u001b[0m\u001b[0m\n\u001b[1;32m      7\u001b[0m \u001b[0mprint\u001b[0m\u001b[0;34m(\u001b[0m\u001b[0mrecMC\u001b[0m\u001b[0;34m(\u001b[0m\u001b[0;34m[\u001b[0m\u001b[0;36m1\u001b[0m\u001b[0;34m,\u001b[0m\u001b[0;36m5\u001b[0m\u001b[0;34m,\u001b[0m\u001b[0;36m10\u001b[0m\u001b[0;34m,\u001b[0m\u001b[0;36m25\u001b[0m\u001b[0;34m]\u001b[0m\u001b[0;34m,\u001b[0m \u001b[0;36m63\u001b[0m\u001b[0;34m)\u001b[0m\u001b[0;34m)\u001b[0m\u001b[0;34m\u001b[0m\u001b[0;34m\u001b[0m\u001b[0m\n",
      "\u001b[0;32m<ipython-input-30-e3d7602766bb>\u001b[0m in \u001b[0;36mrecMC\u001b[0;34m(coinValueList, change)\u001b[0m\n\u001b[1;32m      3\u001b[0m         \u001b[0;32mreturn\u001b[0m \u001b[0;36m1\u001b[0m\u001b[0;34m\u001b[0m\u001b[0;34m\u001b[0m\u001b[0m\n\u001b[1;32m      4\u001b[0m     return 1+min([recMC(coinValueList, change-c) \n\u001b[0;32m----> 5\u001b[0;31m                 for c in coinValueList if c <= change],default=change)\n\u001b[0m\u001b[1;32m      6\u001b[0m \u001b[0;34m\u001b[0m\u001b[0m\n\u001b[1;32m      7\u001b[0m \u001b[0mprint\u001b[0m\u001b[0;34m(\u001b[0m\u001b[0mrecMC\u001b[0m\u001b[0;34m(\u001b[0m\u001b[0;34m[\u001b[0m\u001b[0;36m1\u001b[0m\u001b[0;34m,\u001b[0m\u001b[0;36m5\u001b[0m\u001b[0;34m,\u001b[0m\u001b[0;36m10\u001b[0m\u001b[0;34m,\u001b[0m\u001b[0;36m25\u001b[0m\u001b[0;34m]\u001b[0m\u001b[0;34m,\u001b[0m \u001b[0;36m63\u001b[0m\u001b[0;34m)\u001b[0m\u001b[0;34m)\u001b[0m\u001b[0;34m\u001b[0m\u001b[0;34m\u001b[0m\u001b[0m\n",
      "\u001b[0;32m<ipython-input-30-e3d7602766bb>\u001b[0m in \u001b[0;36m<listcomp>\u001b[0;34m(.0)\u001b[0m\n\u001b[1;32m      3\u001b[0m         \u001b[0;32mreturn\u001b[0m \u001b[0;36m1\u001b[0m\u001b[0;34m\u001b[0m\u001b[0;34m\u001b[0m\u001b[0m\n\u001b[1;32m      4\u001b[0m     return 1+min([recMC(coinValueList, change-c) \n\u001b[0;32m----> 5\u001b[0;31m                 for c in coinValueList if c <= change],default=change)\n\u001b[0m\u001b[1;32m      6\u001b[0m \u001b[0;34m\u001b[0m\u001b[0m\n\u001b[1;32m      7\u001b[0m \u001b[0mprint\u001b[0m\u001b[0;34m(\u001b[0m\u001b[0mrecMC\u001b[0m\u001b[0;34m(\u001b[0m\u001b[0;34m[\u001b[0m\u001b[0;36m1\u001b[0m\u001b[0;34m,\u001b[0m\u001b[0;36m5\u001b[0m\u001b[0;34m,\u001b[0m\u001b[0;36m10\u001b[0m\u001b[0;34m,\u001b[0m\u001b[0;36m25\u001b[0m\u001b[0;34m]\u001b[0m\u001b[0;34m,\u001b[0m \u001b[0;36m63\u001b[0m\u001b[0;34m)\u001b[0m\u001b[0;34m)\u001b[0m\u001b[0;34m\u001b[0m\u001b[0;34m\u001b[0m\u001b[0m\n",
      "\u001b[0;31mKeyboardInterrupt\u001b[0m: "
     ]
    }
   ],
   "source": [
    "def recMC(coinValueList, change):\n",
    "    if change in coinValueList:\n",
    "        return 1\n",
    "    return 1+min([recMC(coinValueList, change-c) \n",
    "                for c in coinValueList if c <= change],default=change)\n",
    "\n",
    "print(recMC([1,5,10,25], 63))"
   ]
  },
  {
   "cell_type": "code",
   "execution_count": null,
   "metadata": {},
   "outputs": [],
   "source": [
    "#### 递归法找硬币(带中间结果缓存)"
   ]
  },
  {
   "cell_type": "code",
   "execution_count": null,
   "metadata": {},
   "outputs": [],
   "source": [
    "def recMC(coinValueList, change, knownResults):\n",
    "    if knownResults[change] > 0:\n",
    "        return knownResults[change]\n",
    "    elif change in coinValueList:\n",
    "        knownResults[change] = 1\n",
    "        return 1\n",
    "    knownResults[change] = 1+min([recMC(coinValueList, change-c, knownResults) \n",
    "                for c in coinValueList if c <= change],default=change)\n",
    "    return knownResults[change]\n",
    "\n",
    "print(recMC([1,5,10,25], 63, [0]*64))"
   ]
  },
  {
   "cell_type": "markdown",
   "metadata": {},
   "source": [
    "#### 动规找硬币"
   ]
  },
  {
   "cell_type": "code",
   "execution_count": null,
   "metadata": {},
   "outputs": [],
   "source": [
    "def dpMC(coinValueList, change, minCoins):\n",
    "    for cents in range(change+1):\n",
    "        # minCoins[less than cents] ==> minCoins[cents]\n",
    "        minCoins[cents] = min([1+minCoins[cents-c]\n",
    "             for c in coinValueList if c <= cents], default=cents)\n",
    "    return minCoins[change]\n",
    "\n",
    "print(dpMC([1,5,10,25], 63, [0]*64))"
   ]
  },
  {
   "cell_type": "markdown",
   "metadata": {},
   "source": [
    "#### 动规找硬币（扩展）"
   ]
  },
  {
   "cell_type": "code",
   "execution_count": null,
   "metadata": {},
   "outputs": [],
   "source": [
    "def dpMC(coinValueList, change, minCoins, coinsUsed):\n",
    "    for cents in range(change+1):\n",
    "        # minCoins[less than cents] ==> minCoins[cents] \n",
    "        ll = [(1+minCoins[cents-c],c) for c in coinValueList if c <= cents]\n",
    "        minCoins[cents], coinsUsed[cents] = min(ll, key=lambda x:x[0], default=(cents, 1))\n",
    "    return minCoins[change]\n",
    "def printCoins(coinsUsed, change):\n",
    "    coin = change\n",
    "    while coin > 0:\n",
    "        thisCoin = coinsUsed[coin]\n",
    "        print(thisCoin, end=' ')\n",
    "        coin -= thisCoin\n",
    "    print()\n",
    "coinsUsed = [0]*64\n",
    "print(dpMC([1,5,10,25], 63, [0]*64, coinsUsed))\n",
    "printCoins(coinsUsed, 63)\n",
    "print(dpMC([1,5,10,21, 25], 63, [0]*64, coinsUsed)) #增加了奇葩21\n",
    "printCoins(coinsUsed, 63)"
   ]
  },
  {
   "cell_type": "markdown",
   "metadata": {},
   "source": [
    "###### O(mn)的字符串查找算法"
   ]
  },
  {
   "cell_type": "code",
   "execution_count": null,
   "metadata": {},
   "outputs": [],
   "source": [
    "def indexOmn(S, P, pos=0):\n",
    "    i=0                     #P的读写头\n",
    "    j=pos                     #S的读写头\n",
    "    while i<len(P) and j<len(S):\n",
    "        if P[i] == S[j]:    #两个读写头下的字符相等\n",
    "            i += 1\n",
    "            j += 1\n",
    "        else:               #不等\n",
    "            j = j - i + 1   #把P右移一格，重新比较\n",
    "            i = 0\n",
    "    else:\n",
    "        if i == len(P):     #找到了一个匹配\n",
    "            return j-i\n",
    "        else:\n",
    "            return None\n",
    "\n",
    "print(indexOmn(\"baababababacaca\", \"ababaca\"))\n",
    "print(indexOmn(\"baababababacaca\", \"ababaxa\"))"
   ]
  },
  {
   "cell_type": "markdown",
   "metadata": {},
   "source": [
    "##### 求Pattern所有前缀（包括自身）的最长公共前后缀"
   ]
  },
  {
   "cell_type": "code",
   "execution_count": null,
   "metadata": {},
   "outputs": [],
   "source": [
    "def partial(pattern):\n",
    "    ret = [0,0]\n",
    "    for i in range(1, len(pattern)):\n",
    "        j = ret[i]\n",
    "        while j > 0 and pattern[j] != pattern[i]:\n",
    "            j = ret[j]\n",
    "        ret.append(j+1 if pattern[j] == pattern[i] else 0)\n",
    "    return ret\n",
    "\n",
    "if __name__ == \"__main__\":\n",
    "    print(partial('ababac'))\n",
    "    print(partial('ababaca'))\n",
    "    print(partial('aaaaa'))"
   ]
  },
  {
   "cell_type": "code",
   "execution_count": null,
   "metadata": {},
   "outputs": [],
   "source": [
    "def indexKMP(S, P, pos=0):\n",
    "    i=0                     #P的读写头\n",
    "    j=pos                     #S的读写头\n",
    "    part=partial(P)         #计算P的partial\n",
    "    while i<len(P) and j<len(S):\n",
    "        if P[i] == S[j]:    #两个读写头下的字符相等\n",
    "            i += 1\n",
    "            j += 1\n",
    "        else:               #不等\n",
    "            if i == 0:\n",
    "                j += 1\n",
    "            else:\n",
    "                i = part[i]\n",
    "    else:\n",
    "        if i == len(P):     #找到了一个匹配\n",
    "            return j-i\n",
    "        else:\n",
    "            return None\n",
    "\n",
    "if __name__ == \"__main__\":\n",
    "    print(indexKMP(\"baababababacaca\", \"ababaca\"))\n",
    "    print(indexKMP(\"baababababacaca\", \"ababaxa\"))"
   ]
  },
  {
   "cell_type": "markdown",
   "metadata": {},
   "source": [
    "##### 实测indexOmn和indexKMP的效率"
   ]
  },
  {
   "cell_type": "code",
   "execution_count": null,
   "metadata": {},
   "outputs": [],
   "source": [
    "def read_text(fn):\n",
    "    with open(fn, 'r') as file:\n",
    "        return file.read().replace('\\n', '')\n",
    "    \n",
    "#data = read_text('1618824805.txt')  #红楼梦\n",
    "data = read_text('10-0.txt')         #圣经(旧约+新约)\n",
    "print(len(data))\n",
    "print(data[100000:100200])\n",
    "print(\"===================================\")\n",
    "#query=\"宝哥哥\"\n",
    "#query=\"宝玉来了\"\n",
    "#query=\"林姐姐\"\n",
    "#query=\"空空道人\"\n",
    "#query=\"林妹妹\"\n",
    "#query=\"那是个最小性儿又多心的\"\n",
    "#query=\"所以到底不长命\"\n",
    "query=\"Kings\"\n",
    "#query=\"My lord\" #****\n",
    "\n",
    "def searchAll(S, P, fun):\n",
    "    pos = 0\n",
    "    while pos is not None:\n",
    "        pos = fun(S, P, pos)\n",
    "        if pos :\n",
    "            print(S[pos:pos+20])\n",
    "            pos += len(P)\n",
    "\n",
    "from timeit import Timer\n",
    "t1 = Timer(\"searchAll(data, query, indexKMP)\", \"from __main__ import data, query, searchAll, indexKMP\")\n",
    "print(\"=========indexKMP cost time is {}\".format(t1.timeit(number=1)))\n",
    "t2 = Timer(\"searchAll(data, query, indexOmn)\", \"from __main__ import data, query, searchAll, indexOmn\")\n",
    "print(\"=========indexOmn cost time is {}\".format(t2.timeit(number=1)))"
   ]
  },
  {
   "cell_type": "code",
   "execution_count": null,
   "metadata": {},
   "outputs": [],
   "source": [
    "from line_profiler import LineProfiler\n",
    "def sumss(n):\n",
    "    res = 0\n",
    "    for i in range(n):\n",
    "        res += i\n",
    "    return sum\n",
    "if __name__ == \"__main__\":\n",
    "    lprofiler = LineProfiler(sumss)\n",
    "    lprofiler.run('sumss(5)')\n",
    "    lprofiler.print_stats()"
   ]
  },
  {
   "cell_type": "markdown",
   "metadata": {},
   "source": [
    "##### 顺序查找无序表"
   ]
  },
  {
   "cell_type": "code",
   "execution_count": null,
   "metadata": {
    "scrolled": true
   },
   "outputs": [],
   "source": [
    "def sequentialSearch(alist, item):\n",
    "    for elem in alist:\n",
    "        if elem == item:\n",
    "            return True\n",
    "    else:\n",
    "        return False\n",
    "\n",
    "if __name__ == \"__main__\":\n",
    "    testlist = [1,2,32,8,17,19,42,13,0]\n",
    "    print(sequentialSearch(testlist, 3))\n",
    "    print(sequentialSearch(testlist, 13))"
   ]
  },
  {
   "cell_type": "markdown",
   "metadata": {},
   "source": [
    "##### 二分查找的程序执行分析"
   ]
  },
  {
   "cell_type": "code",
   "execution_count": null,
   "metadata": {},
   "outputs": [],
   "source": [
    "def binarySearch_loop(alist, item):\n",
    "    first, last = 0, len(alist)-1   \n",
    "    while first <= last:\n",
    "        midpoint = (first + last) //2\n",
    "        if alist[midpoint] == item:\n",
    "            return True\n",
    "        elif alist[midpoint] > item:\n",
    "            last = midpoint -1\n",
    "        else:\n",
    "            first = midpoint + 1\n",
    "    else:\n",
    "        return False\n",
    "\n",
    "def binarySearch_recur(alist, item):\n",
    "    if not alist:\n",
    "        return False\n",
    "    midpoint = len(alist) // 2\n",
    "    if alist[midpoint] == item:\n",
    "        return True\n",
    "    elif alist[midpoint] > item:\n",
    "        return binarySearch_recur(alist[:midpoint], item)\n",
    "    else:\n",
    "        return binarySearch_recur(alist[midpoint+1:], item)\n",
    "    \n",
    "from line_profiler import LineProfiler\n",
    "def lprof(func, code):\n",
    "    lprof = LineProfiler(func)\n",
    "    lprof.run(code)\n",
    "    lprof.print_stats()\n",
    "\n",
    "if __name__ == \"__main__\":\n",
    "    testlist = [0, 1, 2, 8, 13, 17,19, 32, 42]\n",
    "    print(binarySearch_loop(testlist, 2))\n",
    "    print(binarySearch_loop(list(range(100)), 2))\n",
    "    lprof(binarySearch_loop, 'binarySearch_loop(list(range(10000)), 2)')\n",
    "    lprof(binarySearch_recur, 'binarySearch_recur(list(range(10000)), 2)')"
   ]
  },
  {
   "cell_type": "markdown",
   "metadata": {},
   "source": [
    "Python内部的hash函数，应用于dict和set"
   ]
  },
  {
   "cell_type": "code",
   "execution_count": null,
   "metadata": {},
   "outputs": [],
   "source": [
    "print(hash(1))\n",
    "print(hash(2))\n",
    "print(hash(12345678987654321888999111222))\n",
    "print(hash('xzm'))\n",
    "hash([1,2,3])\n",
    "d={[1,2,3]:5}"
   ]
  },
  {
   "cell_type": "markdown",
   "metadata": {},
   "source": [
    "##### 更加高级一点的hash函数"
   ]
  },
  {
   "cell_type": "code",
   "execution_count": null,
   "metadata": {},
   "outputs": [],
   "source": [
    "import hashlib\n",
    "print(hashlib.md5(b\"hello world!\").hexdigest())\n",
    "print(hashlib.sha1(b\"hello world!\").hexdigest())\n",
    "print(hashlib.sha256(b\"hello world!\").hexdigest())  # 比特币挖矿算法中出现"
   ]
  },
  {
   "cell_type": "markdown",
   "metadata": {},
   "source": [
    "##### 散列函数的update()方法"
   ]
  },
  {
   "cell_type": "code",
   "execution_count": null,
   "metadata": {},
   "outputs": [],
   "source": [
    "import hashlib\n",
    "m = hashlib.md5()\n",
    "m.update(b\"hello world!\")\n",
    "m.update(b\"this is part #2\")\n",
    "m.update(b\"this is part #3\")\n",
    "print(m.hexdigest())\n",
    "print(hashlib.md5((b\"hello world!\"\n",
    "                  b\"this is part #2\"\n",
    "                  b\"this is part #3\")).hexdigest()) # 字符串跨行语法"
   ]
  },
  {
   "cell_type": "markdown",
   "metadata": {},
   "source": [
    "#### 桶排序_计数法实现"
   ]
  },
  {
   "cell_type": "code",
   "execution_count": null,
   "metadata": {},
   "outputs": [],
   "source": [
    "def BucketSort_counter(alist, ceiling, key=lambda x:x):  #key的取值范围是[0,ceiling)\n",
    "    blist = [None]*len(alist)          #临时数组\n",
    "    count = [0]*ceiling                #初始化计数器\n",
    "    for i in alist:\n",
    "        count[key(i)] += 1             #统计每个key出现的次数\n",
    "    #print(count)\n",
    "    for i in range(1, len(count)):     \n",
    "        count[i] += count[i-1]         #统计累计计数的key次数(<=key)\n",
    "                                       #其实就是对应元素应该的排位\n",
    "    #print(count)\n",
    "    for i in range(len(blist)-1, -1, -1):   #从尾部开始保持稳定性\n",
    "        count[key(alist[i])] -= 1\n",
    "        blist[count[key(alist[i])]] = alist[i]          #重新排位\n",
    "    return blist\n",
    "    \n",
    "if __name__ == \"__main__\":\n",
    "    BucketSort = BucketSort_counter\n",
    "    print(BucketSort([7, 3, 8, 9, 6, 1, 8, 1, 2], 10))\n",
    "    print(BucketSort([('Mike', 2), ('Jack', 4), ('Alice', 4)\n",
    "                      ,('John', 5), ('Bob', 3)], 6\n",
    "                    ,key=lambda x:x[1]))  #什么叫做排序的稳定性？\n",
    "                                          #或者叫保序。\n",
    "        "
   ]
  },
  {
   "cell_type": "markdown",
   "metadata": {},
   "source": [
    "#### 桶排序_容器法实现"
   ]
  },
  {
   "cell_type": "code",
   "execution_count": null,
   "metadata": {},
   "outputs": [],
   "source": [
    "def BucketSort_container(alist, ceiling, key=lambda x:x):  #key的取值范围是[0,ceiling)\n",
    "    #container = [[]]*ceiling         #为什么这样不行？\n",
    "    container = [ [] for _ in range(ceiling)]\n",
    "    for i in alist:\n",
    "        container[key(i)].append(i)   #分配\n",
    "    blist = []\n",
    "    for bucket in container:\n",
    "        blist.extend(bucket)          #回收\n",
    "    return blist\n",
    "\n",
    "if __name__ == \"__main__\":\n",
    "    BucketSort = BucketSort_container\n",
    "    print(BucketSort([7, 3, 8, 9, 6, 1, 8, 1, 2], 10))\n",
    "    print(BucketSort([('Mike', 2), ('Jack', 4), ('Alice', 4)\n",
    "                      ,('John', 5), ('Bob', 3)], 6\n",
    "                    ,key=lambda x:x[1]))  #什么叫做排序的稳定性？\n",
    "                                          #或者叫保序。"
   ]
  },
  {
   "cell_type": "markdown",
   "metadata": {},
   "source": [
    "###### 生成列表的列表，两种不同的方法"
   ]
  },
  {
   "cell_type": "code",
   "execution_count": null,
   "metadata": {},
   "outputs": [],
   "source": [
    "[[]]*10"
   ]
  },
  {
   "cell_type": "code",
   "execution_count": null,
   "metadata": {},
   "outputs": [],
   "source": [
    "[[] for _ in range(10)]"
   ]
  },
  {
   "cell_type": "code",
   "execution_count": null,
   "metadata": {},
   "outputs": [],
   "source": [
    "l = [1, 2, 3]\n",
    "print(l,id(l))\n",
    "l.extend([5,6,7])\n",
    "l.append([5,6,7])\n",
    "print(l, id(l))"
   ]
  },
  {
   "cell_type": "markdown",
   "metadata": {},
   "source": [
    "#### 基数排序"
   ]
  },
  {
   "cell_type": "code",
   "execution_count": null,
   "metadata": {},
   "outputs": [],
   "source": [
    "def base_sort(alist, base, code_num, BucketSort = BucketSort_container):\n",
    "    for i in range(code_num):\n",
    "        print(alist)\n",
    "        #从低位开始对每一个排序码，调用BucketSort()\n",
    "        alist = BucketSort(alist, base, key=lambda x:x//base**i%base)\n",
    "    return alist\n",
    "\n",
    "if __name__ == \"__main__\":\n",
    "    print(\"result =\", base_sort([231, 134, 399, 510, 211, 304, 595], 10, 3))"
   ]
  },
  {
   "cell_type": "code",
   "execution_count": null,
   "metadata": {},
   "outputs": [],
   "source": [
    "n=2000121\n",
    "n.bit_length()"
   ]
  },
  {
   "cell_type": "markdown",
   "metadata": {},
   "source": [
    "##### 二叉树的节点链结实现"
   ]
  },
  {
   "cell_type": "code",
   "execution_count": 2,
   "metadata": {},
   "outputs": [],
   "source": [
    "class BinaryTree:\n",
    "    def __init__(self, rootObj, \\\n",
    "            left=None, right=None):             #可以同时设置节点的左右子树\n",
    "        self.key = rootObj\n",
    "        self.leftChild = left\n",
    "        self.rightChild = right\n",
    "\n",
    "    def insertLeft(self, newNode):\n",
    "        self.leftChild = BinaryTree(newNode, \\\n",
    "                left=self.leftChild)\n",
    "\n",
    "    def insertRight(self, newNode):\n",
    "        self.rightChild = BinaryTree(newNode, \\\n",
    "                right = self.rightChild)\n",
    "\n",
    "    def getRightChild(self):\n",
    "        return self.rightChild;\n",
    "\n",
    "    def getLeftChild(self):\n",
    "        return self.leftChild\n",
    "\n",
    "    def setRootVal(self, obj):\n",
    "        self.key = obj\n",
    "\n",
    "    def getRootVal(self):\n",
    "        return self.key"
   ]
  },
  {
   "cell_type": "markdown",
   "metadata": {},
   "source": [
    "##### 打印二叉树"
   ]
  },
  {
   "cell_type": "code",
   "execution_count": 3,
   "metadata": {},
   "outputs": [],
   "source": [
    "def _print_t(tree, is_left, offset, depth, buf, label):\n",
    "    if not tree:\n",
    "        return 0\n",
    "    \n",
    "    b = \"{:^5}\".format(label(tree))\n",
    "    width = 5\n",
    "    while len(buf)<2*depth+1:                #让后面的buf[2*depth]访问有效\n",
    "        buf.append([])\n",
    "    left  = _print_t(tree.leftChild,  True, offset,                depth + 1, buf, label);\n",
    "    right = _print_t(tree.rightChild, False, offset + left + width, depth + 1, buf, label);\n",
    "\n",
    "    enlarge = offset+left+width+right-len(buf[2*depth])\n",
    "    buf[2*depth].extend([' ']*enlarge)\n",
    "    for i, c in enumerate(b):               #输出子树根节点的内容\n",
    "        buf[2*depth][offset+left+i] = c\n",
    "\n",
    "    \n",
    "    if depth > 0:                          #输出子树与其父节点的连线\n",
    "        if is_left:\n",
    "            enlarge = offset+left+2*width+right-len(buf[2*depth-1])\n",
    "            buf[2*depth-1].extend([' ']*enlarge)\n",
    "            for i in range(width+right):\n",
    "                buf[2 * depth - 1][offset + left + width//2 + i] = '-'\n",
    "            buf[2 * depth - 1][offset + left + width//2] = '+';\n",
    "            buf[2 * depth - 1][offset + left + width//2 + right + width] = '+';\n",
    "        else:\n",
    "            enlarge = offset+left+width+right-len(buf[2*depth-1])\n",
    "            buf[2*depth-1].extend([' ']*enlarge)\n",
    "            for i in range(left+width):\n",
    "                buf[2 * depth - 1][offset - width//2 + i] = '-';\n",
    "            buf[2 * depth - 1][offset + left + width//2] = '+';\n",
    "            buf[2 * depth - 1][offset - width//2 - 1] = '+';\n",
    "    return left + width + right;\n",
    "\n",
    "def print_t(tree, label=lambda x:x.key):\n",
    "    buf = []\n",
    "    _print_t(tree, True, 0, 0, buf, label)\n",
    "    for l in buf:\n",
    "        print(''.join(l))"
   ]
  },
  {
   "cell_type": "markdown",
   "metadata": {},
   "source": [
    "#### 全括号表达式转二叉树结构"
   ]
  },
  {
   "cell_type": "code",
   "execution_count": 36,
   "metadata": {},
   "outputs": [
    {
     "name": "stdout",
     "output_type": "stream",
     "text": [
      "       +                 \n",
      "  +----+---------+       \n",
      "  5              *       \n",
      "            +----+----+  \n",
      "            9         2  \n",
      "23\n"
     ]
    }
   ],
   "source": [
    "\n",
    "def buildParseTree(fpexp):                 #full parentheses\n",
    "    fplist = fpexp.split()                 #分解单词：输入表达式中单词需用空格分开\n",
    "    pStack = []                            #python list是多面手，可以把它当栈用。\n",
    "    currentTree = eTree = BinaryTree('')   #创建一棵树空树\n",
    "    #pStack.append(currentTree)             #这是在干什么？？？？\n",
    "    for i in fplist[:-1]:\n",
    "        if i==\"(\":                         #子表达式开始\n",
    "            currentTree.insertLeft('')\n",
    "            pStack.append(currentTree)     #入栈左下降\n",
    "            currentTree = currentTree.getLeftChild()\n",
    "        elif i in ['+', '-', '*', '/']:    #操作符\n",
    "            currentTree.setRootVal(i)\n",
    "            currentTree.insertRight('')\n",
    "            pStack.append(currentTree)     #入栈右下降\n",
    "            currentTree = currentTree.getRightChild()\n",
    "        elif i == ')':                     #子表达式结束\n",
    "            currentTree = pStack.pop()\n",
    "        elif ord('0')<= ord(i)<= ord('9'): #操作数\n",
    "            currentTree.setRootVal(int(i))\n",
    "            currentTree = pStack.pop()     #出栈上升\n",
    "        else:\n",
    "            raise ValueError\n",
    "    return eTree\n",
    "\n",
    "import operator\n",
    "def evaluate(parseTree):                   #递归法实现\n",
    "    opers = {'+':operator.add, '-':operator.sub, \n",
    "            '*':operator.mul, '/':operator.truediv}\n",
    "    leftC = parseTree.getLeftChild()       #取子树，缩小规模\n",
    "    rightC = parseTree.getRightChild()\n",
    "    \n",
    "    if leftC and rightC:\n",
    "        fn = opers[parseTree.getRootVal()] \n",
    "        return fn(evaluate(leftC)          #递归调用\n",
    "                  , evaluate(rightC))\n",
    "    else:\n",
    "        return parseTree.getRootVal()      #基本结束条件\n",
    "    \n",
    "\n",
    "if __name__ == \"__main__\":\n",
    "    # expr = input(\"Please input:\")\n",
    "    tree = buildParseTree(\"( 5 + ( 9 * 2 ) )\")\n",
    "    print_t(tree)\n",
    "    print(evaluate(tree))"
   ]
  },
  {
   "cell_type": "markdown",
   "metadata": {},
   "source": [
    "##### 中缀表达式转二叉树"
   ]
  },
  {
   "cell_type": "code",
   "execution_count": null,
   "metadata": {},
   "outputs": [],
   "source": [
    "def tokenlize(expr):\n",
    "    \"\"\"\n",
    "    支持的token类型\n",
    "    运算符：‘+’，‘-’，‘*’，‘/’\n",
    "    操作数：整数，标识符（以字母开头，包含字母或数字）\n",
    "    括号：‘(’，‘)’\n",
    "    \"\"\"\n",
    "    for _expr in expr.split():\n",
    "        for i in _tokenlize(_expr):\n",
    "            yield i\n",
    "def _tokenlize(expr):                     #不用管表达式中的空格了\n",
    "    buf = []\n",
    "    for i in expr:\n",
    "        if i in '+-*/()':\n",
    "            if buf:\n",
    "                yield ''.join(buf); buf=[]\n",
    "            yield i\n",
    "        elif i.isalnum():\n",
    "            if buf and buf[0].isdigit() and i.isalpha():\n",
    "                yield ''.join(buf); buf=[]\n",
    "            buf.append(i)\n",
    "        else:\n",
    "            raise ValueError(\"Unknown charactor:'{}'\".format(i))\n",
    "    if buf:\n",
    "        yield ''.join(buf); buf=[]\n",
    "        \n",
    "priority = {'(':0, '+':1, '-':1, '*':2, '/':2}\n",
    "def buildParseTree(inexp):              #中缀表达式\n",
    "    subtree_stack = []\n",
    "    op_stack = []\n",
    "    for t in tokenlize(inexp):          #从字符串中提取token\n",
    "        if t in '+-*/':\n",
    "            while len(op_stack)>0 and priority[t] <= priority[op_stack[-1]]:\n",
    "                if len(subtree_stack) < 2:\n",
    "                    raise SyntaxError(\"operand missing\")\n",
    "                subtree_stack.append(BinaryTree(op_stack.pop(),\n",
    "                                     right = subtree_stack.pop(),\n",
    "                                     left = subtree_stack.pop()))\n",
    "            op_stack.append(t)\n",
    "        elif t == ')':\n",
    "            while len(op_stack)>0 and op_stack[-1] != '(':\n",
    "                if len(subtree_stack) < 2:\n",
    "                    raise SyntaxError(\"operand missing\")\n",
    "                subtree_stack.append(BinaryTree(op_stack.pop(),\n",
    "                                    right = subtree_stack.pop(),\n",
    "                                    left = subtree_stack.pop()))\n",
    "            else:\n",
    "                if len(op_stack)==0:\n",
    "                    raise SyntaxError(\"Unexpected ')'\")\n",
    "                else:\n",
    "                    op_stack.pop()      #pop a '('\n",
    "        elif t == '(':\n",
    "            op_stack.append(t)\n",
    "        else:                           #操作数\n",
    "            subtree_stack.append(BinaryTree(t))\n",
    "    while len(op_stack)>0:\n",
    "        if len(subtree_stack) < 2:\n",
    "            raise SyntaxError(\"operand missing\")\n",
    "        subtree_stack.append(BinaryTree(op_stack.pop(),\n",
    "                            right = subtree_stack.pop(),\n",
    "                            left = subtree_stack.pop()))\n",
    "    if len(subtree_stack) > 1:\n",
    "        raise SyntaxError(\"Unexpected operand '{}'\".format(subtree_stack[-1]))\n",
    "    return subtree_stack[0]\n",
    "\n",
    "if __name__ == \"__main__\":\n",
    "    expr = input()\n",
    "    #expr = \"(a + b)*h/2\"\n",
    "    for t in tokenlize(expr):\n",
    "        print(t)\n",
    "    pt = buildParseTree(expr)\n",
    "    print_t(pt)"
   ]
  },
  {
   "cell_type": "markdown",
   "metadata": {},
   "source": [
    "##### 函数调用参数列表中函数的执行顺序：从左到右"
   ]
  },
  {
   "cell_type": "code",
   "execution_count": null,
   "metadata": {},
   "outputs": [],
   "source": [
    "class foo:\n",
    "    def __init__(self):\n",
    "        self.num=0\n",
    "        \n",
    "    def next(self):\n",
    "        self.num += 1\n",
    "        return self.num\n",
    "\n",
    "def bar(first, second):\n",
    "    print(\"first={}\".format(first))\n",
    "    print(\"second={}\".format(second))\n",
    "    \n",
    "a = foo()\n",
    "bar(second=a.next(), first=a.next())\n",
    "bar(a.next(), a.next())"
   ]
  },
  {
   "cell_type": "markdown",
   "metadata": {},
   "source": [
    "##### 二叉堆的“类”实现"
   ]
  },
  {
   "cell_type": "code",
   "execution_count": 37,
   "metadata": {},
   "outputs": [],
   "source": [
    "class BinHeap:\n",
    "    def __init__(self, key=lambda x:x):\n",
    "        self.heapList = [0]\n",
    "        self.currentSize = 0\n",
    "        self.key = key\n",
    "        \n",
    "    def percUp(self, i):\n",
    "        while i // 2 > 0:\n",
    "            if self.key(self.heapList[i]) < self.key(self.heapList[i//2]):\n",
    "                self.heapList[i//2], self.heapList[i] \\\n",
    "                =self.heapList[i], self.heapList[i//2]  #与父节点进行交换\n",
    "            else:\n",
    "                break                                   #提前停止上浮\n",
    "            i = i//2                                    #沿路径向上\n",
    "            \n",
    "    def insert(self, elem):\n",
    "        self.heapList.append(elem)                      #添加到末尾\n",
    "        self.currentSize += 1\n",
    "        self.percUp(self.currentSize)                   #新元素按照key上浮\n",
    "        \n",
    "    def percDown(self, i):\n",
    "        while (i * 2) <= self.currentSize:\n",
    "            mc = self.minChild(i)\n",
    "            if self.key(self.heapList[i]) > self.key(self.heapList[mc]):\n",
    "                self.heapList[i], self.heapList[mc] \\\n",
    "                =self.heapList[mc], self.heapList[i]   #交换下沉\n",
    "            else:\n",
    "                break                                  #提前终止\n",
    "            i = mc                                     #沿路径向下\n",
    "            \n",
    "    def minChild(self,i):\n",
    "        if i*2 > self.currentSize:\n",
    "            return None                                #没有子节点\n",
    "        elif i*2 == self.currentSize:                  #只有左子节点\n",
    "            return i*2\n",
    "        return i*2 if self.key(self.heapList[i*2])<self.key(self.heapList[i*2+1]) \\\n",
    "            else i*2+1\n",
    "    \n",
    "    def delMin(self):\n",
    "        retval = self.heapList[1]                     #移走堆顶\n",
    "        self.heapList[1] = self.heapList[self.currentSize]\n",
    "        self.currentSize -= 1\n",
    "        self.heapList.pop()\n",
    "        self.percDown(1)                              #新顶下沉\n",
    "        return retval\n",
    "    \n",
    "    def buildHeap(self, alist):\n",
    "        i = len(alist) // 2\n",
    "        self.currentSize = len(alist)\n",
    "        self.heapList = [0] + alist\n",
    "        while i>0:\n",
    "            self.percDown(i)\n",
    "            i -= 1"
   ]
  },
  {
   "cell_type": "markdown",
   "metadata": {},
   "source": [
    "##### 通过二叉堆来生成哈夫曼树"
   ]
  },
  {
   "cell_type": "code",
   "execution_count": null,
   "metadata": {},
   "outputs": [],
   "source": [
    "from typing import List, Tuple\n",
    "def haffmanTree(alist: List[Tuple[str, int]]): \n",
    "    pq = BinHeap(key=lambda x:x[0][1])\n",
    "    pq.buildHeap([[i,[],[]]for i in alist])        #以字符元素为根，左右子树为空集\n",
    "    while pq.currentSize >= 2 :                    \n",
    "        left = pq.delMin()                         #取出两个最小的元素， \n",
    "        right = pq.delMin()                        #组成一个新的元素插入优先队列\n",
    "        pq.insert([(None, left[0][1]+right[0][1]), left, right])\n",
    "    else:\n",
    "        return pq.delMin()                         #返回唯一的元素\n",
    "\n",
    "def _printCode(haff, path):\n",
    "    if haff[1]==[] and haff[2]==[]: \n",
    "        #字符所在的叶节点\n",
    "        print(haff[0], ''.join(path))\n",
    "    else: #修改path，对左右子树进行递归调用\n",
    "        _printCode(haff[1], path+['0'])\n",
    "        _printCode(haff[2], path+['1'])\n",
    "\n",
    "def printCode(haff):\n",
    "    curr = haff\n",
    "    path = []    #用一个栈来保存路径\n",
    "    _printCode(curr, path)\n",
    "    \n",
    "if __name__ == \"__main__\":\n",
    "    l = [(\"林\",1),(\"妹\",2),(\"哭\",6),(\"了\",1)]\n",
    "    haff = haffmanTree(l)\n",
    "    print(haff)\n",
    "    printCode(haff)\n",
    "    "
   ]
  },
  {
   "cell_type": "markdown",
   "metadata": {},
   "source": [
    "##### 二叉搜索树的实现"
   ]
  },
  {
   "cell_type": "code",
   "execution_count": 4,
   "metadata": {},
   "outputs": [
    {
     "name": "stdout",
     "output_type": "stream",
     "text": [
      "[14, 23, 31, 70, 73, 93, 94]\n",
      "[14, 23, 31, 70, 73, 93, 94]\n",
      "                70                 \n",
      "            +----+---------+       \n",
      "           31             93       \n",
      "  +---------+         +----+----+  \n",
      " 14                  73        94  \n",
      "  +----+  \n",
      "      23  \n"
     ]
    }
   ],
   "source": [
    "class TreeNode:\n",
    "    def __init__(self, key, val, left=None,\n",
    "                right=None, parent=None):\n",
    "        self.key = key\n",
    "        self.payload = val\n",
    "        self.leftChild = left\n",
    "        self.rightChild = right\n",
    "        self.parent = parent             #增加了对parent的指回\n",
    "        self.balanceFactor = 0           #在BST中用不到，也没什么坏处。\n",
    "        \n",
    "    def hasLeftChild(self):              #这个函数实际没必要，只是为了代码的讲解更加口语化。\n",
    "        return self.leftChild\n",
    "    \n",
    "    def hasRightChild(self):\n",
    "        return self.rightChild\n",
    "    \n",
    "    def isLeftChild(self):\n",
    "        return self.parent and self.parent.leftChild == self\n",
    "    \n",
    "    def isRightChild(self):\n",
    "        return self.parent and self.parent.rightChild == self\n",
    "    \n",
    "    def isRoot(self):\n",
    "        return not self.parent\n",
    "    \n",
    "    def hasAnyChildren(self):\n",
    "        return self.rightChild or self.leftChild\n",
    "    \n",
    "    def hasBothChildren(self):\n",
    "        return self.rightChild and self.leftChild\n",
    "    \n",
    "    def isLeaf(self):\n",
    "        return not self.hasAnyChildren()\n",
    "    \n",
    "    def flat(self):\n",
    "        flat = lambda x: flat(x.leftChild)+[x.key]+flat(x.rightChild) if x else []\n",
    "        return flat(self)\n",
    "    \n",
    "    def replaceNodeData(self, key, value, lc, rc):\n",
    "        self.key = key\n",
    "        self.payload = value\n",
    "        self.leftChild = lc\n",
    "        self.rightChild = rc\n",
    "        if self.hasLeftChild():           #让左右子节点指回父节点\n",
    "            self.leftChild.parent = self\n",
    "        if self.hasRightChild():\n",
    "            self.rightChild.parent = self\n",
    "            \n",
    "    def findSuccessor(self):\n",
    "        if self.hasRightChild():         #在BinarySearchTree.remove()中的唯一可能\n",
    "            return self.rightChild.findMin()\n",
    "        elif self.isRoot():\n",
    "            return None             \n",
    "        elif self.isLeftChild():\n",
    "            return self.parent\n",
    "        else : #self.isRightChild()       #在parent子树中的最末\n",
    "            self.parent.rightChild = None #暂时移除自己\n",
    "            succ = self.parent.findSuccessor()\n",
    "            self.parent.rightChild = self #恢复自己\n",
    "            return succ\n",
    "    \n",
    "    def findMin(self):\n",
    "        current = self\n",
    "        while current.hasLeftChild():     #往左下角\n",
    "            current = current.leftChild\n",
    "        return current\n",
    "    \n",
    "    def __iter__(self):\n",
    "        if self:                         \n",
    "            if self.hasLeftChild():\n",
    "                for elem in self.leftChild:\n",
    "                    yield elem\n",
    "            yield self.key\n",
    "            if self.hasRightChild():\n",
    "                for elem in self.rightChild:\n",
    "                    yield elem\n",
    "            \n",
    "class BinarySearchTree:              #函数太多了，增加了“树”类来管理与之有关的部分\n",
    "    def __init__(self):\n",
    "        self.root = None\n",
    "        self.size = 0\n",
    "    def length(self):\n",
    "        return self.size\n",
    "    def __len__(self):               #供len(bst)调用\n",
    "        return self.size\n",
    "    def __iter__(self):\n",
    "        return self.root.__iter__()\n",
    "    \n",
    "    def display(self):\n",
    "        print_t(self.root)\n",
    "    \n",
    "    def put(self,key,val=0):\n",
    "        if self.root:\n",
    "            self.size += self._put(key,val,self.root)\n",
    "        else:\n",
    "            self.root = TreeNode(key, val)\n",
    "            self.size += 1\n",
    "    \n",
    "    def _put(self, key, val, currentNode):\n",
    "        if key < currentNode.key:            #递归左子树\n",
    "            if currentNode.hasLeftChild():\n",
    "                return self._put(key, val, currentNode.leftChild)\n",
    "            else:\n",
    "                currentNode.leftChild = \\\n",
    "                    TreeNode(key, val, parent=currentNode)\n",
    "                return 1\n",
    "        elif key > currentNode.key:          #递归右子树\n",
    "            if currentNode.hasRightChild():\n",
    "                return self._put(key, val, currentNode.rightChild)\n",
    "            else:\n",
    "                currentNode.rightChild = \\\n",
    "                    TreeNode(key, val, parent=currentNode)\n",
    "                return 1\n",
    "        else: #key == currentNode.key        #出现重复key\n",
    "            currentNode.payload = val\n",
    "            return 0\n",
    "        \n",
    "    def __setitem__(self, k, v):\n",
    "        self.put(k,v)\n",
    "        \n",
    "    def get(self, key):\n",
    "        if self.root:            #这里的判断和_get()内部的判断重复了\n",
    "            res = self._get(key, self.root)\n",
    "            if res:\n",
    "                return res.payload\n",
    "            else:\n",
    "                return None\n",
    "        else:\n",
    "            return None\n",
    "        \n",
    "    def _get(self, key, currentNode):\n",
    "        if not currentNode:\n",
    "            return None\n",
    "        elif currentNode.key == key:\n",
    "            return currentNode\n",
    "        elif currentNode.key > key:\n",
    "            return self._get(key, currentNode.leftChild)\n",
    "        else: #currentNode.key < key\n",
    "            return self._get(key, currentNode.rightChild)\n",
    "        \n",
    "    def __getitem__(self, key):\n",
    "        return self.get(key)\n",
    "    \n",
    "    def __contains__(self, key):\n",
    "        if self._get(key, self.root):\n",
    "            return True\n",
    "        else:\n",
    "            return False\n",
    "        \n",
    "    def delete(self, key):\n",
    "        if self.size > 1:\n",
    "            nodeToRemove = self._get(key, self.root)\n",
    "            if nodeToRemove:\n",
    "                self.remove(nodeToRemove)\n",
    "                self.size = self.size - 1\n",
    "            else:\n",
    "                raise KeyError('Error, key not in tree')\n",
    "        elif self.size == 1 and self.root.key == key:\n",
    "            self.root = None           #删除根节点\n",
    "            self.size = self.size - 1\n",
    "        else:\n",
    "            raise KeyError('Error, key not in tree')\n",
    "    \n",
    "    def __delitem__(self, key):\n",
    "        self.delete(key)\n",
    "    \n",
    "    def remove(self, currentNode):\n",
    "        if currentNode.isLeaf():              #作为叶节点的最简单情况\n",
    "            #移除叶节点只需要在它的父节点中把它移除\n",
    "            if currentNode.isLeftChild():\n",
    "                currentNode.parent.leftChild = None\n",
    "            elif currentNode.isRightChild():\n",
    "                currentNode.parent.rightChild = None\n",
    "        elif currentNode.hasBothChildren():    #有左右两个子节点的复杂情况\n",
    "            succ = currentNode.findSuccessor() #前驱、后继肯定都有\n",
    "            currentNode.key = succ.key\n",
    "            currentNode.payload = succ.payload\n",
    "            self.remove(succ)                  #succ没有左子节点，为什么？不会出现第二层递归\n",
    "        else:                                  #只有一个子节点的情况\n",
    "            # 取得唯一子节点，不关心左右\n",
    "            child = currentNode.leftChild \\\n",
    "                    if currentNode.hasLeftChild() \\\n",
    "                    else currentNode.rightChild  #可以砍掉一半的源代码\n",
    "            if currentNode.isLeftChild():     #用子节点替换当前节点\n",
    "                currentNode.parent.leftChild = child\n",
    "                child.parent = currentNode.parent\n",
    "            elif currentNode.isRightChild():\n",
    "                currentNode.parent.rightChild = child\n",
    "                child.parent = currentNode.parent\n",
    "            else :                            #当前节点是根节点，直接替换成子节点\n",
    "                currentNode.replaceNodeData(child.key,\n",
    "                                           child.payload,\n",
    "                                           child.leftChild,\n",
    "                                           child.rightChild)\n",
    "\n",
    "                \n",
    "if __name__ == \"__main__\":\n",
    "    bst = BinarySearchTree()\n",
    "    bst.put(70)\n",
    "    bst.put(31)\n",
    "    bst.put(93)\n",
    "    bst.put(94)\n",
    "    bst.put(14)\n",
    "    bst.put(23)\n",
    "    bst.put(73)\n",
    "    print(bst.root.flat())\n",
    "    print([x for x in bst])\n",
    "    bst.display()\n",
    "    "
   ]
  },
  {
   "cell_type": "markdown",
   "metadata": {},
   "source": [
    "#### 二叉搜索树的测试代码"
   ]
  },
  {
   "cell_type": "code",
   "execution_count": null,
   "metadata": {},
   "outputs": [],
   "source": [
    "mytree = BinarySearchTree()\n",
    "mytree[3]=\"red\"\n",
    "mytree[4]=\"blue\"\n",
    "mytree[6]=\"yellow\"\n",
    "mytree[2]=\"at\"\n",
    "\n",
    "print_t(mytree.root)\n",
    "print(3 in mytree)\n",
    "print(mytree[6])\n",
    "del mytree[3]\n",
    "print(mytree[2])\n",
    "for key in mytree:\n",
    "    print(key, mytree[key])"
   ]
  },
  {
   "cell_type": "markdown",
   "metadata": {},
   "source": [
    "##### AVL作为BST的子类实现："
   ]
  },
  {
   "cell_type": "code",
   "execution_count": 5,
   "metadata": {},
   "outputs": [],
   "source": [
    "class AVL1(BinarySearchTree):\n",
    "    def _put(self, key, val, currentNode):\n",
    "        if key < currentNode.key:\n",
    "            if currentNode.hasLeftChild():\n",
    "                return self._put(key, val, currentNode.leftChild)\n",
    "            else:\n",
    "                currentNode.leftChild = TreeNode(key, val, parent=currentNode)\n",
    "                self.updateBalance(currentNode.leftChild)  #调整平衡因子\n",
    "                return 1\n",
    "        elif key > currentNode.key:\n",
    "            if currentNode.hasRightChild():\n",
    "                return self._put(key, val, currentNode.rightChild)\n",
    "            else:\n",
    "                currentNode.rightChild = TreeNode(key, val, parent=currentNode)\n",
    "                self.updateBalance(currentNode.rightChild)  #调整平衡因子\n",
    "                return 1\n",
    "        else: #key == currentNode.key                     \n",
    "            currentNode.payload = val         #无新增节点，平衡因子不变\n",
    "            return 0\n",
    "            \n",
    "    def updateBalance(self, node):\n",
    "        if node.balanceFactor > 1 or node.balanceFactor < -1: #先看自己是否要调整\n",
    "            self.rebalance(node)                       #重新平衡，并且不会向上传递\n",
    "            return\n",
    "        if node.parent != None:                            #更新父节点平衡因子\n",
    "            if node.isLeftChild():\n",
    "                node.parent.balanceFactor += 1\n",
    "            elif node.isRightChild():\n",
    "                node.parent.balanceFactor -= 1              \n",
    "            if node.parent.balanceFactor != 0:             #调整父节点平衡因子\n",
    "                self.updateBalance(node.parent)            #\"=0\"也会阻断递归的传递\n",
    "    \n",
    "    def rotateLeft(self, rotRoot):\n",
    "        newRoot = rotRoot.rightChild                      #把新根节点提上来\n",
    "        rotRoot.rightChild = newRoot.leftChild            #给新根节点的左子节点重新找位置\n",
    "        if newRoot.leftChild != None:\n",
    "            newRoot.leftChild.parent = rotRoot            #   并给它指定新的parent\n",
    "        newRoot.parent = rotRoot.parent                   #新根节点完全取代旧根节点\n",
    "        if rotRoot.isRoot():\n",
    "            self.root = newRoot\n",
    "        else:\n",
    "            if rotRoot.isLeftChild():\n",
    "                rotRoot.parent.leftChild = newRoot\n",
    "            else:\n",
    "                rotRoot.parent.rightChild = newRoot\n",
    "        newRoot.leftChild = rotRoot\n",
    "        rotRoot.parent = newRoot\n",
    "        #调整新、旧根节点的平衡因子，为什么这样？马上推导。\n",
    "        rotRoot.balanceFactor = rotRoot.balanceFactor + \\\n",
    "                                1 - min(newRoot.balanceFactor, 0)\n",
    "        newRoot.balanceFactor = newRoot.balanceFactor + \\\n",
    "                                1 + max(rotRoot.balanceFactor, 0)\n",
    "        \n",
    "    def rotateRight(self, rotRoot):\n",
    "        newRoot = rotRoot.leftChild                       \n",
    "        rotRoot.leftChild = newRoot.rightChild    #56，58新根的右子转为旧根的左子\n",
    "        if newRoot.rightChild != None:\n",
    "            newRoot.rightChild.parent = rotRoot         \n",
    "        newRoot.parent = rotRoot.parent           #59，64/66新根取代旧根和父建立关系\n",
    "        if rotRoot.isRoot():\n",
    "            self.root = newRoot\n",
    "        else:\n",
    "            if rotRoot.isLeftChild():\n",
    "                rotRoot.parent.leftChild = newRoot\n",
    "            else:\n",
    "                rotRoot.parent.rightChild = newRoot\n",
    "        newRoot.rightChild = rotRoot              #67，68旧根下沉为新根的子节点\n",
    "        rotRoot.parent = newRoot\n",
    "        #调整新、旧根节点的平衡因子，为什么这样？马上推导。\n",
    "        rotRoot.balanceFactor = rotRoot.balanceFactor - \\\n",
    "                                1 - max(newRoot.balanceFactor, 0)\n",
    "        newRoot.balanceFactor = newRoot.balanceFactor - \\\n",
    "                                1 + min(rotRoot.balanceFactor, 0)\n",
    "        \n",
    "    def rebalance(self, node):   #\"<-1\"或\">1\"才会被updateBalance调用\n",
    "        if node.balanceFactor < -1:  #右重需要左旋\n",
    "            if node.rightChild.balanceFactor > 0:\n",
    "                # 右子节点左重，先对它进行一次右旋\n",
    "                self.rotateRight(node.rightChild)\n",
    "            #正常左旋\n",
    "            self.rotateLeft(node)\n",
    "        elif node.balanceFactor > 1:\n",
    "            if node.leftChild.balanceFactor < 0:\n",
    "                self.rotateLeft(node.leftChild)\n",
    "            self.rotateRight(node)\n",
    "            \n",
    "    def display(self):\n",
    "        print_t(self.root, label=lambda x:\"{}:{}\".format(x.key, x.balanceFactor))\n",
    "            "
   ]
  },
  {
   "cell_type": "code",
   "execution_count": 6,
   "metadata": {},
   "outputs": [],
   "source": [
    "class AVL2(AVL1):                                          #完整实现版\n",
    "    def updateBalance(self, node, delta=1):     # dalta: 1, 增加；-1，删除\n",
    "        if node.balanceFactor > 1 or node.balanceFactor < -1: #先看自己是否要调整\n",
    "            parent = node.parent                       #记住当前节点的位置\n",
    "            isLeft = node.isLeftChild()\n",
    "            self.rebalance(node)            #重新平衡之后，增加节点的情况子树高度不变，\n",
    "                                                 # 删除节点的情况，子树高度减一。不平衡会向上传递。            \n",
    "            if delta < 0 and parent is not None:\n",
    "                node = parent.leftChild if isLeft else parent.rightChild\n",
    "                self.updateBalance(node, delta)  # 通过再执行一遍当前节点的updateBalance，向上传递\n",
    "            return\n",
    "        elif node.parent is None:\n",
    "            return\n",
    "        elif (delta > 0        # 子树高度+1\n",
    "              or delta < 0 and node.balanceFactor == 0):  # 子树高度-1\n",
    "            if node.isLeftChild():\n",
    "                node.parent.balanceFactor += delta\n",
    "            elif node.isRightChild():\n",
    "                node.parent.balanceFactor -= delta  \n",
    "            if (node.parent.balanceFactor != 0 and delta > 0\n",
    "                or abs(node.parent.balanceFactor) != 1 and delta < 0): #parent子树高度有变化\n",
    "                self.updateBalance(node.parent, delta)            \n",
    "                        \n",
    "    def remove(self, currentNode):\n",
    "        if currentNode.isLeaf():              #作为叶节点的最简单情况\n",
    "            #移除叶节点只需要在它的父节点中把它移除\n",
    "            if currentNode.isLeftChild():\n",
    "                currentNode.parent.leftChild = None\n",
    "                currentNode.parent.balanceFactor -= 1\n",
    "            elif currentNode.isRightChild():\n",
    "                currentNode.parent.rightChild = None\n",
    "                currentNode.parent.balanceFactor += 1\n",
    "            self.updateBalance(currentNode.parent, -1)\n",
    "        elif currentNode.hasBothChildren():    #有左右两个子节点的复杂情况\n",
    "            succ = currentNode.findSuccessor() #前驱、后继肯定都有\n",
    "            currentNode.key = succ.key\n",
    "            currentNode.payload = succ.payload\n",
    "            self.remove(succ)                  #succ没有左子节点，为什么？不会出现第二层递归\n",
    "        else:                                  #只有一个子节点的情况\n",
    "            # 取得唯一子节点，不关心左右\n",
    "            child = currentNode.leftChild \\\n",
    "                    if currentNode.hasLeftChild() \\\n",
    "                    else currentNode.rightChild  #可以砍掉一半的源代码\n",
    "            if currentNode.isLeftChild():     #用子节点替换当前节点\n",
    "                currentNode.parent.leftChild = child\n",
    "                child.parent = currentNode.parent\n",
    "            elif currentNode.isRightChild():\n",
    "                currentNode.parent.rightChild = child\n",
    "                child.parent = currentNode.parent\n",
    "            else :                            #当前节点是根节点，直接替换成子节点\n",
    "                self.root = child\n",
    "                child.parent = None\n",
    "            self.updateBalance(child, -1)\n"
   ]
  },
  {
   "cell_type": "markdown",
   "metadata": {},
   "source": [
    "##### AVL的测试代码"
   ]
  },
  {
   "cell_type": "code",
   "execution_count": 41,
   "metadata": {},
   "outputs": [
    {
     "name": "stdout",
     "output_type": "stream",
     "text": [
      " 1:0 \n",
      "1:-1      \n",
      "  +----+  \n",
      "      2:0 \n",
      "                                   40:1                     \n",
      "            +------------------------+---------+            \n",
      "          2:-1                               60:-1          \n",
      "       +----+--------------+              +----+----+       \n",
      "      1:1                30:1           50:0      70:-1     \n",
      "  +----+              +----+----+                   +----+  \n",
      " 0:0                25:1      35:0                     80:0 \n",
      "                 +----+  \n",
      "               21:0 \n",
      "                         30:0                          \n",
      "            +--------------+---------+                 \n",
      "           2:0                     50:-1               \n",
      "       +----+---------+         +----+---------+       \n",
      "      1:1           25:1      35:0           70:0      \n",
      "  +----+         +----+                   +----+----+  \n",
      " 0:0           21:0                     60:0      80:0 \n"
     ]
    }
   ],
   "source": [
    "if __name__ == \"__main__\":\n",
    "    AVL = AVL2\n",
    "    tree = AVL()\n",
    "    \n",
    "    tree.put(1)\n",
    "    tree.display()\n",
    "    tree.put(2)\n",
    "    tree.display()\n",
    "    tree.put(30)\n",
    "    tree.put(40)\n",
    "    tree.put(50)\n",
    "    tree.put(60)\n",
    "    tree.put(70)\n",
    "    tree.put(80)\n",
    "    tree.put(0)\n",
    "    tree.put(25)\n",
    "    tree.put(35)\n",
    "    tree.put(21)\n",
    "    tree.display()\n",
    "    del tree[40]\n",
    "    tree.display()\n",
    "    \"\"\"\n",
    "    command = input().split()\n",
    "    while command[0] != 'exit':\n",
    "        if command[0] == 'put':\n",
    "            tree.put(int(command[1]))\n",
    "        elif command[0] == 'delete':\n",
    "            tree.delete(int(command[1]))\n",
    "        elif command[0] == 'display':\n",
    "            tree.display()\n",
    "        command = input().split()\n",
    "    \"\"\"\n"
   ]
  },
  {
   "cell_type": "markdown",
   "metadata": {},
   "source": [
    "##### 邻接列表的图实现"
   ]
  },
  {
   "cell_type": "code",
   "execution_count": 5,
   "metadata": {},
   "outputs": [
    {
     "name": "stdout",
     "output_type": "stream",
     "text": [
      "0 connectedTo: []\n",
      "1 connectedTo: []\n",
      "2 connectedTo: []\n",
      "3 connectedTo: []\n",
      "4 connectedTo: []\n",
      "5 connectedTo: []\n",
      "{0: 0 connectedTo: [], 1: 1 connectedTo: [], 2: 2 connectedTo: [], 3: 3 connectedTo: [], 4: 4 connectedTo: [], 5: 5 connectedTo: []}\n"
     ]
    }
   ],
   "source": [
    "class Vertex1:\n",
    "    def __init__(self, key):\n",
    "        self.id = key\n",
    "        self.connectedTo = {}\n",
    "        \n",
    "    def addNeighbor(self, nbr, weight=0): #nbr是顶点，而不是它的key\n",
    "        self.connectedTo[nbr] = weight\n",
    "        \n",
    "    def __str__(self):\n",
    "        return str(self.id) + ' connectedTo: ' \\\n",
    "            + str([x.id for x in self.connectedTo])\n",
    "    \n",
    "    __repr__ = __str__\n",
    "    \n",
    "    def getConnections(self):\n",
    "        return self.connectedTo.keys()\n",
    "    \n",
    "    def getId(self):\n",
    "        return self.id\n",
    "    \n",
    "    def getWeight(self, nbr):\n",
    "        return self.connectedTo[nbr]\n",
    "    \n",
    "Vertex = Vertex1\n",
    "    \n",
    "class Graph:\n",
    "    def __init__(self):\n",
    "        self.vertList = {}    #名不符实\n",
    "        self.numVertices = 0\n",
    "        \n",
    "    def addVertex(self, key):\n",
    "        self.numVertices += 1\n",
    "        newVertex = Vertex(key)\n",
    "        self.vertList[key] = newVertex\n",
    "        return newVertex\n",
    "    \n",
    "    def getVertex(self, key):\n",
    "        try:\n",
    "            return self.vertList[key]\n",
    "        except KeyError:\n",
    "            return None\n",
    "    \n",
    "    def __contains__(self, key):\n",
    "        return key in self.vertList\n",
    "    \n",
    "    def addEdge(self, f, t, weight=0):\n",
    "        if f not in self:\n",
    "            self.addVertex(f)\n",
    "        if t not in self:\n",
    "            self.addVertex(t)\n",
    "        self.vertList[f].addNeighbor(self.vertList[t], weight)\n",
    "        \n",
    "    def getVertices(self):\n",
    "        return self.vertList.keys()\n",
    "    \n",
    "    def __iter__(self):\n",
    "        return iter(self.vertList.values())\n",
    "    \n",
    "if __name__==\"__main__\":\n",
    "    g = Graph()\n",
    "    for i in range(6):\n",
    "        g.addVertex(i)\n",
    "    for v in g:\n",
    "        print(v)\n",
    "    print(g.vertList)\n",
    "    "
   ]
  },
  {
   "cell_type": "markdown",
   "metadata": {},
   "source": [
    "#### Graph使用示例\n",
    "<img src=\"images/graphRes.png\" width=\"250\" height=\"350\" style=\"float:left\">"
   ]
  },
  {
   "cell_type": "code",
   "execution_count": 22,
   "metadata": {},
   "outputs": [
    {
     "name": "stdout",
     "output_type": "stream",
     "text": [
      "V0->V1\n",
      "V0->V5\n",
      "V1->V2\n",
      "V5->V2\n",
      "V5->V4\n",
      "V2->V3\n",
      "V3->V4\n",
      "V3->V5\n",
      "V4->V0\n"
     ]
    }
   ],
   "source": [
    "if __name__ == \"__main__\":\n",
    "    g = Graph()\n",
    "    edges = [('V0', 'V1', 5), ('V0', 'V5', 2),\n",
    "             ('V1', 'V2', 4),\n",
    "            ('V2', 'V3', 9),\n",
    "            ('V3', 'V4', 7), ('V3', 'V5', 3),\n",
    "            ('V4', 'V0', 1), \n",
    "            ('V5', 'V2', 1), ('V5', 'V4', 8)\n",
    "            ]\n",
    "    for e in edges:\n",
    "        g.addEdge(*e)\n",
    "    for v in g:\n",
    "        for w in v.getConnections():\n",
    "            print(\"{}->{}\".format(v.getId(), w.getId()))"
   ]
  },
  {
   "cell_type": "markdown",
   "metadata": {},
   "source": [
    "#### 词梯问题"
   ]
  },
  {
   "cell_type": "code",
   "execution_count": 6,
   "metadata": {},
   "outputs": [
    {
     "name": "stdout",
     "output_type": "stream",
     "text": [
      "AAHS connectedTo: ['DAHS', 'FAHS', 'HAHS', 'LAHS', 'AALS']\n",
      "DAHS connectedTo: ['AAHS', 'FAHS', 'HAHS', 'LAHS', 'DABS', 'DADS', 'DAGS', 'DAIS', 'DAKS', 'DALS', 'DAMS', 'DAPS', 'DAWS', 'DAYS', 'DAHL', 'DOHS']\n",
      "FAHS connectedTo: ['AAHS', 'DAHS', 'HAHS', 'LAHS', 'FADS', 'FANS', 'FATS', 'FAYS', 'FEHS']\n",
      "HAHS connectedTo: ['AAHS', 'DAHS', 'FAHS', 'LAHS', 'HAES', 'HAGS', 'HAMS', 'HAPS', 'HATS', 'HAWS', 'HAYS', 'HAHA', 'HEHS']\n",
      "LAHS connectedTo: ['AAHS', 'DAHS', 'FAHS', 'HAHS', 'LABS', 'LACS', 'LADS', 'LAGS', 'LAMS', 'LAPS', 'LARS', 'LASS', 'LATS', 'LAVS', 'LAWS', 'LAYS']\n",
      "AALS connectedTo: ['AAHS', 'BALS', 'DALS', 'GALS', 'PALS', 'SALS', 'AILS', 'ALLS', 'AWLS']\n",
      "BALS connectedTo: ['AALS', 'DALS', 'GALS', 'PALS', 'SALS', 'BAAS', 'BADS', 'BAGS', 'BAMS', 'BANS', 'BAPS', 'BARS', 'BASS', 'BATS', 'BAYS', 'BALD', 'BALE', 'BALK', 'BALL', 'BALM', 'BELS']\n",
      "DALS connectedTo: ['AALS', 'BALS', 'GALS', 'PALS', 'SALS', 'DABS', 'DADS', 'DAGS', 'DAHS', 'DAIS', 'DAKS', 'DAMS', 'DAPS', 'DAWS', 'DAYS', 'DALE', 'DELS', 'DOLS']\n",
      "GALS connectedTo: ['AALS', 'BALS', 'DALS', 'PALS', 'SALS', 'GABS', 'GADS', 'GAES', 'GAGS', 'GAMS', 'GAPS', 'GARS', 'GATS', 'GAYS', 'GALA', 'GALE', 'GALL', 'GELS', 'GULS']\n",
      "PALS connectedTo: ['AALS', 'BALS', 'DALS', 'GALS', 'SALS', 'PACS', 'PADS', 'PAKS', 'PAMS', 'PANS', 'PAPS', 'PARS', 'PASS', 'PATS', 'PAWS', 'PAYS', 'PALE', 'PALL', 'PALM', 'PALP', 'PALY', 'POLS', 'PULS']\n",
      "SALS connectedTo: ['AALS', 'BALS', 'DALS', 'GALS', 'PALS', 'SABS', 'SACS', 'SAGS', 'SANS', 'SAPS', 'SASS', 'SAWS', 'SAYS', 'SALE', 'SALL', 'SALP', 'SALT', 'SELS', 'SOLS']\n",
      "AILS connectedTo: ['AALS', 'ALLS', 'AWLS', 'AIDS', 'AIMS', 'AINS', 'AIRS', 'AITS', 'FILS', 'MILS', 'NILS', 'OILS', 'TILS']\n",
      "42600\n"
     ]
    }
   ],
   "source": [
    "#### 把词语之间“只差一个字符”的关系转化为图\n",
    "def buildGraph(wordFile):\n",
    "    d = {}\n",
    "    g = Graph()\n",
    "    with open(wordFile, 'r') as f:\n",
    "        for line in f:\n",
    "            word = line[:-1]\n",
    "            # create buckets of words that differ by one letter\n",
    "            for i in range(len(word)):\n",
    "                bucket = word[:i]+'_'+word[i+1:]\n",
    "                if bucket in d:\n",
    "                    d[bucket].append(word)\n",
    "                else:\n",
    "                    d[bucket] = [word]\n",
    "\n",
    "    # add vertices and edges for words in the same bucket\n",
    "    for bucket in d.keys():\n",
    "        for word1 in d[bucket]:\n",
    "            for word2 in d[bucket]:\n",
    "                if word1 != word2:\n",
    "                    g.addEdge(word1, word2)\n",
    "    return g\n",
    "\n",
    "if __name__ == \"__main__\":\n",
    "    g = buildGraph(\"code/vocabulary.txt\")\n",
    "    for i, v in enumerate(g):\n",
    "        print(v)\n",
    "        if i>10:                      #为了演示方便，限制一下输出数量\n",
    "            break;\n",
    "    print(sum([len(v.connectedTo) for v in g]))\n",
    "        \n",
    "    "
   ]
  },
  {
   "cell_type": "code",
   "execution_count": 16,
   "metadata": {},
   "outputs": [],
   "source": [
    "#广度优先搜索算法\n",
    "Queue = Queue_on_list\n",
    "def bfs(g, start):\n",
    "    start.setDistance(0)\n",
    "    start.setPred(None)\n",
    "    vertQueue = Queue()\n",
    "    vertQueue.enqueue(start)\n",
    "    while (vertQueue.size() > 0):\n",
    "        currentVert = vertQueue.dequeue()\n",
    "        for nbr in currentVert.getConnections():\n",
    "            if (nbr.getColor() == 'white'):\n",
    "                nbr.setColor('gray')\n",
    "                nbr.setDistance(currentVert.getDistance() + 1)\n",
    "                nbr.setPred(currentVert)\n",
    "                vertQueue.enqueue(nbr)\n",
    "        currentVert.setColor('black')"
   ]
  },
  {
   "cell_type": "code",
   "execution_count": 14,
   "metadata": {},
   "outputs": [],
   "source": [
    "#对Vertex1进行扩充，增加了distance, color, pred属性\n",
    "class Vertex2(Vertex1):\n",
    "    def __init__(self, key):\n",
    "        self.id = key\n",
    "        self.connectedTo = {}\n",
    "        self.color = 'white'\n",
    "        self.distance = 0\n",
    "        self.pred = None\n",
    "        \n",
    "    def getDistance(self):\n",
    "        return self.distance\n",
    "    \n",
    "    def setDistance(self, dist):\n",
    "        self.distance = dist\n",
    "\n",
    "    def setPred(self, pred):\n",
    "        self.pred = pred\n",
    "        \n",
    "    def getPred(self):\n",
    "        return self.pred\n",
    "        \n",
    "    def getColor(self):\n",
    "        return self.color\n",
    "    \n",
    "    def setColor(self, color):\n",
    "        self.color = color"
   ]
  },
  {
   "cell_type": "code",
   "execution_count": 15,
   "metadata": {},
   "outputs": [
    {
     "name": "stdin",
     "output_type": "stream",
     "text": [
      "traverse: AAAA\n"
     ]
    },
    {
     "name": "stdout",
     "output_type": "stream",
     "text": [
      "'AAAA' not found\n"
     ]
    }
   ],
   "source": [
    "Vertex = Vertex2\n",
    "def traverse(y):\n",
    "    x = y\n",
    "    while (x.getPred()):\n",
    "        print(x.getId())\n",
    "        x = x.getPred()\n",
    "    print(x.getId())\n",
    "\n",
    "if __name__ == \"__main__\":\n",
    "    g = buildGraph(\"code/vocabulary.txt\")\n",
    "    bfs(g, g.getVertex('FOOL'))\n",
    "    word = input(\"traverse:\")\n",
    "    target = g.getVertex(word)\n",
    "    if target:\n",
    "        traverse(target)\n",
    "    else:\n",
    "        print(\"'{}' not found\".format(word))\n",
    "    #print(len(g.getVertices()))\n",
    "    #print(g.vertices)"
   ]
  },
  {
   "cell_type": "code",
   "execution_count": 31,
   "metadata": {},
   "outputs": [],
   "source": [
    "#与教材不同，直接使用棋盘坐标(row, col)作顶点的key\n",
    "def knightGraph(bdSize):\n",
    "    ktGraph = Graph()\n",
    "    for row in range(bdSize):                                 #遍历每一行\n",
    "        for col in range(bdSize):                             #遍历行上的每一个格子\n",
    "            newPositions = genLegalMoves(row, col, bdSize)    #按照“马走日”，返回下一步可能的位置\n",
    "            for e in newPositions:\n",
    "                ktGraph.addEdge((row, col), e)                  #在骑士周游图中为两个格子加一条边\n",
    "    return ktGraph\n",
    "\n",
    "def posToNodeId(row, col, bdSize):\n",
    "    return row*bdSize + col\n",
    "\n",
    "def genLegalMoves(x, y, bdSize):\n",
    "    newMoves = []\n",
    "    moveOffsets = [(-1, -2), (-1,2),(-2,-1),(-2,1),\n",
    "                   (1, -2), (1,2), (2,-1), (2,1)]             #马走日的8种走法\n",
    "    for i in moveOffsets:\n",
    "        newX = x + i[0]\n",
    "        newY = y + i[1]\n",
    "        if legalCoord(newX, bdSize) and legalCoord(newY, bdSize):  #检查一下不能走出棋盘\n",
    "            newMoves.append((newX, newY))\n",
    "    return newMoves\n",
    "\n",
    "def legalCoord(x, bdSize):                                    #判断是否走出棋盘\n",
    "    return x >= 0 and x < bdSize\n",
    "\n"
   ]
  },
  {
   "cell_type": "code",
   "execution_count": 35,
   "metadata": {},
   "outputs": [],
   "source": [
    "#使用递归调用方式实现的深度优先搜索，递归调用层次不能太深\n",
    "def knightTour1(n, path, u, limit):\n",
    "    \"\"\"\n",
    "    n:层次；path:路径；u:当前顶点；limit:搜索总深度\n",
    "    \"\"\"\n",
    "    u.setColor('grey')\n",
    "    path.append(u)                                            #当前顶点涂色并加入路径\n",
    "    if n < limit:\n",
    "        nbrList = list(u.getConnections())                    #对所有的合法移动依次深入\n",
    "        for nbr in nbrList:\n",
    "            if (nbr.getColor() == 'white' and                 #选择“白色”未经深入的点\n",
    "                    knightTour(n+1, path, nbr, limit)):       #层次加一，递归深入\n",
    "                return True\n",
    "        else:                                                 #所有的“下一步”都试了走不通\n",
    "            path.pop()                                        #回退途径\n",
    "            u.setColor('white')                               #改回颜色\n",
    "            return False                                      #回到上一层，尝试下一个顶点\n",
    "    else:                                                     # n==limit，基本结束条件\n",
    "        return True"
   ]
  },
  {
   "cell_type": "code",
   "execution_count": 54,
   "metadata": {},
   "outputs": [
    {
     "name": "stdout",
     "output_type": "stream",
     "text": [
      "3000\n"
     ]
    }
   ],
   "source": [
    "# Python的最大递归调用层数\n",
    "import sys\n",
    "print(sys.getrecursionlimit())"
   ]
  },
  {
   "cell_type": "code",
   "execution_count": 77,
   "metadata": {},
   "outputs": [],
   "source": [
    "#使用栈实现的深度优先搜索\n",
    "def knightTour2(n, path, u, limit):\n",
    "    \"\"\"\n",
    "    n:层次；path:路径；u:当前顶点；limit:搜索总深度\n",
    "    \"\"\"\n",
    "    u.setColor('grey')      \n",
    "    nbrList = list(u.getConnections())                     #对所有的合法移动依次深入\n",
    "    st = [(u, nbrList)]\n",
    "    while n < limit:             \n",
    "        while len(nbrList) > 0:\n",
    "            nbr = nbrList.pop()\n",
    "            if (nbr.getColor() == 'white'):                   #选择“白色”未经深入的点\n",
    "                u = nbr                                       \n",
    "                u.setColor('grey')      \n",
    "                nbrList = list(u.getConnections())            #对所有的合法移动依次深入\n",
    "                st.append((u, nbrList))                       #当前顶点涂色并加入路径\n",
    "                n += 1                                        #层次加一\n",
    "                break\n",
    "        else:                                                 #所有的“下一步”都试了走不通\n",
    "            u.setColor('white')                               #改回颜色\n",
    "            st.pop()\n",
    "            if len(st) > 0:\n",
    "                u, nbrList = st[-1]                           #回退途径\n",
    "                n -= 1\n",
    "            else:\n",
    "                return False                                  #搜索失败\n",
    "                                              #回到上一层，尝试下一个顶点\n",
    "    else:                                     #n==limit，基本结束条件\n",
    "        for x in st:\n",
    "            path.append(x[0])\n",
    "        return True"
   ]
  },
  {
   "cell_type": "code",
   "execution_count": 79,
   "metadata": {},
   "outputs": [
    {
     "name": "stdout",
     "output_type": "stream",
     "text": [
      "knight tour failed!\n"
     ]
    }
   ],
   "source": [
    "knightTour = knightTour2\n",
    "if __name__ == \"__main__\":\n",
    "    bd_size = 4\n",
    "    g = knightGraph(bd_size)\n",
    "    path=[]\n",
    "    start = g.getVertex((0, 0))\n",
    "    if knightTour(0, path, start, bd_size**2 - 1):\n",
    "        for i, v in enumerate(path):\n",
    "            print(i, v.id)\n",
    "    else:\n",
    "        print(\"knight tour failed!\")"
   ]
  },
  {
   "cell_type": "code",
   "execution_count": 101,
   "metadata": {},
   "outputs": [],
   "source": [
    "#一个“基础”功能比较全的通用“图”类，增加了入度/出度属性\n",
    "#\n",
    "import os\n",
    "\n",
    "class Vertex3(Vertex2):\n",
    "    def __init__(self, key):\n",
    "        super().__init__(key)\n",
    "        self.inDegree = self.outDegree = 0\n",
    "\n",
    "    def addNeighbor(self,nbr,weight=0):\n",
    "        if nbr not in self.connectedTo:\n",
    "            self.outDegree += 1\n",
    "            nbr.inDegree += 1\n",
    "        self.connectedTo[nbr] = weight\n",
    "\n",
    "    def delNeighbor(self, nbr):\n",
    "        if nbr in self.connectedTo:\n",
    "            self.outDegree -= 1\n",
    "            nbr.inDegree -= 1\n",
    "            del(self.connectedTo[nbr])\n",
    "\n",
    "Vertex = Vertex3\n",
    "class XGraph(Graph):\n",
    "    def __init__(self, other = None):     #增加了复制功能\n",
    "        super().__init__()\n",
    "        if other:\n",
    "            for v in other:\n",
    "                for u in v.getConnections():\n",
    "                    self.addEdge(v.getId(), u.getId())\n",
    "\n",
    "    def T(self):\n",
    "        \"\"\"\n",
    "        获取有向图的转置图\n",
    "        \"\"\"\n",
    "        ng = XGraph()\n",
    "        for v in self:\n",
    "            for u in v.getConnections():\n",
    "                ng.addEdge(u.getId(), v.getId())\n",
    "        return ng\n",
    "\n",
    "    def __str__(self):\n",
    "        s = ''\n",
    "        for v in self:\n",
    "            s = s+str(v.getId())+' :'\n",
    "            for u in v.getConnections():\n",
    "                s = s + ' ' + str(u.getId())\n",
    "            s = s + os.linesep\n",
    "        return s\n",
    "    \n",
    "    \"\"\"\n",
    "    def addVertex(self, key):\n",
    "        self.numVertices = self.numVertices + 1\n",
    "        newVertex = XVertex(key)\n",
    "        self.vertices[key] = newVertex\n",
    "        return newVertex\n",
    "    \"\"\"\n",
    "\n",
    "    def delVertex(self, key):\n",
    "        self.numVertices -= 1\n",
    "        if key in self.vertices:\n",
    "            v = self.vertices[key]\n",
    "            del(self.vertices[key])\n",
    "            for vert in self:\n",
    "                vert.delNeighbor(v)\n",
    "    \"\"\"\n",
    "    def addEdge(self,f,t,cost=0):\n",
    "            if f not in self:\n",
    "                nv = self.addVertex(f)\n",
    "            if t not in self:\n",
    "                nv = self.addVertex(t)\n",
    "            self.vertices[f].addNeighbor(self.vertices[t],cost)\n",
    "    \"\"\""
   ]
  },
  {
   "cell_type": "code",
   "execution_count": 106,
   "metadata": {},
   "outputs": [],
   "source": [
    "#带DFS功能的图\n",
    "class DFSVetex(Vertex3):\n",
    "    def __init__(self, key):\n",
    "        super().__init__(key)\n",
    "        self.discovery = None\n",
    "        self.finish = None\n",
    "        \n",
    "    def setDiscovery(self, t):\n",
    "        self.discovery = t\n",
    "    \n",
    "    def setFinish(self, t):\n",
    "        self.finish = t\n",
    "        \n",
    "Vertex = DFSVetex    \n",
    "class DFSGraph(XGraph):\n",
    "    def __init__(self, other = None):\n",
    "        super().__init__(other)\n",
    "        self.time = 0                # 不是物理时间，而是算法执行步数\n",
    "\n",
    "    def dfs(self):\n",
    "        for aVertex in self:\n",
    "            aVertex.setColor('white')   # 颜色初始化\n",
    "            aVertex.setPred(None)\n",
    "        for aVertex in self:           # 从每一个顶点开始遍历\n",
    "            if aVertex.getColor() == 'white':\n",
    "                self.dfsvisit(aVertex) # 建立一个以aVertex为根的树\n",
    "                                       # 如果有多棵树，则形成森林\n",
    "    def dfsvisit(self, startVertex):\n",
    "        startVertex.setColor('gray')\n",
    "        self.time += 1                 # 记录算法的步数\n",
    "        startVertex.setDiscovery(self.time)\n",
    "        for nextVertex in startVertex.getConnections():\n",
    "            if nextVertex.getColor() == 'white':\n",
    "                nextVertex.setPred(startVertex)\n",
    "                self.dfsvisit(nextVertex)   #深度优先递归访问\n",
    "        startVertex.setColor('black')\n",
    "        self.time += 1\n",
    "        startVertex.setFinish(self.time)"
   ]
  },
  {
   "cell_type": "code",
   "execution_count": 109,
   "metadata": {},
   "outputs": [
    {
     "name": "stdout",
     "output_type": "stream",
     "text": [
      "milk : mix\n",
      "mix : syrup pour\n",
      "egg : mix\n",
      "oil : mix\n",
      "syrup : eat\n",
      "pour : turn\n",
      "griddle : pour\n",
      "turn : eat\n",
      "eat :\n",
      "\n",
      "mix : milk egg oil\n",
      "milk :\n",
      "syrup : mix\n",
      "pour : mix griddle\n",
      "egg :\n",
      "oil :\n",
      "eat : syrup turn\n",
      "turn : pour\n",
      "griddle :\n",
      "\n",
      "griddle\n",
      "oil\n",
      "egg\n",
      "milk\n",
      "mix\n",
      "pour\n",
      "turn\n",
      "syrup\n",
      "eat\n"
     ]
    }
   ],
   "source": [
    "if __name__ == \"__main__\":\n",
    "    g = DFSGraph()\n",
    "    #把做煎饼的步骤导入到图中\n",
    "    g.addEdge(\"milk\", \"mix\")\n",
    "    g.addEdge(\"egg\", \"mix\")\n",
    "    g.addEdge(\"oil\", \"mix\")\n",
    "    g.addEdge(\"mix\", \"syrup\")\n",
    "    g.addEdge(\"mix\", \"pour\")\n",
    "    g.addEdge(\"griddle\", \"pour\") #griddle: 烤盘\n",
    "    g.addEdge(\"pour\", \"turn\")\n",
    "    g.addEdge(\"turn\", \"eat\")\n",
    "    g.addEdge(\"syrup\", \"eat\")    #syrup: 糖水\n",
    "\n",
    "    print(g)\n",
    "    print(g.T())\n",
    "\n",
    "    g.dfs()\n",
    "    vertices = [vert for vert in g]\n",
    "    vertices.sort(key=lambda x:x.finish, \\\n",
    "            reverse=True)\n",
    "    for vert in vertices:\n",
    "        print(vert.getId())"
   ]
  }
 ],
 "metadata": {
  "kernelspec": {
   "display_name": "Python 3",
   "language": "python",
   "name": "python3"
  },
  "language_info": {
   "codemirror_mode": {
    "name": "ipython",
    "version": 3
   },
   "file_extension": ".py",
   "mimetype": "text/x-python",
   "name": "python",
   "nbconvert_exporter": "python",
   "pygments_lexer": "ipython3",
   "version": "3.8.3"
  }
 },
 "nbformat": 4,
 "nbformat_minor": 4
}
