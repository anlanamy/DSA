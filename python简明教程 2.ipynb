{
 "cells": [
  {
   "cell_type": "markdown",
   "metadata": {},
   "source": [
    "参考：https://learnku.com/docs/byte-of-python/2018<br>\n",
    "《A Byte of Python》的中文译本，由社区维护，每年更新"
   ]
  },
  {
   "cell_type": "markdown",
   "metadata": {},
   "source": [
    "### 第一个Python语句；"
   ]
  },
  {
   "cell_type": "markdown",
   "metadata": {},
   "source": [
    "注意 print 总是以一个不可见的 「新的一行」 字符（\\n）作为结尾，\n",
    "除非给他指定一个end"
   ]
  },
  {
   "cell_type": "code",
   "execution_count": 117,
   "metadata": {},
   "outputs": [
    {
     "name": "stdout",
     "output_type": "stream",
     "text": [
      "Hello World!\n",
      "Tom\n",
      "Hello World! Tom "
     ]
    }
   ],
   "source": [
    "print (\"Hello World!\")\n",
    "print(\"Tom\")\n",
    "print (\"Hello World!\",end=' ')\n",
    "print(\"Tom\", end=' ')"
   ]
  },
  {
   "cell_type": "markdown",
   "metadata": {},
   "source": [
    "超级计算器,超级大的数都没问题."
   ]
  },
  {
   "cell_type": "code",
   "execution_count": 15,
   "metadata": {},
   "outputs": [
    {
     "name": "stdout",
     "output_type": "stream",
     "text": [
      "1267650600228229401496703205376\n"
     ]
    }
   ],
   "source": [
    "print(2**100)"
   ]
  },
  {
   "cell_type": "code",
   "execution_count": 13,
   "metadata": {},
   "outputs": [
    {
     "data": {
      "text/plain": [
       "1267650600228229401496703205376"
      ]
     },
     "execution_count": 13,
     "metadata": {},
     "output_type": "execute_result"
    }
   ],
   "source": [
    "2**100"
   ]
  },
  {
   "cell_type": "markdown",
   "metadata": {},
   "source": [
    "不可变类型的每次赋值操作都生成一个新对象"
   ]
  },
  {
   "cell_type": "code",
   "execution_count": 22,
   "metadata": {},
   "outputs": [
    {
     "name": "stdout",
     "output_type": "stream",
     "text": [
      "4516730128\n",
      "4516730160\n"
     ]
    }
   ],
   "source": [
    "a=5; print(id(a))\n",
    "a=6; print(id(a))"
   ]
  },
  {
   "cell_type": "markdown",
   "metadata": {},
   "source": [
    "元组不能够进行元素赋值"
   ]
  },
  {
   "cell_type": "code",
   "execution_count": 23,
   "metadata": {},
   "outputs": [
    {
     "ename": "TypeError",
     "evalue": "'tuple' object does not support item assignment",
     "output_type": "error",
     "traceback": [
      "\u001b[0;31m---------------------------------------------------------------------------\u001b[0m",
      "\u001b[0;31mTypeError\u001b[0m                                 Traceback (most recent call last)",
      "\u001b[0;32m<ipython-input-23-989b38129c3a>\u001b[0m in \u001b[0;36m<module>\u001b[0;34m\u001b[0m\n\u001b[1;32m      1\u001b[0m \u001b[0ma\u001b[0m\u001b[0;34m=\u001b[0m\u001b[0;36m3\u001b[0m\u001b[0;34m,\u001b[0m\u001b[0;36m4\u001b[0m\u001b[0;34m,\u001b[0m\u001b[0;36m5\u001b[0m\u001b[0;34m\u001b[0m\u001b[0;34m\u001b[0m\u001b[0m\n\u001b[0;32m----> 2\u001b[0;31m \u001b[0ma\u001b[0m\u001b[0;34m[\u001b[0m\u001b[0;36m1\u001b[0m\u001b[0;34m]\u001b[0m\u001b[0;34m=\u001b[0m\u001b[0;36m6\u001b[0m\u001b[0;34m\u001b[0m\u001b[0;34m\u001b[0m\u001b[0m\n\u001b[0m",
      "\u001b[0;31mTypeError\u001b[0m: 'tuple' object does not support item assignment"
     ]
    }
   ],
   "source": [
    "a=3,4,5\n",
    "a[1]=6"
   ]
  },
  {
   "cell_type": "markdown",
   "metadata": {},
   "source": [
    "可变类型可以改变，可以元素赋值；相同的变量可能指向同一个对象，在对象上的操作两个变量都可见。"
   ]
  },
  {
   "cell_type": "code",
   "execution_count": 25,
   "metadata": {},
   "outputs": [
    {
     "name": "stdout",
     "output_type": "stream",
     "text": [
      "[1, 2, 3]\n",
      "[1, 'hahahahaha', 3]\n",
      "[1, 'hahahahaha', 3]\n"
     ]
    }
   ],
   "source": [
    "l=[1,2,3]\n",
    "m=l\n",
    "print(l)\n",
    "l[1]=\"hahahahaha\"\n",
    "print(l)\n",
    "print(m)"
   ]
  },
  {
   "cell_type": "markdown",
   "metadata": {},
   "source": [
    "###### Python在版本3.0以后对整数的大小不再进行限制，maxint没有了；但对list或str的索引下标仍有限制：sys.maxsize"
   ]
  },
  {
   "cell_type": "code",
   "execution_count": 27,
   "metadata": {},
   "outputs": [
    {
     "name": "stdout",
     "output_type": "stream",
     "text": [
      "9223372036854775807\n"
     ]
    },
    {
     "ename": "AttributeError",
     "evalue": "module 'sys' has no attribute 'maxint'",
     "output_type": "error",
     "traceback": [
      "\u001b[0;31m---------------------------------------------------------------------------\u001b[0m",
      "\u001b[0;31mAttributeError\u001b[0m                            Traceback (most recent call last)",
      "\u001b[0;32m<ipython-input-27-4c50c2d319e8>\u001b[0m in \u001b[0;36m<module>\u001b[0;34m\u001b[0m\n\u001b[1;32m      1\u001b[0m \u001b[0;32mimport\u001b[0m \u001b[0msys\u001b[0m\u001b[0;34m\u001b[0m\u001b[0;34m\u001b[0m\u001b[0m\n\u001b[1;32m      2\u001b[0m \u001b[0mprint\u001b[0m\u001b[0;34m(\u001b[0m\u001b[0msys\u001b[0m\u001b[0;34m.\u001b[0m\u001b[0mmaxsize\u001b[0m\u001b[0;34m)\u001b[0m\u001b[0;34m\u001b[0m\u001b[0;34m\u001b[0m\u001b[0m\n\u001b[0;32m----> 3\u001b[0;31m \u001b[0mprint\u001b[0m\u001b[0;34m(\u001b[0m\u001b[0msys\u001b[0m\u001b[0;34m.\u001b[0m\u001b[0mmaxint\u001b[0m\u001b[0;34m)\u001b[0m\u001b[0;34m\u001b[0m\u001b[0;34m\u001b[0m\u001b[0m\n\u001b[0m",
      "\u001b[0;31mAttributeError\u001b[0m: module 'sys' has no attribute 'maxint'"
     ]
    }
   ],
   "source": [
    "import sys\n",
    "print(sys.maxsize)\n",
    "print(sys.maxint)"
   ]
  },
  {
   "cell_type": "markdown",
   "metadata": {},
   "source": [
    "常用的数学函数如sqrt/sin/cos等都在math模块中"
   ]
  },
  {
   "cell_type": "code",
   "execution_count": 28,
   "metadata": {},
   "outputs": [
    {
     "name": "stdout",
     "output_type": "stream",
     "text": [
      "1.4142135623730951\n"
     ]
    }
   ],
   "source": [
    "import math\n",
    "print(math.sqrt(2))"
   ]
  },
  {
   "cell_type": "markdown",
   "metadata": {},
   "source": [
    "### 字符串"
   ]
  },
  {
   "cell_type": "markdown",
   "metadata": {},
   "source": [
    "Python字符串不可修改，只能生成新的字符串"
   ]
  },
  {
   "cell_type": "code",
   "execution_count": 39,
   "metadata": {},
   "outputs": [
    {
     "name": "stdout",
     "output_type": "stream",
     "text": [
      "hello\n",
      "140409685378992\n",
      "hello world\n",
      "140409682505264\n"
     ]
    },
    {
     "ename": "TypeError",
     "evalue": "'str' object does not support item assignment",
     "output_type": "error",
     "traceback": [
      "\u001b[0;31m---------------------------------------------------------------------------\u001b[0m",
      "\u001b[0;31mTypeError\u001b[0m                                 Traceback (most recent call last)",
      "\u001b[0;32m<ipython-input-39-3a0630e6578c>\u001b[0m in \u001b[0;36m<module>\u001b[0;34m\u001b[0m\n\u001b[1;32m      5\u001b[0m \u001b[0mprint\u001b[0m\u001b[0;34m(\u001b[0m\u001b[0ms\u001b[0m\u001b[0;34m)\u001b[0m\u001b[0;34m\u001b[0m\u001b[0;34m\u001b[0m\u001b[0m\n\u001b[1;32m      6\u001b[0m \u001b[0mprint\u001b[0m\u001b[0;34m(\u001b[0m\u001b[0mid\u001b[0m\u001b[0;34m(\u001b[0m\u001b[0ms\u001b[0m\u001b[0;34m)\u001b[0m\u001b[0;34m)\u001b[0m\u001b[0;34m\u001b[0m\u001b[0;34m\u001b[0m\u001b[0m\n\u001b[0;32m----> 7\u001b[0;31m \u001b[0ms\u001b[0m\u001b[0;34m[\u001b[0m\u001b[0;36m2\u001b[0m\u001b[0;34m]\u001b[0m\u001b[0;34m=\u001b[0m\u001b[0;34m'x'\u001b[0m\u001b[0;34m\u001b[0m\u001b[0;34m\u001b[0m\u001b[0m\n\u001b[0m",
      "\u001b[0;31mTypeError\u001b[0m: 'str' object does not support item assignment"
     ]
    }
   ],
   "source": [
    "s='hello';\n",
    "print(s)\n",
    "print(id(s))\n",
    "s += \" world\"\n",
    "print(s)\n",
    "print(id(s))\n",
    "s[2]='x'"
   ]
  },
  {
   "cell_type": "markdown",
   "metadata": {},
   "source": [
    "用\\[start:end:step\\]的方式从字符串中提取一部分。"
   ]
  },
  {
   "cell_type": "code",
   "execution_count": 38,
   "metadata": {},
   "outputs": [
    {
     "name": "stdout",
     "output_type": "stream",
     "text": [
      "2\n",
      "1234\n",
      "76543\n"
     ]
    }
   ],
   "source": [
    "s='1234567'\n",
    "print(s[1])\n",
    "print(s[0:4])\n",
    "print(s[-1:1:-1])"
   ]
  },
  {
   "cell_type": "markdown",
   "metadata": {},
   "source": [
    "高级操作：split, join"
   ]
  },
  {
   "cell_type": "code",
   "execution_count": 41,
   "metadata": {},
   "outputs": [
    {
     "name": "stdout",
     "output_type": "stream",
     "text": [
      "['You', 'are', 'my', 'best', 'friend']\n"
     ]
    },
    {
     "data": {
      "text/plain": [
       "'One-Two-Three'"
      ]
     },
     "execution_count": 41,
     "metadata": {},
     "output_type": "execute_result"
    }
   ],
   "source": [
    "print('You are my best friend'.split())\n",
    "'-'.join([\"One\", \"Two\", \"Three\"])"
   ]
  },
  {
   "cell_type": "markdown",
   "metadata": {},
   "source": [
    "## 容器类型：列表和元组"
   ]
  },
  {
   "cell_type": "code",
   "execution_count": 47,
   "metadata": {},
   "outputs": [
    {
     "name": "stdout",
     "output_type": "stream",
     "text": [
      "['a', 'b', 'c'] 140409681583792\n",
      "['c', 'b', 'a'] 140409681583792\n"
     ]
    }
   ],
   "source": [
    "s='abc'\n",
    "l=list(s)\n",
    "print(l, id(l))\n",
    "l.reverse()\n",
    "print(l, id(l))"
   ]
  },
  {
   "cell_type": "markdown",
   "metadata": {},
   "source": [
    "## 单元素元组的表示"
   ]
  },
  {
   "cell_type": "code",
   "execution_count": 127,
   "metadata": {},
   "outputs": [
    {
     "name": "stdout",
     "output_type": "stream",
     "text": [
      "8\n",
      "(2, 2, 2, 2)\n",
      "(2, 3, 4, 2, 3, 4, 2, 3, 4, 2, 3, 4)\n"
     ]
    }
   ],
   "source": [
    "print((2)*4)\n",
    "print((2,)*4)\n",
    "print((2,3,4)*4)"
   ]
  },
  {
   "cell_type": "markdown",
   "metadata": {},
   "source": [
    "#### 集合的元素是不重复的，必须是可散列的"
   ]
  },
  {
   "cell_type": "code",
   "execution_count": 64,
   "metadata": {},
   "outputs": [
    {
     "name": "stdout",
     "output_type": "stream",
     "text": [
      "{'d', 'a', 'b', 'c'}\n",
      "False\n",
      "True\n",
      "{'d', 'a', 'b', 'c'}\n"
     ]
    },
    {
     "ename": "TypeError",
     "evalue": "unhashable type: 'list'",
     "output_type": "error",
     "traceback": [
      "\u001b[0;31m---------------------------------------------------------------------------\u001b[0m",
      "\u001b[0;31mTypeError\u001b[0m                                 Traceback (most recent call last)",
      "\u001b[0;32m<ipython-input-64-90bcae6ecdfe>\u001b[0m in \u001b[0;36m<module>\u001b[0;34m\u001b[0m\n\u001b[1;32m      5\u001b[0m \u001b[0maset\u001b[0m\u001b[0;34m.\u001b[0m\u001b[0madd\u001b[0m\u001b[0;34m(\u001b[0m\u001b[0;34m'd'\u001b[0m\u001b[0;34m)\u001b[0m\u001b[0;34m\u001b[0m\u001b[0;34m\u001b[0m\u001b[0m\n\u001b[1;32m      6\u001b[0m \u001b[0mprint\u001b[0m\u001b[0;34m(\u001b[0m\u001b[0maset\u001b[0m\u001b[0;34m)\u001b[0m\u001b[0;34m\u001b[0m\u001b[0;34m\u001b[0m\u001b[0m\n\u001b[0;32m----> 7\u001b[0;31m \u001b[0maset\u001b[0m\u001b[0;34m.\u001b[0m\u001b[0madd\u001b[0m\u001b[0;34m(\u001b[0m\u001b[0;34m[\u001b[0m\u001b[0;36m1\u001b[0m\u001b[0;34m,\u001b[0m\u001b[0;36m2\u001b[0m\u001b[0;34m,\u001b[0m\u001b[0;36m3\u001b[0m\u001b[0;34m]\u001b[0m\u001b[0;34m)\u001b[0m\u001b[0;34m\u001b[0m\u001b[0;34m\u001b[0m\u001b[0m\n\u001b[0m",
      "\u001b[0;31mTypeError\u001b[0m: unhashable type: 'list'"
     ]
    }
   ],
   "source": [
    "aset=set('abcd')\n",
    "print(aset)\n",
    "print('x' in aset)\n",
    "print('a' in aset)\n",
    "aset.add('d')\n",
    "print(aset)\n",
    "aset.add([1,2,3])"
   ]
  },
  {
   "cell_type": "markdown",
   "metadata": {},
   "source": [
    "什么东西是hashable的?"
   ]
  },
  {
   "cell_type": "code",
   "execution_count": 47,
   "metadata": {},
   "outputs": [
    {
     "name": "stdout",
     "output_type": "stream",
     "text": [
      "hash(100) is 100\n",
      "hash('xzm') is -1971726307835518896\n",
      "hash((1,2,3)) is 2528502973977326415\n"
     ]
    }
   ],
   "source": [
    "print(\"hash(100) is {}\".format(hash(100)))\n",
    "print(\"hash('xzm') is {}\".format(hash('xzm')))\n",
    "print(\"hash((1,2,3)) is {}\".format(hash((1,2,3))))"
   ]
  },
  {
   "cell_type": "markdown",
   "metadata": {},
   "source": [
    "#### 字典的key也必须是可散列的"
   ]
  },
  {
   "cell_type": "code",
   "execution_count": 62,
   "metadata": {},
   "outputs": [
    {
     "ename": "TypeError",
     "evalue": "unhashable type: 'list'",
     "output_type": "error",
     "traceback": [
      "\u001b[0;31m---------------------------------------------------------------------------\u001b[0m",
      "\u001b[0;31mTypeError\u001b[0m                                 Traceback (most recent call last)",
      "\u001b[0;32m<ipython-input-62-2b2b8eb8054e>\u001b[0m in \u001b[0;36m<module>\u001b[0;34m\u001b[0m\n\u001b[1;32m      3\u001b[0m \u001b[0ma\u001b[0m\u001b[0;34m[\u001b[0m\u001b[0;34m'xzm'\u001b[0m\u001b[0;34m]\u001b[0m\u001b[0;34m=\u001b[0m\u001b[0;34m[\u001b[0m\u001b[0;36m1\u001b[0m\u001b[0;34m,\u001b[0m\u001b[0;36m2\u001b[0m\u001b[0;34m,\u001b[0m\u001b[0;36m3\u001b[0m\u001b[0;34m]\u001b[0m\u001b[0;34m\u001b[0m\u001b[0;34m\u001b[0m\u001b[0m\n\u001b[1;32m      4\u001b[0m \u001b[0ma\u001b[0m\u001b[0;34m[\u001b[0m\u001b[0;34m(\u001b[0m\u001b[0;36m1\u001b[0m\u001b[0;34m,\u001b[0m\u001b[0;36m2\u001b[0m\u001b[0;34m,\u001b[0m\u001b[0;36m3\u001b[0m\u001b[0;34m)\u001b[0m\u001b[0;34m]\u001b[0m\u001b[0;34m=\u001b[0m\u001b[0;34m'PKU'\u001b[0m\u001b[0;34m\u001b[0m\u001b[0;34m\u001b[0m\u001b[0m\n\u001b[0;32m----> 5\u001b[0;31m \u001b[0ma\u001b[0m\u001b[0;34m[\u001b[0m\u001b[0;34m[\u001b[0m\u001b[0;36m1\u001b[0m\u001b[0;34m,\u001b[0m\u001b[0;36m2\u001b[0m\u001b[0;34m,\u001b[0m\u001b[0;36m3\u001b[0m\u001b[0;34m]\u001b[0m\u001b[0;34m]\u001b[0m\u001b[0;34m=\u001b[0m\u001b[0;34m'PKU'\u001b[0m\u001b[0;34m\u001b[0m\u001b[0;34m\u001b[0m\u001b[0m\n\u001b[0m",
      "\u001b[0;31mTypeError\u001b[0m: unhashable type: 'list'"
     ]
    }
   ],
   "source": [
    "a={}\n",
    "a[1]=23\n",
    "a['xzm']=[1,2,3]\n",
    "a[(1,2,3)]='PKU'\n",
    "a[[1,2,3]]='PKU'"
   ]
  },
  {
   "cell_type": "markdown",
   "metadata": {},
   "source": [
    "### 字符串的format()方法"
   ]
  },
  {
   "cell_type": "code",
   "execution_count": 72,
   "metadata": {},
   "outputs": [
    {
     "name": "stdout",
     "output_type": "stream",
     "text": [
      "Swaroop was 20 years old when he wrote this book\n",
      "Swaroop was 20 years old when he wrote this book\n",
      "Why is Swaroop playing with that python?\n",
      "Swaroop write \"a byte of python\"\n",
      "Swaroop is 20 years old\n"
     ]
    }
   ],
   "source": [
    "age = 20\n",
    "name = 'Swaroop'\n",
    "\n",
    "print('{} was {} years old when he wrote this book'.format(name, age)) \n",
    "print('{0} was {1} years old when he wrote this book'.format(name, age)) \n",
    "print('Why is {0} playing with that python?'.format(name))\n",
    "print('{author} write \"{book}\"'.format(author='Swaroop', book='a byte of python'))"
   ]
  },
  {
   "cell_type": "markdown",
   "metadata": {},
   "source": [
    "format()可读性优于字符串拼接的方式"
   ]
  },
  {
   "cell_type": "code",
   "execution_count": null,
   "metadata": {},
   "outputs": [],
   "source": [
    "print(name + ' is ' + str(age) + ' years old')"
   ]
  },
  {
   "cell_type": "markdown",
   "metadata": {},
   "source": [
    "#### format其他的排版功能"
   ]
  },
  {
   "cell_type": "markdown",
   "metadata": {},
   "source": [
    "取十进制小数点后的精度为 3 ，得到的浮点数为 '0.333'"
   ]
  },
  {
   "cell_type": "code",
   "execution_count": 132,
   "metadata": {},
   "outputs": [
    {
     "name": "stdout",
     "output_type": "stream",
     "text": [
      "0.333\n"
     ]
    }
   ],
   "source": [
    "print('{0:.3f}'.format(1.0/3))"
   ]
  },
  {
   "cell_type": "markdown",
   "metadata": {},
   "source": [
    "填充下划线 (_) ，文本居中\n",
    "将 '___hello___' 的宽度扩充为 11 "
   ]
  },
  {
   "cell_type": "code",
   "execution_count": 131,
   "metadata": {},
   "outputs": [
    {
     "name": "stdout",
     "output_type": "stream",
     "text": [
      "___hello___\n"
     ]
    }
   ],
   "source": [
    "print('{0:_^11}'.format('hello'))"
   ]
  },
  {
   "cell_type": "markdown",
   "metadata": {},
   "source": [
    "##### 对元组的format方式，使用‘%’的话，需要特别注意"
   ]
  },
  {
   "cell_type": "code",
   "execution_count": 129,
   "metadata": {},
   "outputs": [
    {
     "name": "stdout",
     "output_type": "stream",
     "text": [
      "hi there (1, 2, 3)\n",
      "hi there (1, 2, 3)\n"
     ]
    },
    {
     "ename": "TypeError",
     "evalue": "not all arguments converted during string formatting",
     "output_type": "error",
     "traceback": [
      "\u001b[0;31m---------------------------------------------------------------------------\u001b[0m",
      "\u001b[0;31mTypeError\u001b[0m                                 Traceback (most recent call last)",
      "\u001b[0;32m<ipython-input-129-1018675908b5>\u001b[0m in \u001b[0;36m<module>\u001b[0;34m\u001b[0m\n\u001b[1;32m      2\u001b[0m \u001b[0mprint\u001b[0m\u001b[0;34m(\u001b[0m\u001b[0;34m\"hi there %s\"\u001b[0m \u001b[0;34m%\u001b[0m \u001b[0;34m(\u001b[0m\u001b[0mname\u001b[0m\u001b[0;34m,\u001b[0m\u001b[0;34m)\u001b[0m\u001b[0;34m)\u001b[0m\u001b[0;34m\u001b[0m\u001b[0;34m\u001b[0m\u001b[0m\n\u001b[1;32m      3\u001b[0m \u001b[0mprint\u001b[0m\u001b[0;34m(\u001b[0m\u001b[0;34m\"hi there {}\"\u001b[0m\u001b[0;34m.\u001b[0m\u001b[0mformat\u001b[0m\u001b[0;34m(\u001b[0m\u001b[0mname\u001b[0m\u001b[0;34m)\u001b[0m\u001b[0;34m)\u001b[0m\u001b[0;34m\u001b[0m\u001b[0;34m\u001b[0m\u001b[0m\n\u001b[0;32m----> 4\u001b[0;31m \u001b[0mprint\u001b[0m\u001b[0;34m(\u001b[0m\u001b[0;34m\"hi there %s\"\u001b[0m \u001b[0;34m%\u001b[0m \u001b[0mname\u001b[0m\u001b[0;34m)\u001b[0m\u001b[0;34m\u001b[0m\u001b[0;34m\u001b[0m\u001b[0m\n\u001b[0m",
      "\u001b[0;31mTypeError\u001b[0m: not all arguments converted during string formatting"
     ]
    }
   ],
   "source": [
    "name=(1,2,3)\n",
    "print(\"hi there %s\" % (name,))\n",
    "print(\"hi there {}\".format(name))\n",
    "print(\"hi there %s\" % name)"
   ]
  },
  {
   "cell_type": "markdown",
   "metadata": {},
   "source": [
    "#### for-loop中else-block的作用"
   ]
  },
  {
   "cell_type": "code",
   "execution_count": 77,
   "metadata": {},
   "outputs": [
    {
     "name": "stdout",
     "output_type": "stream",
     "text": [
      "0 1 2 3 4 5 6 7 8 9 fini\n",
      "0 1 2 3 4 5 6 7 8 9 10 11 12 13 14 15 "
     ]
    }
   ],
   "source": [
    "for i in range(10):\n",
    "    print(i,end=' ')\n",
    "    if i==15:\n",
    "        break\n",
    "else:\n",
    "    print('fini')\n",
    "    \n",
    "for i in range(20):\n",
    "    print(i,end=' ')\n",
    "    if i==15:\n",
    "        break\n",
    "else:\n",
    "    print('fini')   "
   ]
  },
  {
   "cell_type": "markdown",
   "metadata": {},
   "source": [
    "### Exception的处理"
   ]
  },
  {
   "cell_type": "code",
   "execution_count": 126,
   "metadata": {},
   "outputs": [
    {
     "name": "stdout",
     "output_type": "stream",
     "text": [
      "try...\n",
      "ZeroDivisionError: division by zero\n",
      "finally...\n",
      "END\n",
      "try...\n",
      "TypeError: sequence item 0: expected str instance, int found\n",
      "finally...\n",
      "END\n",
      "try...\n",
      "no error!\n",
      "finally...\n",
      "END\n",
      "try...\n",
      "finally...\n"
     ]
    },
    {
     "ename": "IndexError",
     "evalue": "list assignment index out of range",
     "output_type": "error",
     "traceback": [
      "\u001b[0;31m---------------------------------------------------------------------------\u001b[0m",
      "\u001b[0;31mIndexError\u001b[0m                                Traceback (most recent call last)",
      "\u001b[0;32m<ipython-input-126-2fc6ff1cf1f6>\u001b[0m in \u001b[0;36m<module>\u001b[0;34m\u001b[0m\n\u001b[1;32m     28\u001b[0m     \u001b[0ml\u001b[0m\u001b[0;34m=\u001b[0m\u001b[0;34m[\u001b[0m\u001b[0;36m1\u001b[0m\u001b[0;34m,\u001b[0m\u001b[0;36m2\u001b[0m\u001b[0;34m]\u001b[0m\u001b[0;34m\u001b[0m\u001b[0;34m\u001b[0m\u001b[0m\n\u001b[1;32m     29\u001b[0m     \u001b[0ml\u001b[0m\u001b[0;34m[\u001b[0m\u001b[0;36m34\u001b[0m\u001b[0;34m]\u001b[0m\u001b[0;34m=\u001b[0m\u001b[0;36m0\u001b[0m\u001b[0;34m\u001b[0m\u001b[0;34m\u001b[0m\u001b[0m\n\u001b[0;32m---> 30\u001b[0;31m \u001b[0mexecute\u001b[0m\u001b[0;34m(\u001b[0m\u001b[0mf4\u001b[0m\u001b[0;34m)\u001b[0m\u001b[0;34m\u001b[0m\u001b[0;34m\u001b[0m\u001b[0m\n\u001b[0m",
      "\u001b[0;32m<ipython-input-126-2fc6ff1cf1f6>\u001b[0m in \u001b[0;36mexecute\u001b[0;34m(func)\u001b[0m\n\u001b[1;32m      2\u001b[0m     \u001b[0;32mtry\u001b[0m\u001b[0;34m:\u001b[0m\u001b[0;34m\u001b[0m\u001b[0;34m\u001b[0m\u001b[0m\n\u001b[1;32m      3\u001b[0m         \u001b[0mprint\u001b[0m\u001b[0;34m(\u001b[0m\u001b[0;34m'try...'\u001b[0m\u001b[0;34m)\u001b[0m\u001b[0;34m\u001b[0m\u001b[0;34m\u001b[0m\u001b[0m\n\u001b[0;32m----> 4\u001b[0;31m         \u001b[0mfunc\u001b[0m\u001b[0;34m(\u001b[0m\u001b[0;34m)\u001b[0m\u001b[0;34m\u001b[0m\u001b[0;34m\u001b[0m\u001b[0m\n\u001b[0m\u001b[1;32m      5\u001b[0m     \u001b[0;32mexcept\u001b[0m \u001b[0mTypeError\u001b[0m \u001b[0;32mas\u001b[0m \u001b[0me\u001b[0m\u001b[0;34m:\u001b[0m\u001b[0;34m\u001b[0m\u001b[0;34m\u001b[0m\u001b[0m\n\u001b[1;32m      6\u001b[0m         \u001b[0mprint\u001b[0m\u001b[0;34m(\u001b[0m\u001b[0;34m'TypeError:'\u001b[0m\u001b[0;34m,\u001b[0m \u001b[0me\u001b[0m\u001b[0;34m)\u001b[0m\u001b[0;34m\u001b[0m\u001b[0;34m\u001b[0m\u001b[0m\n",
      "\u001b[0;32m<ipython-input-126-2fc6ff1cf1f6>\u001b[0m in \u001b[0;36mf4\u001b[0;34m()\u001b[0m\n\u001b[1;32m     27\u001b[0m \u001b[0;32mdef\u001b[0m \u001b[0mf4\u001b[0m\u001b[0;34m(\u001b[0m\u001b[0;34m)\u001b[0m\u001b[0;34m:\u001b[0m\u001b[0;34m\u001b[0m\u001b[0;34m\u001b[0m\u001b[0m\n\u001b[1;32m     28\u001b[0m     \u001b[0ml\u001b[0m\u001b[0;34m=\u001b[0m\u001b[0;34m[\u001b[0m\u001b[0;36m1\u001b[0m\u001b[0;34m,\u001b[0m\u001b[0;36m2\u001b[0m\u001b[0;34m]\u001b[0m\u001b[0;34m\u001b[0m\u001b[0;34m\u001b[0m\u001b[0m\n\u001b[0;32m---> 29\u001b[0;31m     \u001b[0ml\u001b[0m\u001b[0;34m[\u001b[0m\u001b[0;36m34\u001b[0m\u001b[0;34m]\u001b[0m\u001b[0;34m=\u001b[0m\u001b[0;36m0\u001b[0m\u001b[0;34m\u001b[0m\u001b[0;34m\u001b[0m\u001b[0m\n\u001b[0m\u001b[1;32m     30\u001b[0m \u001b[0mexecute\u001b[0m\u001b[0;34m(\u001b[0m\u001b[0mf4\u001b[0m\u001b[0;34m)\u001b[0m\u001b[0;34m\u001b[0m\u001b[0;34m\u001b[0m\u001b[0m\n",
      "\u001b[0;31mIndexError\u001b[0m: list assignment index out of range"
     ]
    }
   ],
   "source": [
    "def execute(func):\n",
    "    try:\n",
    "        print('try...')\n",
    "        func()\n",
    "    except TypeError as e:\n",
    "        print('TypeError:', e)\n",
    "    except ZeroDivisionError as e:\n",
    "        print('ZeroDivisionError:', e)\n",
    "    else:\n",
    "        print('no error!')\n",
    "    finally:\n",
    "        print('finally...')\n",
    "    print('END')\n",
    "\n",
    "def f1():\n",
    "    23/0\n",
    "execute(f1)\n",
    "\n",
    "def f2():\n",
    "    '.'.join([1,2])\n",
    "execute(f2)\n",
    "\n",
    "def f3():\n",
    "    3+4\n",
    "execute(f3)\n",
    "\n",
    "def f4():\n",
    "    l=[1,2]\n",
    "    l[34]=0\n",
    "execute(f4)"
   ]
  },
  {
   "cell_type": "markdown",
   "metadata": {},
   "source": [
    "函数本身 vs. 函数返回值"
   ]
  },
  {
   "cell_type": "code",
   "execution_count": 4,
   "metadata": {},
   "outputs": [
    {
     "name": "stdout",
     "output_type": "stream",
     "text": [
      "<function sum_list at 0x7fc49950c3b0>\n",
      "sum of my list is 324\n"
     ]
    }
   ],
   "source": [
    "def sum_list(alist):   #定义一个带参数的函数\n",
    "    sum_tmp = 0\n",
    "    for i in alist:\n",
    "        sum_tmp += i\n",
    "    return sum_tmp     #返回求和值\n",
    "\n",
    "print(sum_list)\n",
    "my_list = [23, 45, 67, 89, 100]\n",
    "# 调用函数，将返回值赋值给 my_sum\n",
    "my_sum = sum_list(my_list)\n",
    "print(\"sum of my list is {}\".format(my_sum))"
   ]
  },
  {
   "cell_type": "markdown",
   "metadata": {},
   "source": [
    "没有return语句的函数返回None"
   ]
  },
  {
   "cell_type": "code",
   "execution_count": 1,
   "metadata": {},
   "outputs": [
    {
     "name": "stdout",
     "output_type": "stream",
     "text": [
      "How are you, Tom!\n",
      "None\n"
     ]
    }
   ],
   "source": [
    "def sayhello(name):\n",
    "    print(\"How are you, {}!\".format(name))\n",
    "c=sayhello(\"Tom\")\n",
    "print(c)"
   ]
  },
  {
   "cell_type": "markdown",
   "metadata": {},
   "source": [
    "#### 缺省参数的使用"
   ]
  },
  {
   "cell_type": "code",
   "execution_count": 79,
   "metadata": {},
   "outputs": [
    {
     "name": "stdout",
     "output_type": "stream",
     "text": [
      "abc:2\n",
      "abc:6\n",
      "shanghai:6\n",
      "beijing:2\n"
     ]
    },
    {
     "ename": "TypeError",
     "evalue": "unsupported operand type(s) for +: 'int' and 'str'",
     "output_type": "error",
     "traceback": [
      "\u001b[0;31m---------------------------------------------------------------------------\u001b[0m",
      "\u001b[0;31mTypeError\u001b[0m                                 Traceback (most recent call last)",
      "\u001b[0;32m<ipython-input-79-870de611d9a4>\u001b[0m in \u001b[0;36m<module>\u001b[0;34m\u001b[0m\n\u001b[1;32m      6\u001b[0m \u001b[0mfunc\u001b[0m\u001b[0;34m(\u001b[0m\u001b[0;36m2\u001b[0m\u001b[0;34m,\u001b[0m\u001b[0;36m4\u001b[0m\u001b[0;34m,\u001b[0m \u001b[0;34m\"shanghai\"\u001b[0m\u001b[0;34m)\u001b[0m\u001b[0;34m\u001b[0m\u001b[0;34m\u001b[0m\u001b[0m\n\u001b[1;32m      7\u001b[0m \u001b[0mfunc\u001b[0m\u001b[0;34m(\u001b[0m\u001b[0;36m2\u001b[0m\u001b[0;34m,\u001b[0m \u001b[0mc\u001b[0m\u001b[0;34m=\u001b[0m\u001b[0;34m\"beijing\"\u001b[0m\u001b[0;34m)\u001b[0m\u001b[0;34m\u001b[0m\u001b[0;34m\u001b[0m\u001b[0m\n\u001b[0;32m----> 8\u001b[0;31m \u001b[0mfunc\u001b[0m\u001b[0;34m(\u001b[0m\u001b[0;36m2\u001b[0m\u001b[0;34m,\u001b[0m \u001b[0;34m\"guangzhou\"\u001b[0m\u001b[0;34m)\u001b[0m\u001b[0;34m\u001b[0m\u001b[0;34m\u001b[0m\u001b[0m\n\u001b[0m",
      "\u001b[0;32m<ipython-input-79-870de611d9a4>\u001b[0m in \u001b[0;36mfunc\u001b[0;34m(a, b, c)\u001b[0m\n\u001b[1;32m      1\u001b[0m \u001b[0;32mdef\u001b[0m \u001b[0mfunc\u001b[0m\u001b[0;34m(\u001b[0m\u001b[0ma\u001b[0m\u001b[0;34m,\u001b[0m \u001b[0mb\u001b[0m\u001b[0;34m=\u001b[0m \u001b[0;36m0\u001b[0m\u001b[0;34m,\u001b[0m \u001b[0mc\u001b[0m\u001b[0;34m=\u001b[0m \u001b[0;34m\"abc\"\u001b[0m\u001b[0;34m)\u001b[0m\u001b[0;34m:\u001b[0m\u001b[0;34m\u001b[0m\u001b[0;34m\u001b[0m\u001b[0m\n\u001b[0;32m----> 2\u001b[0;31m     \u001b[0mprint\u001b[0m\u001b[0;34m(\u001b[0m\u001b[0;34m\"{}:{}\"\u001b[0m\u001b[0;34m.\u001b[0m\u001b[0mformat\u001b[0m\u001b[0;34m(\u001b[0m\u001b[0mc\u001b[0m\u001b[0;34m,\u001b[0m \u001b[0ma\u001b[0m\u001b[0;34m+\u001b[0m\u001b[0mb\u001b[0m\u001b[0;34m)\u001b[0m\u001b[0;34m)\u001b[0m\u001b[0;34m\u001b[0m\u001b[0;34m\u001b[0m\u001b[0m\n\u001b[0m\u001b[1;32m      3\u001b[0m \u001b[0;34m\u001b[0m\u001b[0m\n\u001b[1;32m      4\u001b[0m \u001b[0mfunc\u001b[0m\u001b[0;34m(\u001b[0m\u001b[0;36m2\u001b[0m\u001b[0;34m)\u001b[0m\u001b[0;34m\u001b[0m\u001b[0;34m\u001b[0m\u001b[0m\n\u001b[1;32m      5\u001b[0m \u001b[0mfunc\u001b[0m\u001b[0;34m(\u001b[0m\u001b[0;36m2\u001b[0m\u001b[0;34m,\u001b[0m\u001b[0;36m4\u001b[0m\u001b[0;34m)\u001b[0m\u001b[0;34m\u001b[0m\u001b[0;34m\u001b[0m\u001b[0m\n",
      "\u001b[0;31mTypeError\u001b[0m: unsupported operand type(s) for +: 'int' and 'str'"
     ]
    }
   ],
   "source": [
    "def func(a, b= 0, c= \"abc\"):\n",
    "    print(\"{}:{}\".format(c, a+b))\n",
    "    \n",
    "func(2)\n",
    "func(2,4)\n",
    "func(2,4, \"shanghai\")\n",
    "func(2, c=\"beijing\")\n",
    "func(2, \"guangzhou\")"
   ]
  },
  {
   "cell_type": "markdown",
   "metadata": {},
   "source": [
    "##### Support for type hints\n",
    "让代码更加可读、友好，但python runtime没管它，属于“君子协定”；第三方软件可能用到它。<br> \n",
    "参考：https://docs.python.org/3/library/typing.html<br>\n",
    "     https://www.python.org/dev/peps/pep-0484/"
   ]
  },
  {
   "cell_type": "code",
   "execution_count": 5,
   "metadata": {},
   "outputs": [
    {
     "ename": "SyntaxError",
     "evalue": "invalid syntax (<ipython-input-5-1a03ba2edc3a>, line 1)",
     "output_type": "error",
     "traceback": [
      "\u001b[0;36m  File \u001b[0;32m\"<ipython-input-5-1a03ba2edc3a>\"\u001b[0;36m, line \u001b[0;32m1\u001b[0m\n\u001b[0;31m    def hello(name: int)-> str:\u001b[0m\n\u001b[0m                  ^\u001b[0m\n\u001b[0;31mSyntaxError\u001b[0m\u001b[0;31m:\u001b[0m invalid syntax\n"
     ]
    }
   ],
   "source": [
    "def hello(name: int)-> str:\n",
    "    for i in name:\n",
    "        print(i)\n",
    "    return 23\n",
    "\n",
    "print(hello('xzm'))\n",
    "\n",
    "from typing import List, Tuple\n",
    "\n",
    "def top3(grades: List[Tuple[str, int]])->List[Tuple[str, int]]:\n",
    "    grades.sort(reverse=True, key=lambda x:x[1])\n",
    "    return grades[:3]\n",
    "\n",
    "print(top3([(\"xzm\", 4), (\"abc\", 7), (\"ccc\", 6), (\"ddd\", 10) ]))"
   ]
  },
  {
   "cell_type": "markdown",
   "metadata": {},
   "source": [
    "##### Tuple assignment"
   ]
  },
  {
   "cell_type": "code",
   "execution_count": 184,
   "metadata": {},
   "outputs": [
    {
     "name": "stdout",
     "output_type": "stream",
     "text": [
      "2 1\n",
      "2 2\n"
     ]
    }
   ],
   "source": [
    "a, b= 1, 2\n",
    "a, b = b, a\n",
    "print(a, b)\n",
    "#########################\n",
    "a, b = 1, 2\n",
    "a = b\n",
    "b = a\n",
    "print(a, b)"
   ]
  },
  {
   "cell_type": "markdown",
   "metadata": {},
   "source": [
    "## class的使用"
   ]
  },
  {
   "cell_type": "code",
   "execution_count": 4,
   "metadata": {},
   "outputs": [
    {
     "name": "stdout",
     "output_type": "stream",
     "text": [
      "Force<3,7>\n",
      "__mul__ is called\n",
      "Force<5,15>\n",
      "__str__ is called\n",
      "Force<1,3>\n",
      "__mul__ is called\n",
      "__eq__ is called\n",
      "equal!\n"
     ]
    }
   ],
   "source": [
    "class Force: #二维力\n",
    "    def __init__(self, x, y):\n",
    "        self.fx, self.fy = x, y\n",
    "    def show(self):\n",
    "        print(\"Force<{},{}>\".format(self.fx, self.fy))\n",
    "    def add(self, force2):\n",
    "        x = self.fx + force2.fx\n",
    "        y = self.fy + force2.fy\n",
    "        return Force(x, y)\n",
    "    \"\"\"\n",
    "    def __add__(self, other):\n",
    "        print(\"__add__ is called\")\n",
    "        return self.add(other)\n",
    "    \"\"\"\n",
    "    __add__ = add\n",
    "    \n",
    "    def __str__(self):\n",
    "        print(\"__str__ is called\")\n",
    "        return \"Force<{},{}>\".format(self.fx, self.fy)\n",
    "    \n",
    "    def __mul__(self, n):\n",
    "        print(\"__mul__ is called\")\n",
    "        x = self.fx * n\n",
    "        y = self.fy * n\n",
    "        return Force(x, y)\n",
    "    def __eq__(self, other):\n",
    "        print(\"__eq__ is called\")\n",
    "        return self.fx == other.fx and self.fy == other.fy\n",
    "\n",
    "#调用特殊操作符__add__()\n",
    "(Force(1,3)+Force(2,4)).show()\n",
    "#调用特殊操作符__mul__()\n",
    "(Force(1,3)*5).show()\n",
    "#调用特殊操作符__str__()\n",
    "print(Force(1,3))\n",
    "#调用特殊操作符__eq__()\n",
    "if Force(1,3)*5 == Force(5,15):\n",
    "    print(\"equal!\")"
   ]
  },
  {
   "cell_type": "markdown",
   "metadata": {},
   "source": [
    "Python中类的继承，父类与子类"
   ]
  },
  {
   "cell_type": "code",
   "execution_count": 11,
   "metadata": {},
   "outputs": [
    {
     "name": "stdout",
     "output_type": "stream",
     "text": [
      "充电5度\n",
      "唐:run 10 miles\n",
      "唐:fuel out!\n"
     ]
    }
   ],
   "source": [
    "#\n",
    "#car.py\n",
    "#\n",
    "class Car:\n",
    "    def __init__(self,name):\n",
    "        self.name = name\n",
    "        self.remain_mile = 0\n",
    "    def fill_fuel(self, miles): #加燃料里程\n",
    "        self.remain_mile += miles\n",
    "    def run(self, miles):   #行驶miles里程\n",
    "        print(self.name, end=\":\")\n",
    "        if self.remain_mile >= miles:\n",
    "            self.remain_mile -= miles\n",
    "            print(\"run {} miles\".format(miles))\n",
    "        else:\n",
    "            print(\"fuel out!\")\n",
    "class GasCar(Car):\n",
    "    def fill_fuel(self,gas): #加汽油gas升\n",
    "        print(\"加油{}升\".format(gas))\n",
    "        super().fill_fuel(gas * 6.0) #每升油跑6miles\n",
    "class ElecCar(Car):\n",
    "    def fill_fuel(self, power): #充电power度\n",
    "        print(\"充电{}度\".format(power))\n",
    "        super().fill_fuel(power * 3.0) #每度电跑3miles\n",
    "        \n",
    "mycar = ElecCar(\"唐\")\n",
    "mycar.fill_fuel(5)\n",
    "mycar.run(10)\n",
    "mycar.run(10)"
   ]
  },
  {
   "cell_type": "code",
   "execution_count": 12,
   "metadata": {},
   "outputs": [
    {
     "name": "stdout",
     "output_type": "stream",
     "text": [
      "加油4升\n",
      "悍马:run 10 miles\n"
     ]
    }
   ],
   "source": [
    "mycar = GasCar(\"悍马\")\n",
    "mycar.fill_fuel(4)\n",
    "mycar.run(10)"
   ]
  },
  {
   "cell_type": "markdown",
   "metadata": {},
   "source": [
    "使用自己实现的模块"
   ]
  },
  {
   "cell_type": "code",
   "execution_count": 118,
   "metadata": {},
   "outputs": [
    {
     "name": "stdout",
     "output_type": "stream",
     "text": [
      "从其他地方import或者python foo.py，我都会执行\n",
      "Hello! 小苹果, my name is foo\n",
      "__main__\n"
     ]
    }
   ],
   "source": [
    "import os\n",
    "import sys\n",
    "module_path = os.path.abspath(os.path.join('code'))\n",
    "if module_path not in sys.path:\n",
    "    sys.path.append(module_path)\n",
    "import foo\n",
    "import importlib\n",
    "importlib.reload(foo)\n",
    "foo.hello(\"小苹果\")\n",
    "print()"
   ]
  },
  {
   "cell_type": "markdown",
   "metadata": {},
   "source": [
    "module是怎么定义的, \\_\\_name\\_\\_是模块的一个属性,被python直接运行时\\_\\_name\\_\\_==\"__main__\"\n",
    "<br>被其他module import时，\\_\\_name\\_\\_就是模块名/文件名"
   ]
  },
  {
   "cell_type": "code",
   "execution_count": 119,
   "metadata": {},
   "outputs": [
    {
     "name": "stdout",
     "output_type": "stream",
     "text": [
      "从其他地方import或者python foo.py，我都会执行\n",
      "Hello! 汤姆, my name is __main__\n"
     ]
    }
   ],
   "source": [
    "# code/foo.py\n",
    "def hello(yourname):\n",
    "    print(\"Hello! {}, my name is {}\".format(yourname, __name__))\n",
    "    \n",
    "print(\"从其他地方import或者python foo.py，我都会执行\")\n",
    "\n",
    "if __name__ == \"__main__\":\n",
    "    hello(\"汤姆\")"
   ]
  },
  {
   "cell_type": "markdown",
   "metadata": {},
   "source": [
    "### 算法分析"
   ]
  },
  {
   "cell_type": "markdown",
   "metadata": {},
   "source": [
    "获取系统当前时间：从1970年一月一日零时开始的秒数"
   ]
  },
  {
   "cell_type": "code",
   "execution_count": 34,
   "metadata": {},
   "outputs": [
    {
     "name": "stdout",
     "output_type": "stream",
     "text": [
      "Help on built-in function time in module time:\n",
      "\n",
      "time(...)\n",
      "    time() -> floating point number\n",
      "    \n",
      "    Return the current time in seconds since the Epoch.\n",
      "    Fractions of a second may be present if the system clock provides them.\n",
      "\n",
      "1616416298.138158\n"
     ]
    }
   ],
   "source": [
    "import time\n",
    "help(time.time)\n",
    "print(time.time())"
   ]
  },
  {
   "cell_type": "markdown",
   "metadata": {},
   "source": [
    "##### 求和并计时"
   ]
  },
  {
   "cell_type": "code",
   "execution_count": 86,
   "metadata": {},
   "outputs": [
    {
     "name": "stdout",
     "output_type": "stream",
     "text": [
      "Sum(200000) is 20000100000, requires 0.0152571 seconds\n",
      "Sum(400000) is 80000200000, requires 0.0527861 seconds\n",
      "Sum(600000) is 180000300000, requires 0.0701230 seconds\n",
      "Sum(800000) is 320000400000, requires 0.1179783 seconds\n",
      "Sum(2000000) is 2000001000000, requires 0.2986081 seconds\n",
      "Sum(4000000) is 8000002000000, requires 0.3139570 seconds\n",
      "Sum(6000000) is 18000003000000, requires 0.5448189 seconds\n",
      "Sum(8000000) is 32000004000000, requires 0.6989303 seconds\n"
     ]
    }
   ],
   "source": [
    "import time\n",
    "def sumofN2(n):\n",
    "    start = time.time()     #记住开始时间\n",
    "    theSum = 0\n",
    "    #产生1，2，3，... n-1, n的序列\n",
    "    for i in range(1, n+1):\n",
    "        theSum += i\n",
    "    end = time.time()       #记住结束时间\n",
    "    return theSum, end-start\n",
    "\n",
    "for i in range(200000,1000000,200000):\n",
    "    print(\"Sum({}) is {}, requires {:.7f} seconds\".format(i, *sumofN2(i)))\n",
    "for i in range(2000000,10000000,2000000):\n",
    "    print(\"Sum({}) is {}, requires {:.7f} seconds\".format(i, *sumofN2(i)))"
   ]
  },
  {
   "cell_type": "markdown",
   "metadata": {},
   "source": [
    "测试in操作的时间"
   ]
  },
  {
   "cell_type": "code",
   "execution_count": 87,
   "metadata": {},
   "outputs": [
    {
     "name": "stdout",
     "output_type": "stream",
     "text": [
      "size,   list_time,  dict_time\n",
      "10000, 0.0952176, 0.0021524 \n",
      "30000, 0.2973295, 0.0009963 \n",
      "50000, 0.2879717, 0.0019981 \n",
      "70000, 0.5232345, 0.0013411 \n",
      "90000, 0.6565097, 0.0014770 \n",
      "110000, 0.7101817, 0.0013085 \n",
      "130000, 0.8152176, 0.0011520 \n",
      "150000, 1.0522239, 0.0023454 \n",
      "170000, 1.0038803, 0.0012637 \n",
      "190000, 1.0748739, 0.0011047 \n",
      "210000, 1.2348756, 0.0010958 \n",
      "230000, 1.2560319, 0.0014168 \n",
      "250000, 1.4015310, 0.0010680 \n",
      "270000, 1.5057958, 0.0012463 \n",
      "290000, 1.5882087, 0.0012284 \n",
      "310000, 1.7156450, 0.0011736 \n",
      "330000, 1.9552789, 0.0011685 \n",
      "350000, 1.9030939, 0.0011940 \n",
      "370000, 2.3852037, 0.0018765 \n",
      "390000, 2.5290653, 0.0011235 \n",
      "410000, 2.6676698, 0.0016191 \n",
      "430000, 2.6556337, 0.0011496 \n",
      "450000, 2.8090001, 0.0011691 \n",
      "470000, 2.7928352, 0.0011595 \n",
      "490000, 2.8657406, 0.0012505 \n",
      "510000, 2.9995242, 0.0013968 \n",
      "530000, 2.9329648, 0.0014240 \n",
      "550000, 3.0528602, 0.0013941 \n",
      "570000, 3.1679072, 0.0014796 \n",
      "590000, 3.6167360, 0.0014660 \n",
      "610000, 3.7623898, 0.0014940 \n",
      "630000, 3.5099761, 0.0016293 \n",
      "650000, 3.5138036, 0.0014529 \n",
      "670000, 3.6639535, 0.0014210 \n",
      "690000, 3.6260059, 0.0014305 \n",
      "710000, 3.8036057, 0.0013487 \n",
      "730000, 4.0622117, 0.0013592 \n",
      "750000, 4.1701109, 0.0013165 \n",
      "770000, 4.1079704, 0.0014694 \n",
      "790000, 4.2825696, 0.0014201 \n",
      "810000, 4.4039665, 0.0014426 \n",
      "830000, 4.5304381, 0.0015157 \n",
      "850000, 4.6009445, 0.0014047 \n",
      "870000, 4.7764199, 0.0014532 \n",
      "890000, 4.7721030, 0.0014611 \n",
      "910000, 4.8286492, 0.0014419 \n",
      "930000, 4.8870853, 0.0014087 \n",
      "950000, 5.1394117, 0.0014003 \n",
      "970000, 5.3779080, 0.0013899 \n",
      "990000, 5.4523048, 0.0013968 \n"
     ]
    }
   ],
   "source": [
    "import timeit\n",
    "import random\n",
    "print(\"size,   list_time,  dict_time\")\n",
    "for i in range(10000, 1000001,20000):   #从一万到一百万\n",
    "    t = timeit.Timer(\"random.randrange({}) in x\".format(i),\n",
    "                    \"from __main__ import random, x\")\n",
    "    x = list(range(i))\n",
    "    lst_time = t.timeit(number=1000)\n",
    "    x = {j:None for j in range(i)}\n",
    "    d_time = t.timeit(number=1000)\n",
    "    print(\"{}, {:.7f}, {:.7f} \".format(i, lst_time, d_time))"
   ]
  },
  {
   "cell_type": "markdown",
   "metadata": {},
   "source": [
    "#### 通过特殊函数实现对int()的支持"
   ]
  },
  {
   "cell_type": "code",
   "execution_count": 128,
   "metadata": {},
   "outputs": [
    {
     "name": "stdout",
     "output_type": "stream",
     "text": [
      "48\n"
     ]
    }
   ],
   "source": [
    "class Uncle:\n",
    "    def __init__(self, name, age):\n",
    "        self.name = name\n",
    "        self.age = age\n",
    "\n",
    "    def __int__(self):\n",
    "        return self.age\n",
    " \n",
    "print(int(Uncle(\"John\", 48)))"
   ]
  },
  {
   "cell_type": "markdown",
   "metadata": {},
   "source": [
    "##### 数学画图模块的使用"
   ]
  },
  {
   "cell_type": "code",
   "execution_count": 76,
   "metadata": {},
   "outputs": [
    {
     "name": "stdin",
     "output_type": "stream",
     "text": [
      "please input a number: 12\n"
     ]
    },
    {
     "data": {
      "image/png": "[encoded data removed]",
      "text/plain": [
       "<Figure size 432x288 with 1 Axes>"
      ]
     },
     "metadata": {
      "needs_background": "light"
     },
     "output_type": "display_data"
    }
   ],
   "source": [
    "import matplotlib.pyplot as plt\n",
    "number = int(input(\"please input a number:\"))\n",
    "plt.plot(range(number),range(number), label=\"linear\")\n",
    "plt.plot(range(number),[x*x for x in range(number)], label=\"square\")\n",
    "plt.xlabel('x - axis')\n",
    "plt.ylabel('y - axis')\n",
    "plt.title('Two or more lines on same plot with suitable legends ')\n",
    "plt.legend()\n",
    "plt.show()"
   ]
  },
  {
   "cell_type": "markdown",
   "metadata": {},
   "source": [
    "##### 测试列表index()操作和[]操作的时间复杂度"
   ]
  },
  {
   "cell_type": "code",
   "execution_count": 127,
   "metadata": {},
   "outputs": [
    {
     "name": "stdin",
     "output_type": "stream",
     "text": [
      "Please input 3 numbers(start, end, stop): 10000 100000 10000\n"
     ]
    },
    {
     "name": "stdout",
     "output_type": "stream",
     "text": [
      "10000 100000 10000\n",
      "0.07126722599787172 0.0009275630000047386 0.0009464619943173602\n",
      "0.11668385298980866 0.0009167959942715243 0.0008755739982007071\n",
      "0.20366637599363457 0.0008599189895903692 0.0008398189966101199\n",
      "0.2589222079986939 0.0009237269987352192 0.0008936880039982498\n",
      "0.4217259360011667 0.0013623419945361093 0.0012647719995584339\n",
      "0.3999706929898821 0.0009236300102202222 0.0008016999927349389\n",
      "0.6789735640049912 0.000988532992778346 0.0009287770080845803\n",
      "0.6949669730092864 0.0010521380027057603 0.000879844999872148\n",
      "0.7005177410028409 0.0016928330005612224 0.0017376610048813745\n"
     ]
    },
    {
     "data": {
      "image/png": "[encoded data removed]",
      "text/plain": [
       "<Figure size 432x288 with 1 Axes>"
      ]
     },
     "metadata": {
      "needs_background": "light"
     },
     "output_type": "display_data"
    }
   ],
   "source": [
    "import timeit\n",
    "import random\n",
    "start, end, step = (int(x) for x in input(\"Please input 3 numbers(start, end, stop):\").split(maxsplit=3))\n",
    "print(start, end, step)\n",
    "index_time = []\n",
    "sub_time = []\n",
    "rand_time = []\n",
    "for N in range(start, end, step):\n",
    "    t_index = timeit.Timer(\"mylist.index(random.randrange({}))\".format(N)\n",
    "                          , \"import random; from __main__ import mylist\")\n",
    "    t_sub = timeit.Timer(\"mylist[random.randrange({})]\".format(N)\n",
    "                      , \"import random; from __main__ import mylist\")\n",
    "    t_rand = timeit.Timer(\"random.randrange({})\".format(N)\n",
    "                         , \"import random\")\n",
    "    mylist = list(range(N))\n",
    "    t1 = t_index.timeit(number=1000)\n",
    "    t2 = t_sub.timeit(number=1000)\n",
    "    t3 = t_rand.timeit(number=1000)\n",
    "    print(t1, t2, t3)\n",
    "    index_time.append(t1)\n",
    "    sub_time.append(t2)\n",
    "    rand_time.append(t3)\n",
    "\n",
    "import matplotlib.pyplot as plt\n",
    "#plt.plot(range(start, end, step), index_time, label=\"index\")\n",
    "plt.plot(range(start, end, step), sub_time, label=\"sub\")\n",
    "plt.plot(range(start, end, step), rand_time, label=\"rand\")\n",
    "plt.xlabel('size of list')\n",
    "plt.ylabel('1000*time')\n",
    "plt.title('compare index() and [] operations on list')\n",
    "plt.legend()\n",
    "plt.show()"
   ]
  },
  {
   "cell_type": "markdown",
   "metadata": {},
   "source": [
    "当N较小的时候，目标操作的执行时间较小，测量更加容易受到其他因素的干扰；<br>\n",
    "sub和rand操作用时较少，也容易收到干扰"
   ]
  },
  {
   "cell_type": "markdown",
   "metadata": {},
   "source": [
    "#### 讨论比特币挖矿中的算法复杂度问题"
   ]
  },
  {
   "cell_type": "code",
   "execution_count": 124,
   "metadata": {},
   "outputs": [
    {
     "name": "stdout",
     "output_type": "stream",
     "text": [
      "hash of《哈姆雷特介绍》：34f9a09165f287df63d5db4f681faefdfa23ededbd414aff926f79f6c6476d3d\n",
      "Difficulty is 16(4 bits),\n",
      "less than:1000000000000000000000000000000000000000000000000000000000000000\n",
      "nonce   0:67deb1faa9cc9868320e32adb507e388475ee994198df7c6750f980f96c94b55\n",
      "nonce   1:c5d7746def2b0751168c570680c4c19dad938ecf6f94f3dd268e9c9fea7093e9\n",
      "nonce   2:3c21180c9ca5cfa459bfba678939398d870092c88791f696035c60c05f5fcd12\n",
      "nonce   3:9ddddea5eaa44cade98f6c8a1fcb4115b980462925b83f0c2abe2259691f2196\n",
      "nonce   4:31107c457f9ecded6c6139dea78c8bdab10173eebf5bd373f7e7a7bed8eb0c89\n",
      "nonce   5:a5e3b8e515b30f24773767bc280edc2f26e79f4d56913b8061442bab53f83d7a\n",
      "nonce   6:1fdfea56f68a2cb45b8f2a8f983caeb765bbcef14cbbc608c0b021e8e6e655b7\n",
      "nonce   7:e844f8cee21d46054b699bbaf39c5885f94755e7aaac1f78e4f6f11b0664d8d3\n",
      "nonce   8:008a037f2005ed959aeb04f9268170c0fdca27fb2e703afb48acadf56b70148c\n",
      "A new block mined with nonce 8\n",
      "光头强成功开采出了一个区块，获得一个比特币奖励。\n"
     ]
    }
   ],
   "source": [
    "import hashlib\n",
    "def bthash(unicode):\n",
    "    return hashlib.sha256(unicode.encode(\"utf8\")).hexdigest()\n",
    "\n",
    "hash_result = bthash(\"\"\"戏剧中叔父克劳迪谋害了丹麦国王--哈姆雷特的父亲，篡了王位，并娶了国王的遗孀葛簇特；\n",
    "王子哈姆雷特因此为父王之死向叔父复仇。剧本细致入微地刻画了伪装的、真实的疯癫 —— \n",
    "从悲痛欲绝到假装愤怒 —— 探索了背叛、复仇、乱伦、堕落等主题\"\"\")\n",
    "print(\"hash of《哈姆雷特介绍》：{}\".format(hash_result))\n",
    "\n",
    "difficulty_bits = 4\n",
    "difficulty = 2 ** difficulty_bits\n",
    "target = 2 ** (256 - difficulty_bits)\n",
    "print(\"Difficulty is {}({} bits),\\nless than:{:>64x}\".format(\n",
    "    difficulty, difficulty_bits, target))\n",
    "#\n",
    "# 核心问题，求解nonce，满足条件： \n",
    "#     Curr_hash = hash(transactions + nonce + Prev_hash) < target\n",
    "#\n",
    "def validate(transactions, nonce):\n",
    "    block = transactions + [nonce] + [\"前一个块哈希:13b1b06...76d3d\"]\n",
    "    hash_result = bthash(str(block))\n",
    "    print(\"nonce {:>3}:{}\".format(nonce, hash_result))\n",
    "    if int(hash_result, 16) < target:\n",
    "        return True\n",
    "    else :\n",
    "        return False\n",
    "    \n",
    "def find_nonce(transactions):               #挖矿过程\n",
    "    ntries = 256\n",
    "    for nonce in range(ntries):             #随机数\n",
    "        if validate(transactions, nonce):\n",
    "            print(\"A new block mined with nonce {}\".format(nonce))\n",
    "            return nonce\n",
    "    else:\n",
    "        print(\"Failed in ntries:{}\".format(ntries))\n",
    "        return None\n",
    "\n",
    "if __name__ == \"__main__\":\n",
    "    transactions = [\"Alice sends .5 coins to Bob\",\n",
    "             \"Bob sends 2 coins to John\",\n",
    "             \"Alice send .1 coins to Kate\",\n",
    "             \"John send 1 coins to Miselle\",\n",
    "             \"Miselle send 2 coins to Alice\",\n",
    "               \"矿工(光头强)被奖励一个coin\"]\n",
    "    nonce = find_nonce(transactions)\n",
    "    if nonce:\n",
    "        print(\"光头强成功开采出了一个区块，获得一个比特币奖励。\")\n"
   ]
  },
  {
   "cell_type": "markdown",
   "metadata": {},
   "source": [
    "##### 最新的比特币区块：https://btc.com/\n",
    "##### 比特币挖矿难度变更趋势：https://btc.com/stats/diff\n",
    "其中的难度和难度对数，分别对应上面代码中的difficulty和difficulty_bits\n",
    "当difficulty_bits最大取256时，difficulty数超过已知宇宙中的原子数，远远超过佛教中的“恒河沙数”。\n",
    "##### 比特币价格变化趋势：https://www.coindesk.com/price/bitcoin\n",
    "##### SHA256函数的更多信息：https://en.wikipedia.org/wiki/SHA-2\n",
    "##### 思考\n",
    "1：上面validate和find_nonce的复杂度分别是多少？它们是什么关系？分别属于NP还是P？<br>\n",
    "2: 如果想把“Alice send .1 coins to Kate”改成“Alice send 100 coins to Kate”，计算一个新nonce来保持“块哈希”值不变，算法复杂度是多少？"
   ]
  },
  {
   "cell_type": "code",
   "execution_count": 120,
   "metadata": {},
   "outputs": [
    {
     "data": {
      "text/plain": [
       "[(1, 'xzm'), (2, 'aa'), (3, 'bb')]"
      ]
     },
     "execution_count": 120,
     "metadata": {},
     "output_type": "execute_result"
    }
   ],
   "source": [
    "l=[1,2,3]\n",
    "r=['xzm', 'aa', 'bb']\n",
    "[x for x in zip(l,r)]"
   ]
  },
  {
   "cell_type": "markdown",
   "metadata": {},
   "source": [
    "### 线性表"
   ]
  },
  {
   "cell_type": "markdown",
   "metadata": {},
   "source": [
    "#### Python list类型是顺序表，存储的实际是指针"
   ]
  },
  {
   "cell_type": "code",
   "execution_count": 40,
   "metadata": {},
   "outputs": [
    {
     "name": "stdout",
     "output_type": "stream",
     "text": [
      "[4445832336, 4445832368, 4445833744, 4445833744]\n",
      "[1, 2, 5, 45, 45]\n",
      "[4445832336, 4445832368, 4445832464, 4445833744, 4445833744]\n"
     ]
    }
   ],
   "source": [
    "mylist = [1, 2, 45, 45]\n",
    "print([id(i) for i in mylist])\n",
    "mylist.insert(2, 5)\n",
    "print(mylist)\n",
    "print([id(i) for i in mylist])"
   ]
  },
  {
   "cell_type": "markdown",
   "metadata": {},
   "source": [
    "<img src=\"images/mylistPic.png\" width=\"250\" height=\"350\" style=\"float:left\">"
   ]
  },
  {
   "cell_type": "markdown",
   "metadata": {},
   "source": [
    "##### 用Python list来实现stack ADT，实现后的stack是一个数据类型\n",
    "通常在限制少的数据类型上加一些限制，来实现限制多的数据类型"
   ]
  },
  {
   "cell_type": "code",
   "execution_count": 129,
   "metadata": {},
   "outputs": [],
   "source": [
    "#成员的方式实现\n",
    "class Stack:\n",
    "    def __init__(self):\n",
    "        self.items = []\n",
    "    def isEmpty(self):\n",
    "        return self.items == []\n",
    "    def push(self, item):\n",
    "        self.items.append(item)\n",
    "    def pop(self):\n",
    "        return self.items.pop()\n",
    "    def peek(self):\n",
    "        return self.items[-1]\n",
    "    def size(self):\n",
    "        return len(self.items)\n",
    "    def __str__(self):\n",
    "       return \"[ {} *\".format(\", \".join([str(i) for i in self.items]))"
   ]
  },
  {
   "cell_type": "code",
   "execution_count": 130,
   "metadata": {},
   "outputs": [
    {
     "name": "stdout",
     "output_type": "stream",
     "text": [
      "True\n"
     ]
    }
   ],
   "source": [
    "s = Stack()\n",
    "print(s.isEmpty())"
   ]
  },
  {
   "cell_type": "code",
   "execution_count": 131,
   "metadata": {},
   "outputs": [
    {
     "name": "stdout",
     "output_type": "stream",
     "text": [
      "[ 4, Dog *\n",
      "Dog\n"
     ]
    }
   ],
   "source": [
    "s.push(4)\n",
    "s.push(\"Dog\")\n",
    "print(s)\n",
    "print(s.peek())"
   ]
  },
  {
   "cell_type": "code",
   "execution_count": 87,
   "metadata": {},
   "outputs": [
    {
     "name": "stdout",
     "output_type": "stream",
     "text": [
      "3\n",
      "False\n"
     ]
    }
   ],
   "source": [
    "s.push(True)\n",
    "print(s.size())\n",
    "print(s.isEmpty())"
   ]
  },
  {
   "cell_type": "code",
   "execution_count": 88,
   "metadata": {},
   "outputs": [
    {
     "name": "stdout",
     "output_type": "stream",
     "text": [
      "8.4\n",
      "True\n",
      "2\n",
      "[ 4, Dog >\n"
     ]
    }
   ],
   "source": [
    "s.push(8.4)\n",
    "print(s.pop())\n",
    "print(s.pop())\n",
    "print(s.size())\n",
    "print(s)"
   ]
  },
  {
   "cell_type": "code",
   "execution_count": 185,
   "metadata": {},
   "outputs": [
    {
     "name": "stdout",
     "output_type": "stream",
     "text": [
      "True\n",
      "xzm\n"
     ]
    }
   ],
   "source": [
    "### 继承list的方式实现stack\n",
    "class stack(list):\n",
    "    def isEmpty(self):\n",
    "        return self==[]\n",
    "    def push(self, item):\n",
    "        self.append(item)\n",
    "    #def pop(self):\n",
    "    #   return super().pop()\n",
    "    #此处省略完整实现...\n",
    "ss = stack()\n",
    "print(ss.isEmpty())\n",
    "ss.push(\"xzm\")\n",
    "print(ss.pop())"
   ]
  },
  {
   "cell_type": "code",
   "execution_count": 145,
   "metadata": {},
   "outputs": [
    {
     "name": "stdout",
     "output_type": "stream",
     "text": [
      "True\n",
      "False\n",
      "False\n"
     ]
    }
   ],
   "source": [
    "#括号匹配\n",
    "def parChecker(symbolString):\n",
    "    s = Stack()\n",
    "    for c in symbolString:\n",
    "        if c=='(':\n",
    "            s.push(c)\n",
    "        else : # 输入的字符，不是'('，就当成')'了\n",
    "            if s.isEmpty():\n",
    "                return False\n",
    "            else:\n",
    "                s.pop()\n",
    "    else:\n",
    "        return s.isEmpty()\n",
    "print(parChecker(\"((()))\"))\n",
    "print(parChecker(\"(()\"))\n",
    "print(parChecker(\"())\"))"
   ]
  },
  {
   "cell_type": "code",
   "execution_count": 109,
   "metadata": {},
   "outputs": [
    {
     "name": "stdout",
     "output_type": "stream",
     "text": [
      "[ ( *\n",
      "[ (, [ *\n",
      "[ (, [, { *\n",
      "[ (, [ *\n",
      "[ ( *\n",
      "[  *\n",
      "True\n",
      "[ ( *\n",
      "[ (, [ *\n",
      "[ (, [, { *\n",
      "[ (, [ *\n",
      "[ ( *\n",
      "False\n"
     ]
    }
   ],
   "source": [
    "#多种括号匹配(),[],{}\n",
    "pars={'(':')','[':']','{':'}'}\n",
    "def parChecker(symbolString):\n",
    "    s = Stack()\n",
    "    for c in symbolString:\n",
    "        if c in pars:\n",
    "            s.push(c)\n",
    "        else : \n",
    "            if s.isEmpty():\n",
    "                return False\n",
    "            elif pars[s.peek()] == c:\n",
    "                s.pop()\n",
    "            else:\n",
    "                return False\n",
    "    else:\n",
    "        return s.isEmpty()\n",
    "print(parChecker(\"([{}])\"))\n",
    "print(parChecker(\"([{}]a)\"))"
   ]
  },
  {
   "cell_type": "code",
   "execution_count": 150,
   "metadata": {},
   "outputs": [
    {
     "name": "stdout",
     "output_type": "stream",
     "text": [
      "A B 5 * +\n",
      "A B + 5 *\n"
     ]
    }
   ],
   "source": [
    "#中缀转后缀代码\n",
    "prec = {\"*\":3,\n",
    "        \"/\":3,\n",
    "        \"+\":2,\n",
    "        \"-\":2}\n",
    "def infixToPostfix(infixexpr):\n",
    "    opStack = Stack()\n",
    "    postfixList = []\n",
    "    tokenList = infixexpr.split()\n",
    "    for token in tokenList:\n",
    "        if token in \"ABCDEFGHIJKLMNOPQRSTUVWXYZ\" \\\n",
    "          or token in \"0123456789\":  #操作数的处理\n",
    "            postfixList.append(token)\n",
    "        elif token == '(':           #标记子表达式开始\n",
    "            opStack.push(token)\n",
    "        elif token == ')':           #子表达式结束\n",
    "            while opStack.peek() != '(':\n",
    "                postfixList.append(opStack.pop())\n",
    "            else:\n",
    "                opStack.pop()        #弹出'('\n",
    "        else:                        #操作符\n",
    "            while (not opStack.isEmpty() \n",
    "                   and opStack.peek() != '('\n",
    "                   and prec[opStack.peek()] >= prec[token]):\n",
    "                postfixList.append(opStack.pop())\n",
    "            opStack.push(token)     #所有操作符都必须进栈等待\n",
    "    while not opStack.isEmpty():\n",
    "        postfixList.append(opStack.pop())\n",
    "    return \" \".join(postfixList)\n",
    "\n",
    "print(infixToPostfix(\"A + B * 5\"))\n",
    "print(infixToPostfix(\"( A + B ) * 5\"))"
   ]
  },
  {
   "cell_type": "code",
   "execution_count": 144,
   "metadata": {},
   "outputs": [
    {
     "name": "stdout",
     "output_type": "stream",
     "text": [
      "None 20\n"
     ]
    }
   ],
   "source": [
    "class ListNode:\n",
    "     def __init__(self, val=0, next=None):\n",
    "         self.val = val\n",
    "         self.next = next\n",
    "            \n",
    "def next(l):\n",
    "    return l.next, l.val\n",
    "\n",
    "l1=ListNode(20)\n",
    "l1, num = next(l1)\n",
    "print(l1, num)\n"
   ]
  },
  {
   "cell_type": "markdown",
   "metadata": {},
   "source": [
    "比较“==”与“=”的优先级"
   ]
  },
  {
   "cell_type": "code",
   "execution_count": 152,
   "metadata": {},
   "outputs": [
    {
     "name": "stdout",
     "output_type": "stream",
     "text": [
      "False\n"
     ]
    }
   ],
   "source": [
    "f = 4==5\n",
    "print(f)"
   ]
  },
  {
   "cell_type": "markdown",
   "metadata": {},
   "source": [
    "特殊函数的调用，不会出现多重歧义。"
   ]
  },
  {
   "cell_type": "code",
   "execution_count": 157,
   "metadata": {},
   "outputs": [
    {
     "name": "stdout",
     "output_type": "stream",
     "text": [
      "<__main__.foo object at 0x7f85cb32bed0>\n"
     ]
    }
   ],
   "source": [
    "class foo:\n",
    "    def __init__(self, num):\n",
    "        self.num = num\n",
    "    def __int__(self):\n",
    "        return self.num\n",
    "    #def __str__(self):\n",
    "    #   return \"hello\"\n",
    "    \n",
    "b = foo(24)\n",
    "print(b)"
   ]
  },
  {
   "cell_type": "markdown",
   "metadata": {},
   "source": [
    "#### Python list实现Queue"
   ]
  },
  {
   "cell_type": "code",
   "execution_count": 193,
   "metadata": {},
   "outputs": [],
   "source": [
    "class Queue_on_list:\n",
    "    def __init__(self):\n",
    "        self.items = []\n",
    "    def isEmpty(self):\n",
    "        return self.items == []\n",
    "    def enqueue(self, item):\n",
    "        self.items.insert(0, item) #0为队尾\n",
    "    def dequeue(self):\n",
    "        return self.items.pop()\n",
    "    def size(self):\n",
    "        return len(self.items)"
   ]
  },
  {
   "cell_type": "raw",
   "metadata": {},
   "source": [
    "热土豆问题"
   ]
  },
  {
   "cell_type": "code",
   "execution_count": 216,
   "metadata": {},
   "outputs": [
    {
     "name": "stdout",
     "output_type": "stream",
     "text": [
      "Susan\n"
     ]
    }
   ],
   "source": [
    "Queue = Queue_on_list\n",
    "def hotPotato(namelist, num):\n",
    "    que =Queue()\n",
    "    for name in namelist:\n",
    "        que.enqueue(name)\n",
    "    while que.size() > 1:\n",
    "        for i in range(num):\n",
    "            que.enqueue(que.dequeue())\n",
    "        que.dequeue()  #杀掉一个\n",
    "    return que.dequeue()\n",
    "        \n",
    "print(hotPotato([\"Bill\",\"David\", \"Susan\", \"Jane\", \"Kent\", \"Brad\"],7))"
   ]
  },
  {
   "cell_type": "markdown",
   "metadata": {},
   "source": [
    "##### 打印任务问题"
   ]
  },
  {
   "cell_type": "code",
   "execution_count": 379,
   "metadata": {},
   "outputs": [
    {
     "name": "stdout",
     "output_type": "stream",
     "text": [
      "Average Wait 10.056 secs 0 tasks remaining.\n",
      "Average Wait 15.341 secs 0 tasks remaining.\n",
      "Average Wait 19.727 secs 0 tasks remaining.\n",
      "Average Wait 0.852 secs 0 tasks remaining.\n",
      "Average Wait 15.367 secs 0 tasks remaining.\n",
      "Average Wait 39.648 secs 1 tasks remaining.\n",
      "Average Wait 16.306 secs 0 tasks remaining.\n",
      "Average Wait 19.816 secs 0 tasks remaining.\n",
      "Average Wait 21.730 secs 0 tasks remaining.\n",
      "Average Wait 47.487 secs 0 tasks remaining.\n"
     ]
    }
   ],
   "source": [
    "import random\n",
    "class Task:\n",
    "    def __init__(self, time):\n",
    "        self.arrive_time = time\n",
    "        self.pages = random.randrange(1,21)\n",
    "    def waitTime(self, current_time):\n",
    "        return current_time - self.arrive_time\n",
    "    \n",
    "Queue = Queue_on_list\n",
    "\n",
    "class Printer:\n",
    "    def __init__(self,ppm):\n",
    "        self.pagerate = ppm    #打印速度，每分钟几页\n",
    "        self.currentTask = None \n",
    "        self.timeRemaining = 0 #任务倒计时\n",
    "    def tick(self):\n",
    "        if self.currentTask != None:\n",
    "            self.timeRemaining -= 1\n",
    "            if self.timeRemaining <= 0:\n",
    "                self.currentTask = None\n",
    "    def busy(self):\n",
    "        return self.currentTask != None\n",
    "    def startNext(self, newtask):\n",
    "        self.currentTask = newtask\n",
    "        self.timeRemaining = newtask.pages * 60 / self.pagerate\n",
    "\n",
    "def newPrintTask():\n",
    "    num = random.randrange(1,181)\n",
    "    return num == 180\n",
    "\n",
    "def simulation(numSeconds, pagesPerMinute):\n",
    "    labprinter = Printer(pagesPerMinute)\n",
    "    printQueue = Queue()\n",
    "    waitingtimes = []\n",
    "    for currentSecond in range(numSeconds):\n",
    "        if newPrintTask():\n",
    "            printQueue.enqueue(Task(currentSecond))\n",
    "        if (not labprinter.busy()) and \\\n",
    "           (not printQueue.isEmpty()):\n",
    "            nexttask = printQueue.dequeue()\n",
    "            waitingtimes.append(nexttask.waitTime(currentSecond))\n",
    "            labprinter.startNext(nexttask)\n",
    "        labprinter.tick()\n",
    "    #模拟结束，统计结果\n",
    "    averageWait = sum(waitingtimes)/len(waitingtimes)\n",
    "    print(\"Average Wait {:.3f} secs {} tasks remaining.\".format(\n",
    "        averageWait, printQueue.size()))\n",
    "\n",
    "for i in range(10):\n",
    "    simulation(7200,10)"
   ]
  },
  {
   "cell_type": "markdown",
   "metadata": {},
   "source": [
    "#### Python list实现Deque"
   ]
  },
  {
   "cell_type": "code",
   "execution_count": 361,
   "metadata": {},
   "outputs": [],
   "source": [
    "class Deque_on_list:\n",
    "    def __init__(self):\n",
    "        self.items = []\n",
    "    def isEmpty(self):\n",
    "        return self.items == []\n",
    "    def addFront(self, item):\n",
    "        self.items.append(item)\n",
    "    def addRear(self, item):   # 0位置当尾巴\n",
    "        self.items.insert(0, item)\n",
    "    def removeFront(self):\n",
    "        return self.items.pop()\n",
    "    def removeRear(self):\n",
    "        return self.items.pop(0)\n",
    "    def size(self):\n",
    "        return len(self.items)"
   ]
  },
  {
   "cell_type": "markdown",
   "metadata": {},
   "source": [
    "“回文词”判定"
   ]
  },
  {
   "cell_type": "code",
   "execution_count": 365,
   "metadata": {},
   "outputs": [
    {
     "name": "stdout",
     "output_type": "stream",
     "text": [
      "lasdsal is palindromic\n",
      "lasdsalaaa is NOT palindromic\n"
     ]
    }
   ],
   "source": [
    "Deque = Deque_on_list\n",
    "\n",
    "def isPalindromic(str):\n",
    "    dq = Deque()\n",
    "    for c in str:\n",
    "        dq.addFront(c)\n",
    "    while dq.size()>1:\n",
    "        if dq.removeFront() != dq.removeRear():\n",
    "            return False\n",
    "    else:\n",
    "        return True\n",
    "\n",
    "print(\"lasdsal is {}palindromic\".format(\"\" if isPalindromic(\"lasdsal\") else \"NOT \"))\n",
    "print(\"lasdsalaaa is {}palindromic\".format(\"\" if isPalindromic(\"lasdsalaaa\") else \"NOT \"))"
   ]
  },
  {
   "cell_type": "markdown",
   "metadata": {},
   "source": [
    "#### 链表的实现"
   ]
  },
  {
   "cell_type": "code",
   "execution_count": 369,
   "metadata": {},
   "outputs": [
    {
     "name": "stdout",
     "output_type": "stream",
     "text": [
      "93\n"
     ]
    }
   ],
   "source": [
    "class Node:\n",
    "    def __init__(self, initdata=None):\n",
    "        self.data = initdata\n",
    "        self.next = None\n",
    "    def getData(self):\n",
    "        return self.data\n",
    "    def getNext(self):\n",
    "        return self.next\n",
    "    def setData(self, newdata):\n",
    "        self.data = newdata\n",
    "    def setNext(self, newnext):\n",
    "        self.next = newnext\n",
    "        \n",
    "temp = Node(93)\n",
    "print(temp.getData())\n",
    "\n",
    "class UnorderedList:\n",
    "    def __init__(self):\n",
    "        self.head = None\n",
    "    def add(self, item):\n",
    "        temp = Node(item)\n",
    "        temp.setNext(self.head)\n",
    "        self.head = temp\n",
    "\n",
    "class UnorderedListWithNulHead:\n",
    "    def __init__(self):\n",
    "        self.head = Node()"
   ]
  },
  {
   "cell_type": "code",
   "execution_count": 376,
   "metadata": {},
   "outputs": [
    {
     "name": "stdout",
     "output_type": "stream",
     "text": [
      "[(Cook,90), (Jack,80)]\n",
      "[(Jack,80), (Cook,90)]\n"
     ]
    }
   ],
   "source": [
    "class Student:\n",
    "    def __init__(self, name, grade):\n",
    "        self.name = name\n",
    "        self.grade = grade\n",
    "    def __lt__(self, other):\n",
    "        return self.grade > other.grade\n",
    "    def __str__(self):\n",
    "        return \"({},{})\".format(self.name, self.grade)\n",
    "    __repr__ = __str__\n",
    "\n",
    "s = []\n",
    "s.append(Student(\"Jack\", 80))\n",
    "s.append(Student(\"Cook\", 90))\n",
    "s.sort()\n",
    "print(s)\n",
    "s.sort(key=lambda x:x.name, reverse=True)\n",
    "print(s)"
   ]
  },
  {
   "cell_type": "markdown",
   "metadata": {},
   "source": [
    "##### 双链表的append和remove\n",
    "小心判断边界条件和保持不变量"
   ]
  },
  {
   "cell_type": "code",
   "execution_count": 3,
   "metadata": {},
   "outputs": [
    {
     "name": "stdout",
     "output_type": "stream",
     "text": [
      "[1, 2, 3]\n",
      "[1, 3]\n",
      "[1, 3]\n",
      "[3]\n",
      "[3]\n"
     ]
    }
   ],
   "source": [
    "class DNode:\n",
    "    def __init__(self, initdata=None):\n",
    "        self.data = initdata\n",
    "        self.next = None\n",
    "        self.prev = None\n",
    "\n",
    "class UnorderedList:\n",
    "    def __init__(self):\n",
    "        self.head = self.tail = None\n",
    "    def __str__(self):\n",
    "        ds, cur = [], self.head\n",
    "        while cur != None:\n",
    "            ds.append(cur.data)\n",
    "            cur = cur.next\n",
    "        return \"{}\".format(ds)\n",
    "    def append(self, data):\n",
    "        temp = DNode(data)\n",
    "        if self.head == None:                 #插入空表\n",
    "            self.head = self.tail = temp\n",
    "        else:\n",
    "            self.tail.next = temp             #从表尾插入\n",
    "            temp.prev = self.tail\n",
    "            self.tail = temp\n",
    "    def remove(self, data):\n",
    "        curr = self.head\n",
    "        while curr != None:\n",
    "            if curr.data == data:\n",
    "                break\n",
    "            curr = curr.next\n",
    "        else:\n",
    "            return                           #即使空表，也在这里返回\n",
    "        #if self.tail == self.head:           #唯一元素  为什么这个地方要单独判断？\n",
    "         #   self.tail = self.head = None\n",
    "        if self.tail == curr:              #删尾\n",
    "            self.tail = self.tail.prev               # ---> 看这里。\n",
    "            self.tail.next = None\n",
    "        elif self.head == curr:\n",
    "            self.head = self.head.next\n",
    "            self.head.next = None\n",
    "        else:\n",
    "            curr.prev.next = curr.next\n",
    "            curr.next.prev = curr.prev\n",
    "        return\n",
    "\n",
    "dl = UnorderedList()\n",
    "dl.append(1)\n",
    "dl.append(2)\n",
    "dl.append(3)\n",
    "print(dl)\n",
    "dl.remove(2); print(dl)\n",
    "dl.remove(2); print(dl)\n",
    "dl.remove(1); print(dl)\n",
    "dl.remove(3); print(dl)"
   ]
  },
  {
   "cell_type": "markdown",
   "metadata": {},
   "source": [
    "#### 海龟作图在Jupiter Notebook中不正常"
   ]
  },
  {
   "cell_type": "code",
   "execution_count": 1,
   "metadata": {},
   "outputs": [],
   "source": [
    "import turtle\n",
    "t = turtle.Turtle()\n",
    "w = turtle.Screen()\n",
    "t.forward(100)\n",
    "w.exitonclick()"
   ]
  },
  {
   "cell_type": "markdown",
   "metadata": {},
   "source": [
    "#### 递归法找硬币"
   ]
  },
  {
   "cell_type": "code",
   "execution_count": 37,
   "metadata": {},
   "outputs": [
    {
     "name": "stdout",
     "output_type": "stream",
     "text": [
      "6\n"
     ]
    }
   ],
   "source": [
    "def recMC(coinValueList, change):\n",
    "    if change in coinValueList:\n",
    "        return 1\n",
    "    return 1+min([recMC(coinValueList, change-c) \n",
    "                for c in coinValueList if c <= change],default=change)\n",
    "\n",
    "print(recMC([1,5,10,25], 63))"
   ]
  },
  {
   "cell_type": "code",
   "execution_count": 4,
   "metadata": {},
   "outputs": [],
   "source": [
    "#### 递归法找硬币(带中间结果缓存)"
   ]
  },
  {
   "cell_type": "code",
   "execution_count": 39,
   "metadata": {},
   "outputs": [
    {
     "name": "stdout",
     "output_type": "stream",
     "text": [
      "6\n"
     ]
    }
   ],
   "source": [
    "def recMC(coinValueList, change, knownResults):\n",
    "    if knownResults[change] > 0:\n",
    "        return knownResults[change]\n",
    "    elif change in coinValueList:\n",
    "        knownResults[change] = 1\n",
    "        return 1\n",
    "    knownResults[change] = 1+min([recMC(coinValueList, change-c, knownResults) \n",
    "                for c in coinValueList if c <= change],default=change)\n",
    "    return knownResults[change]\n",
    "\n",
    "print(recMC([1,5,10,25], 63, [0]*64))"
   ]
  },
  {
   "cell_type": "markdown",
   "metadata": {},
   "source": [
    "#### 动规找硬币"
   ]
  },
  {
   "cell_type": "code",
   "execution_count": 11,
   "metadata": {},
   "outputs": [
    {
     "name": "stdout",
     "output_type": "stream",
     "text": [
      "6\n"
     ]
    }
   ],
   "source": [
    "def dpMC(coinValueList, change, minCoins):\n",
    "    for cents in range(change+1):\n",
    "        # minCoins[less than cents] ==> minCoins[cents]\n",
    "        minCoins[cents] = min([1+minCoins[cents-c]\n",
    "             for c in coinValueList if c <= cents], default=cents)\n",
    "    return minCoins[change]\n",
    "\n",
    "print(dpMC([1,5,10,25], 63, [0]*64))"
   ]
  },
  {
   "cell_type": "markdown",
   "metadata": {},
   "source": [
    "#### 动规找硬币（扩展）"
   ]
  },
  {
   "cell_type": "code",
   "execution_count": 17,
   "metadata": {},
   "outputs": [
    {
     "name": "stdout",
     "output_type": "stream",
     "text": [
      "6\n",
      "1 1 1 10 25 25 \n",
      "3\n",
      "21 21 21 \n"
     ]
    }
   ],
   "source": [
    "def dpMC(coinValueList, change, minCoins, coinsUsed):\n",
    "    for cents in range(change+1):\n",
    "        # minCoins[less than cents] ==> minCoins[cents] \n",
    "        ll = [(1+minCoins[cents-c],c) for c in coinValueList if c <= cents]\n",
    "        minCoins[cents], coinsUsed[cents] = min(ll, key=lambda x:x[0], default=(cents, 1))\n",
    "    return minCoins[change]\n",
    "def printCoins(coinsUsed, change):\n",
    "    coin = change\n",
    "    while coin > 0:\n",
    "        thisCoin = coinsUsed[coin]\n",
    "        print(thisCoin, end=' ')\n",
    "        coin -= thisCoin\n",
    "    print()\n",
    "coinsUsed = [0]*64\n",
    "print(dpMC([1,5,10,25], 63, [0]*64, coinsUsed))\n",
    "printCoins(coinsUsed, 63)\n",
    "print(dpMC([1,5,10,21, 25], 63, [0]*64, coinsUsed)) #增加了奇葩21\n",
    "printCoins(coinsUsed, 63)"
   ]
  },
  {
   "cell_type": "markdown",
   "metadata": {},
   "source": [
    "###### O(mn)的字符串查找算法"
   ]
  },
  {
   "cell_type": "code",
   "execution_count": 25,
   "metadata": {},
   "outputs": [
    {
     "name": "stdout",
     "output_type": "stream",
     "text": [
      "6\n",
      "None\n"
     ]
    }
   ],
   "source": [
    "def indexOmn(S, P):\n",
    "    i=0                     #P的读写头\n",
    "    j=0                     #S的读写头\n",
    "    while i<len(P) and j<len(S):\n",
    "        if P[i] == S[j]:    #两个读写头下的字符相等\n",
    "            i += 1\n",
    "            j += 1\n",
    "        else:               #不等\n",
    "            j = j - i + 1   #把P右移一格，重新比较\n",
    "            i = 0\n",
    "    else:\n",
    "        if i == len(P):     #找到了一个匹配\n",
    "            return j-i\n",
    "        else:\n",
    "            return None\n",
    "\n",
    "print(indexOmn(\"baababababacaca\", \"ababaca\"))\n",
    "print(indexOmn(\"baababababacaca\", \"ababaxa\"))"
   ]
  },
  {
   "cell_type": "markdown",
   "metadata": {},
   "source": [
    "##### 求Pattern所有前缀（包括自身）的最长公共前后缀"
   ]
  },
  {
   "cell_type": "code",
   "execution_count": 31,
   "metadata": {},
   "outputs": [
    {
     "name": "stdout",
     "output_type": "stream",
     "text": [
      "[0, 0, 0, 1, 2, 3, 0]\n",
      "[0, 0, 0, 1, 2, 3, 0, 1]\n"
     ]
    }
   ],
   "source": [
    "def partial(pattern):\n",
    "    ret = [0,0]\n",
    "    for i in range(1, len(pattern)):\n",
    "        j = ret[i]\n",
    "        while j > 0 and pattern[j] != pattern[i]:\n",
    "            j = ret[j]\n",
    "        ret.append(j+1 if pattern[j] == pattern[i] else 0)\n",
    "    return ret\n",
    "\n",
    "print(partial('ababac'))\n",
    "print(partial('ababaca'))"
   ]
  },
  {
   "cell_type": "code",
   "execution_count": 36,
   "metadata": {},
   "outputs": [
    {
     "name": "stdout",
     "output_type": "stream",
     "text": [
      "6\n",
      "None\n"
     ]
    }
   ],
   "source": [
    "def indexKMP(S, P):\n",
    "    i=0                     #P的读写头\n",
    "    j=0                     #S的读写头\n",
    "    part=partial(P)         #计算P的partial\n",
    "    while i<len(P) and j<len(S):\n",
    "        if P[i] == S[j]:    #两个读写头下的字符相等\n",
    "            i += 1\n",
    "            j += 1\n",
    "        else:               #不等\n",
    "            if i == 0:\n",
    "                j += 1\n",
    "            i = part[i]\n",
    "    else:\n",
    "        if i == len(P):     #找到了一个匹配\n",
    "            return j-i\n",
    "        else:\n",
    "            return None\n",
    "\n",
    "print(indexKMP(\"baababababacaca\", \"ababaca\"))\n",
    "print(indexKMP(\"baababababacaca\", \"ababaxa\"))"
   ]
  }
 ],
 "metadata": {
  "kernelspec": {
   "display_name": "Python 3",
   "language": "python",
   "name": "python3"
  },
  "language_info": {
   "codemirror_mode": {
    "name": "ipython",
    "version": 3
   },
   "file_extension": ".py",
   "mimetype": "text/x-python",
   "name": "python",
   "nbconvert_exporter": "python",
   "pygments_lexer": "ipython3",
   "version": "3.7.4"
  }
 },
 "nbformat": 4,
 "nbformat_minor": 4
}
